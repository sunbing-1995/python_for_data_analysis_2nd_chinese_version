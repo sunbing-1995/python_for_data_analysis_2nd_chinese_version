{
 "cells": [
  {
   "cell_type": "markdown",
   "id": "e2a22dd9-f011-4a0f-ae06-ac9dac2d9a31",
   "metadata": {},
   "source": [
    "# 第03章 Python的数据结构、函数和文件"
   ]
  },
  {
   "cell_type": "markdown",
   "id": "cceda4e8-8788-42c1-bc3f-d20eaa7c9b5b",
   "metadata": {},
   "source": [
    "## 3.1 数据结构和序列"
   ]
  },
  {
   "cell_type": "markdown",
   "id": "654e0793-a5ea-4f84-bd20-c3e25fe35839",
   "metadata": {},
   "source": [
    "### 元组"
   ]
  },
  {
   "cell_type": "code",
   "execution_count": null,
   "id": "a4eeb63e-f78b-4d37-a504-59ea2fd0c1fb",
   "metadata": {},
   "outputs": [],
   "source": []
  }
 ],
 "metadata": {
  "kernelspec": {
   "display_name": "Python 3 (ipykernel)",
   "language": "python",
   "name": "python3"
  },
  "language_info": {
   "codemirror_mode": {
    "name": "ipython",
    "version": 3
   },
   "file_extension": ".py",
   "mimetype": "text/x-python",
   "name": "python",
   "nbconvert_exporter": "python",
   "pygments_lexer": "ipython3",
   "version": "3.8.18"
  }
 },
 "nbformat": 4,
 "nbformat_minor": 5
}
