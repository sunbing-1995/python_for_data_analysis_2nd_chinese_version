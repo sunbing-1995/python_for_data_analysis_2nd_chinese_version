{
 "cells": [
  {
   "cell_type": "code",
   "execution_count": 1,
   "id": "87df3f11-44aa-41e7-9224-aa89ae175437",
   "metadata": {},
   "outputs": [],
   "source": [
    "import numpy as np"
   ]
  },
  {
   "cell_type": "markdown",
   "id": "24ad9e6d-dc4b-47e2-9058-2ff253f0bd76",
   "metadata": {},
   "source": [
    "# 第04章 NumPy基础：数组和矢量计算"
   ]
  },
  {
   "cell_type": "markdown",
   "id": "68f83ba9-6eed-4291-a149-2a698d714319",
   "metadata": {},
   "source": [
    "## 4.1 NumPy的ndarray：一种多维数组对象"
   ]
  },
  {
   "cell_type": "markdown",
   "id": "a9f70f30-8bbd-4f32-bd6a-fe3cbae248b8",
   "metadata": {},
   "source": [
    "### 创建ndarray"
   ]
  },
  {
   "cell_type": "code",
   "execution_count": 2,
   "id": "db57c621-85ed-4f69-bcf1-1494f3b9bbbc",
   "metadata": {},
   "outputs": [
    {
     "data": {
      "text/plain": [
       "array([0, 3, 6, 9])"
      ]
     },
     "execution_count": 2,
     "metadata": {},
     "output_type": "execute_result"
    }
   ],
   "source": [
    "np.arange(0,10,3)"
   ]
  },
  {
   "cell_type": "code",
   "execution_count": 3,
   "id": "71a76e60-cd3b-49ef-b3d9-586bbcb12e37",
   "metadata": {},
   "outputs": [
    {
     "data": {
      "text/plain": [
       "(array([0., 0., 0.]),\n",
       " array([[0., 0., 0.],\n",
       "        [0., 0., 0.]]))"
      ]
     },
     "execution_count": 3,
     "metadata": {},
     "output_type": "execute_result"
    }
   ],
   "source": [
    "np.zeros(3), np.zeros((2,3))"
   ]
  },
  {
   "cell_type": "markdown",
   "id": "f5895bd0-4541-4f7e-b754-3a6d3dc334f4",
   "metadata": {},
   "source": [
    "### ndarray的数据类型"
   ]
  },
  {
   "cell_type": "markdown",
   "id": "62b0f611-bda9-4887-9c8c-1c136a233139",
   "metadata": {},
   "source": [
    "### NumPy数组的运算"
   ]
  },
  {
   "cell_type": "markdown",
   "id": "b230bcf1-a65d-4829-b7c9-ed6757bcba2e",
   "metadata": {},
   "source": [
    "### 基本的索引和切片\n",
    "切片是视图 <br/>\n",
    "索引降维，切片不降维"
   ]
  },
  {
   "cell_type": "code",
   "execution_count": 4,
   "id": "9b34a470-3594-4ec0-97fb-076f8f22ca09",
   "metadata": {},
   "outputs": [
    {
     "data": {
      "text/plain": [
       "[0, 1, 2, 3, 4, 5, 6, 7, 8, 9]"
      ]
     },
     "execution_count": 4,
     "metadata": {},
     "output_type": "execute_result"
    }
   ],
   "source": [
    "# 列表 切片是新内存\n",
    "a = list(range(10))\n",
    "b = a[5:8]\n",
    "b[:] = [10, 10, 10]\n",
    "a"
   ]
  },
  {
   "cell_type": "code",
   "execution_count": 5,
   "id": "a501025e-0315-4fbd-8f2a-494b395c29b4",
   "metadata": {},
   "outputs": [
    {
     "data": {
      "text/plain": [
       "(array([0, 1, 2, 3, 4, 5, 6, 7, 8, 9]), 5, array([5, 6, 7]))"
      ]
     },
     "execution_count": 5,
     "metadata": {},
     "output_type": "execute_result"
    }
   ],
   "source": [
    "# 向量\n",
    "arr = np.arange(10)\n",
    "arr, arr[5], arr[5:8] # 索引 切片"
   ]
  },
  {
   "cell_type": "code",
   "execution_count": 6,
   "id": "c216f295-e915-40b5-a2b3-c2b085ac2316",
   "metadata": {},
   "outputs": [
    {
     "data": {
      "text/plain": [
       "array([ 0,  1,  2,  3,  4, 12, 12, 12,  8,  9])"
      ]
     },
     "execution_count": 6,
     "metadata": {},
     "output_type": "execute_result"
    }
   ],
   "source": [
    "# 切片是视图 影响原对象\n",
    "arr[5:8] = 12\n",
    "arr"
   ]
  },
  {
   "cell_type": "code",
   "execution_count": 7,
   "id": "ea821d1c-61f0-452c-a69a-c34d4012cbb3",
   "metadata": {},
   "outputs": [
    {
     "data": {
      "text/plain": [
       "(array([[1, 2, 3],\n",
       "        [4, 5, 6],\n",
       "        [7, 8, 9]]),\n",
       " (3, 3))"
      ]
     },
     "execution_count": 7,
     "metadata": {},
     "output_type": "execute_result"
    }
   ],
   "source": [
    "# 矩阵\n",
    "arr2d = np.array([[1, 2, 3], [4, 5, 6], [7, 8, 9]])\n",
    "arr2d, arr2d.shape"
   ]
  },
  {
   "cell_type": "code",
   "execution_count": 8,
   "id": "b870defc-d915-4c8f-a1f6-b6e2615540b2",
   "metadata": {},
   "outputs": [
    {
     "data": {
      "text/plain": [
       "(3, 3)"
      ]
     },
     "execution_count": 8,
     "metadata": {},
     "output_type": "execute_result"
    }
   ],
   "source": [
    "arr2d[0][2], arr2d[0,2] # 索引"
   ]
  },
  {
   "cell_type": "code",
   "execution_count": 9,
   "id": "34b6c415-0651-4c0f-aeb5-d69379d59674",
   "metadata": {},
   "outputs": [
    {
     "data": {
      "text/plain": [
       "array([1, 2])"
      ]
     },
     "execution_count": 9,
     "metadata": {},
     "output_type": "execute_result"
    }
   ],
   "source": [
    "arr2d[0,:2] # 切片"
   ]
  },
  {
   "cell_type": "code",
   "execution_count": 10,
   "id": "cfccdd49-9740-4989-9931-e4065967b876",
   "metadata": {},
   "outputs": [
    {
     "data": {
      "text/plain": [
       "(array([[[ 1,  2,  3],\n",
       "         [ 4,  5,  6]],\n",
       " \n",
       "        [[ 7,  8,  9],\n",
       "         [10, 11, 12]]]),\n",
       " (2, 2, 3))"
      ]
     },
     "execution_count": 10,
     "metadata": {},
     "output_type": "execute_result"
    }
   ],
   "source": [
    "# 3维\n",
    "arr3d = np.array([[[1, 2, 3], [4, 5, 6]], [[7, 8, 9], [10, 11, 12]]])\n",
    "arr3d,arr3d.shape"
   ]
  },
  {
   "cell_type": "code",
   "execution_count": 11,
   "id": "c689d107-79de-40f8-a404-8c1baeb072b8",
   "metadata": {},
   "outputs": [
    {
     "data": {
      "text/plain": [
       "array([7, 8, 9])"
      ]
     },
     "execution_count": 11,
     "metadata": {},
     "output_type": "execute_result"
    }
   ],
   "source": [
    "arr3d[1,0] # 3维索引"
   ]
  },
  {
   "cell_type": "markdown",
   "id": "abf7a463-4f07-42fc-a1e5-35ac0014e40f",
   "metadata": {},
   "source": [
    "### 切片索引"
   ]
  },
  {
   "cell_type": "code",
   "execution_count": 12,
   "id": "c8a853cf-38e3-4ae8-96f8-452f5952177b",
   "metadata": {},
   "outputs": [
    {
     "data": {
      "text/plain": [
       "(array([ 0,  1,  2,  3,  4, 12, 12, 12,  8,  9]), array([ 1,  2,  3,  4, 12]))"
      ]
     },
     "execution_count": 12,
     "metadata": {},
     "output_type": "execute_result"
    }
   ],
   "source": [
    "# 向量\n",
    "arr, arr[1:6]"
   ]
  },
  {
   "cell_type": "code",
   "execution_count": 13,
   "id": "63aa1a21-6eeb-4a1a-ba79-96e06d3d7a84",
   "metadata": {},
   "outputs": [
    {
     "data": {
      "text/plain": [
       "(array([[1, 2, 3],\n",
       "        [4, 5, 6],\n",
       "        [7, 8, 9]]),\n",
       " array([[1, 2, 3],\n",
       "        [4, 5, 6]]),\n",
       " array([[1, 2],\n",
       "        [4, 5]]),\n",
       " array([[1],\n",
       "        [4],\n",
       "        [7]]))"
      ]
     },
     "execution_count": 13,
     "metadata": {},
     "output_type": "execute_result"
    }
   ],
   "source": [
    "# 矩阵\n",
    "arr2d, arr2d[:2], arr2d[:2, :2], arr2d[:, :1]"
   ]
  },
  {
   "cell_type": "code",
   "execution_count": 14,
   "id": "2ce80d48-2f2c-46e1-9ef6-a2de1f780f1e",
   "metadata": {},
   "outputs": [
    {
     "data": {
      "text/plain": [
       "(array([4, 5]), array([[4, 5]]))"
      ]
     },
     "execution_count": 14,
     "metadata": {},
     "output_type": "execute_result"
    }
   ],
   "source": [
    "# 先索引后切片\n",
    "arr2d[1, :2], arr2d[1:2, :2]"
   ]
  },
  {
   "cell_type": "code",
   "execution_count": 15,
   "id": "f9b8dc49-df99-4ffe-bb12-1865fbcbbc82",
   "metadata": {},
   "outputs": [
    {
     "data": {
      "text/plain": [
       "(array([2, 5]),\n",
       " array([[2],\n",
       "        [5]]))"
      ]
     },
     "execution_count": 15,
     "metadata": {},
     "output_type": "execute_result"
    }
   ],
   "source": [
    "# 先切片后索引\n",
    "arr2d[:2, 1], arr2d[:2, 1:2]"
   ]
  },
  {
   "cell_type": "markdown",
   "id": "5c0a1495-bf8f-4fd9-b4f6-d6699c2fd147",
   "metadata": {},
   "source": [
    "### 布尔型索引\n",
    "通过布尔索引切片获取的数组是创建了一个副本 <br/>\n",
    "不能使用and和or，使用&和｜"
   ]
  },
  {
   "cell_type": "code",
   "execution_count": 16,
   "id": "5648af97-3f0e-46fe-a637-8033c04c0098",
   "metadata": {},
   "outputs": [],
   "source": [
    "names = np.array(['Bob', 'Joe', 'Will', 'Bob', 'Will', 'Joe', 'Joe'])\n",
    "data = np.random.randn(7, 4)"
   ]
  },
  {
   "cell_type": "code",
   "execution_count": 17,
   "id": "05bde1fb-3daa-4f09-af46-c329f395a983",
   "metadata": {},
   "outputs": [
    {
     "data": {
      "text/plain": [
       "array([ True, False, False,  True, False, False, False])"
      ]
     },
     "execution_count": 17,
     "metadata": {},
     "output_type": "execute_result"
    }
   ],
   "source": [
    "names == 'Bob'"
   ]
  },
  {
   "cell_type": "code",
   "execution_count": 18,
   "id": "5f2fd269-c8e2-4333-8316-84745b4ed672",
   "metadata": {},
   "outputs": [
    {
     "data": {
      "text/plain": [
       "array([[-0.74709552,  1.02244131, -0.86470087, -1.27613059],\n",
       "       [ 0.05541897,  0.14797066,  2.18251795,  0.52964654]])"
      ]
     },
     "execution_count": 18,
     "metadata": {},
     "output_type": "execute_result"
    }
   ],
   "source": [
    "data[names == 'Bob'] # 切片"
   ]
  },
  {
   "cell_type": "code",
   "execution_count": 19,
   "id": "06d147b2-6674-4540-b4df-bde9e8135452",
   "metadata": {},
   "outputs": [
    {
     "data": {
      "text/plain": [
       "array([[-0.86470087, -1.27613059],\n",
       "       [ 2.18251795,  0.52964654]])"
      ]
     },
     "execution_count": 19,
     "metadata": {},
     "output_type": "execute_result"
    }
   ],
   "source": [
    "data[names == 'Bob', 2:] # 切片 不降维"
   ]
  },
  {
   "cell_type": "code",
   "execution_count": 20,
   "id": "2d04641d-9295-47b5-9e44-bf7d6a7dfbba",
   "metadata": {},
   "outputs": [
    {
     "data": {
      "text/plain": [
       "array([-1.27613059,  0.52964654])"
      ]
     },
     "execution_count": 20,
     "metadata": {},
     "output_type": "execute_result"
    }
   ],
   "source": [
    "data[names == 'Bob', 3] # 先切片后索引 不降维"
   ]
  },
  {
   "cell_type": "code",
   "execution_count": 21,
   "id": "03b54c7e-ca96-457e-8548-63918f886bf3",
   "metadata": {},
   "outputs": [
    {
     "data": {
      "text/plain": [
       "((7, 4), (2, 4), (2, 2), (2,))"
      ]
     },
     "execution_count": 21,
     "metadata": {},
     "output_type": "execute_result"
    }
   ],
   "source": [
    "data.shape, data[names == 'Bob'].shape,data[names == 'Bob', 2:].shape,data[names == 'Bob', 3].shape"
   ]
  },
  {
   "cell_type": "markdown",
   "id": "9b359a4e-8d7b-42ac-814b-fa4d4b7bd538",
   "metadata": {},
   "source": [
    "### 花式索引"
   ]
  },
  {
   "cell_type": "code",
   "execution_count": 22,
   "id": "802170ec-5b5f-4a1a-8e94-9f60358aa9bd",
   "metadata": {},
   "outputs": [
    {
     "data": {
      "text/plain": [
       "array([[0., 0., 0., 0.],\n",
       "       [1., 1., 1., 1.],\n",
       "       [2., 2., 2., 2.],\n",
       "       [3., 3., 3., 3.],\n",
       "       [4., 4., 4., 4.],\n",
       "       [5., 5., 5., 5.],\n",
       "       [6., 6., 6., 6.],\n",
       "       [7., 7., 7., 7.]])"
      ]
     },
     "execution_count": 22,
     "metadata": {},
     "output_type": "execute_result"
    }
   ],
   "source": [
    "arr = np.empty((8,4))\n",
    "for i in range(arr.shape[0]):\n",
    "    arr[i] = i\n",
    "arr"
   ]
  },
  {
   "cell_type": "code",
   "execution_count": 23,
   "id": "22152624-238b-4ff6-8d13-f1c488974784",
   "metadata": {},
   "outputs": [
    {
     "data": {
      "text/plain": [
       "(array([[4., 4., 4., 4.],\n",
       "        [3., 3., 3., 3.],\n",
       "        [0., 0., 0., 0.],\n",
       "        [6., 6., 6., 6.]]),\n",
       " array([[5., 5., 5., 5.],\n",
       "        [3., 3., 3., 3.],\n",
       "        [1., 1., 1., 1.]]))"
      ]
     },
     "execution_count": 23,
     "metadata": {},
     "output_type": "execute_result"
    }
   ],
   "source": [
    "# 不降维\n",
    "arr[[4,3,0,6]], arr[[-3, -5, -7]]"
   ]
  },
  {
   "cell_type": "code",
   "execution_count": 24,
   "id": "66a7ea27-ebaa-47dd-b714-c77b61500a8b",
   "metadata": {},
   "outputs": [
    {
     "data": {
      "text/plain": [
       "(array([[ 0,  1,  2,  3],\n",
       "        [ 4,  5,  6,  7],\n",
       "        [ 8,  9, 10, 11],\n",
       "        [12, 13, 14, 15],\n",
       "        [16, 17, 18, 19],\n",
       "        [20, 21, 22, 23],\n",
       "        [24, 25, 26, 27],\n",
       "        [28, 29, 30, 31]]),\n",
       " array([ 4, 23, 29, 10]))"
      ]
     },
     "execution_count": 24,
     "metadata": {},
     "output_type": "execute_result"
    }
   ],
   "source": [
    "arr = np.arange(32).reshape((8, 4))\n",
    "# 传多个列表会降维\n",
    "arr, arr[[1, 5, 7, 2], [0, 3, 1, 2]]"
   ]
  },
  {
   "cell_type": "code",
   "execution_count": 25,
   "id": "07eba076-bbba-4074-baf4-eb2f993062d9",
   "metadata": {},
   "outputs": [
    {
     "data": {
      "text/plain": [
       "array([[ 4,  7,  5,  6],\n",
       "       [20, 23, 21, 22],\n",
       "       [28, 31, 29, 30],\n",
       "       [ 8, 11,  9, 10]])"
      ]
     },
     "execution_count": 25,
     "metadata": {},
     "output_type": "execute_result"
    }
   ],
   "source": [
    "arr[[1, 5, 7, 2]][:, [0, 3, 1, 2]]"
   ]
  },
  {
   "cell_type": "markdown",
   "id": "aa32d7e7-b127-4c8c-bb01-d871b2d1c55b",
   "metadata": {},
   "source": [
    "### 数组转置和轴对换\n",
    "它返回的是源数据的视图（不会进行任何复制操作）"
   ]
  },
  {
   "cell_type": "code",
   "execution_count": 26,
   "id": "701601ce-e493-43ec-99b8-f760be3e9213",
   "metadata": {},
   "outputs": [
    {
     "data": {
      "text/plain": [
       "(array([[[ 0,  1,  2,  3],\n",
       "         [ 4,  5,  6,  7]],\n",
       " \n",
       "        [[ 8,  9, 10, 11],\n",
       "         [12, 13, 14, 15]]]),\n",
       " array([[[ 0,  8],\n",
       "         [ 4, 12]],\n",
       " \n",
       "        [[ 1,  9],\n",
       "         [ 5, 13]],\n",
       " \n",
       "        [[ 2, 10],\n",
       "         [ 6, 14]],\n",
       " \n",
       "        [[ 3, 11],\n",
       "         [ 7, 15]]]),\n",
       " array([[[ 0,  1,  2,  3],\n",
       "         [ 8,  9, 10, 11]],\n",
       " \n",
       "        [[ 4,  5,  6,  7],\n",
       "         [12, 13, 14, 15]]]))"
      ]
     },
     "execution_count": 26,
     "metadata": {},
     "output_type": "execute_result"
    }
   ],
   "source": [
    "arr = np.arange(16).reshape((2, 2, 4))\n",
    "arr,arr.T,arr.transpose((1, 0, 2)) # 坐标顺序按现在要求的排列"
   ]
  },
  {
   "cell_type": "code",
   "execution_count": 27,
   "id": "9cfb84b4-2e2f-41f8-83bd-673dbeb53a4f",
   "metadata": {},
   "outputs": [
    {
     "data": {
      "text/plain": [
       "array([[[ 0,  4],\n",
       "        [ 1,  5],\n",
       "        [ 2,  6],\n",
       "        [ 3,  7]],\n",
       "\n",
       "       [[ 8, 12],\n",
       "        [ 9, 13],\n",
       "        [10, 14],\n",
       "        [11, 15]]])"
      ]
     },
     "execution_count": 27,
     "metadata": {},
     "output_type": "execute_result"
    }
   ],
   "source": [
    "arr.swapaxes(1, 2) # 只能两个轴对调"
   ]
  },
  {
   "cell_type": "markdown",
   "id": "03165dc9-1acc-4929-a363-7cfe6dd01024",
   "metadata": {},
   "source": [
    "## 4.2 通用函数：快速的元素级数组函数\n",
    "执行元素级运算的函数 <br/>\n",
    "通过out参数在原数据上操作"
   ]
  },
  {
   "cell_type": "code",
   "execution_count": 28,
   "id": "e55a8194-5837-46ea-849a-40677df0c375",
   "metadata": {},
   "outputs": [],
   "source": [
    "# 一元\n",
    "arr = np.arange(10)"
   ]
  },
  {
   "cell_type": "code",
   "execution_count": 29,
   "id": "849031e7-121a-4c9f-8eb2-3018fc9df8e5",
   "metadata": {},
   "outputs": [
    {
     "data": {
      "text/plain": [
       "array([0.        , 1.        , 1.41421356, 1.73205081, 2.        ,\n",
       "       2.23606798, 2.44948974, 2.64575131, 2.82842712, 3.        ])"
      ]
     },
     "execution_count": 29,
     "metadata": {},
     "output_type": "execute_result"
    }
   ],
   "source": [
    "np.sqrt(arr)"
   ]
  },
  {
   "cell_type": "code",
   "execution_count": 30,
   "id": "14eae37a-d77b-4018-ac9e-7e548ff35afd",
   "metadata": {},
   "outputs": [
    {
     "data": {
      "text/plain": [
       "array([1.00000000e+00, 2.71828183e+00, 7.38905610e+00, 2.00855369e+01,\n",
       "       5.45981500e+01, 1.48413159e+02, 4.03428793e+02, 1.09663316e+03,\n",
       "       2.98095799e+03, 8.10308393e+03])"
      ]
     },
     "execution_count": 30,
     "metadata": {},
     "output_type": "execute_result"
    }
   ],
   "source": [
    "np.exp(arr)"
   ]
  },
  {
   "cell_type": "code",
   "execution_count": 31,
   "id": "f2867386-68e5-4113-a2cb-61fd594d47c7",
   "metadata": {},
   "outputs": [
    {
     "data": {
      "text/plain": [
       "(array([-0.14245613,  0.72969798, -0.35995731, -0.45689739,  1.22835411,\n",
       "        -0.64254822,  1.14375159, -0.63517402]),\n",
       " array([-0.91842998, -0.019659  , -0.41509625, -0.77446107, -0.53769319,\n",
       "        -0.0921869 ,  0.35508434,  0.16609225]))"
      ]
     },
     "execution_count": 31,
     "metadata": {},
     "output_type": "execute_result"
    }
   ],
   "source": [
    "# 二元\n",
    "x = np.random.randn(8)\n",
    "y = np.random.randn(8)\n",
    "x,y"
   ]
  },
  {
   "cell_type": "code",
   "execution_count": 32,
   "id": "1c32d249-184c-4c0c-92f5-2d6e1afba310",
   "metadata": {},
   "outputs": [
    {
     "data": {
      "text/plain": [
       "array([-0.14245613,  0.72969798, -0.35995731, -0.45689739,  1.22835411,\n",
       "       -0.0921869 ,  1.14375159,  0.16609225])"
      ]
     },
     "execution_count": 32,
     "metadata": {},
     "output_type": "execute_result"
    }
   ],
   "source": [
    "np.maximum(x, y) # 计算了x和y中元素级别最大的元素"
   ]
  },
  {
   "cell_type": "code",
   "execution_count": 33,
   "id": "d87a0c2e-1239-4865-ba1a-bc629756d218",
   "metadata": {},
   "outputs": [
    {
     "data": {
      "text/plain": [
       "(array([-4.391394  ,  2.85642084, -3.26195837,  7.72428548, -2.03194373,\n",
       "         9.95461974,  4.08423246]),\n",
       " array([-0.391394  ,  0.85642084, -0.26195837,  0.72428548, -0.03194373,\n",
       "         0.95461974,  0.08423246]),\n",
       " array([-4.,  2., -3.,  7., -2.,  9.,  4.]))"
      ]
     },
     "execution_count": 33,
     "metadata": {},
     "output_type": "execute_result"
    }
   ],
   "source": [
    "# 返回多个值\n",
    "arr = np.random.randn(7) * 5\n",
    "remainder, whole_part = np.modf(arr) # 分别获取小数部分和整数部分\n",
    "arr, remainder, whole_part"
   ]
  },
  {
   "cell_type": "code",
   "execution_count": 34,
   "id": "a343b2a6-c112-4d5f-b483-92ed7cb0df96",
   "metadata": {},
   "outputs": [
    {
     "name": "stderr",
     "output_type": "stream",
     "text": [
      "C:\\Users\\bing\\AppData\\Local\\Temp\\ipykernel_21160\\851401715.py:2: RuntimeWarning: invalid value encountered in sqrt\n",
      "  np.sqrt(arr,arr)\n"
     ]
    },
    {
     "data": {
      "text/plain": [
       "array([       nan, 1.69009492,        nan, 2.77925988,        nan,\n",
       "       3.15509425, 2.02094841])"
      ]
     },
     "execution_count": 34,
     "metadata": {},
     "output_type": "execute_result"
    }
   ],
   "source": [
    "# 通过out参数 在原内存上操作\n",
    "np.sqrt(arr,arr)"
   ]
  },
  {
   "cell_type": "markdown",
   "id": "c81741be-ca30-4e0c-b64c-fb0954761c18",
   "metadata": {},
   "source": [
    "## 4.3 利用数组进行数据处理"
   ]
  },
  {
   "cell_type": "code",
   "execution_count": 35,
   "id": "1d43def5-2f89-408a-894f-691bed23970c",
   "metadata": {},
   "outputs": [
    {
     "data": {
      "text/plain": [
       "(array([0, 1, 2]),\n",
       " array([[0, 1, 2],\n",
       "        [0, 1, 2],\n",
       "        [0, 1, 2]]),\n",
       " array([[0, 0, 0],\n",
       "        [1, 1, 1],\n",
       "        [2, 2, 2]]))"
      ]
     },
     "execution_count": 35,
     "metadata": {},
     "output_type": "execute_result"
    }
   ],
   "source": [
    "# 网格坐标制作\n",
    "points = np.arange(0, 3, 1)\n",
    "xs, ys = np.meshgrid(points, points)\n",
    "points, xs, ys"
   ]
  },
  {
   "cell_type": "code",
   "execution_count": 36,
   "id": "420c4656-cc87-44c6-84e0-7520a67ad532",
   "metadata": {},
   "outputs": [],
   "source": [
    "points = np.arange(-5, 5, 0.01)\n",
    "xs, ys = np.meshgrid(points, points)\n",
    "# points, xs, ys"
   ]
  },
  {
   "cell_type": "code",
   "execution_count": 37,
   "id": "e376da52-7232-46e0-a0dd-eed182c34088",
   "metadata": {},
   "outputs": [],
   "source": [
    "z = np.sqrt(xs ** 2 + ys ** 2)\n",
    "# %matplotlib inline\n",
    "# import matplotlib.pyplot as plt\n",
    "\n",
    "# plt.imshow(z, cmap=plt.cm.gray); plt.colorbar()\n",
    "# plt.title(\"Image plot of $\\sqrt{x^2 + y^2}$ for a grid of values\")"
   ]
  },
  {
   "cell_type": "markdown",
   "id": "a1c8d7c6-bbcc-42fe-bc0b-6e207bd19069",
   "metadata": {},
   "source": [
    "### 将条件逻辑表述为数组运算\n",
    "where通常用于根据另一个数组而产生一个新的数组"
   ]
  },
  {
   "cell_type": "code",
   "execution_count": 38,
   "id": "1df505b1-9f11-495d-8614-2a3e982be804",
   "metadata": {},
   "outputs": [
    {
     "data": {
      "text/plain": [
       "array([1.1, 2.2, 1.3, 1.4, 2.5])"
      ]
     },
     "execution_count": 38,
     "metadata": {},
     "output_type": "execute_result"
    }
   ],
   "source": [
    "xarr = np.array([1.1, 1.2, 1.3, 1.4, 1.5])\n",
    "yarr = np.array([2.1, 2.2, 2.3, 2.4, 2.5])\n",
    "cond = np.array([True, False, True, True, False])\n",
    "\n",
    "np.where(cond, xarr, yarr)"
   ]
  },
  {
   "cell_type": "code",
   "execution_count": 39,
   "id": "ea48798f-a31c-43ea-b9e6-273080133397",
   "metadata": {},
   "outputs": [
    {
     "data": {
      "text/plain": [
       "array([[ 2.        , -0.35549041, -0.01789432,  2.        ],\n",
       "       [-0.5532273 ,  2.        ,  2.        , -0.31353844],\n",
       "       [-0.32427219, -0.34516449,  2.        ,  2.        ],\n",
       "       [ 2.        ,  2.        ,  2.        ,  2.        ]])"
      ]
     },
     "execution_count": 39,
     "metadata": {},
     "output_type": "execute_result"
    }
   ],
   "source": [
    "arr = np.random.randn(4, 4)\n",
    "np.where(arr > 0, 2, arr)"
   ]
  },
  {
   "cell_type": "markdown",
   "id": "f1cdd796-2162-4b81-9730-f041acb0abec",
   "metadata": {},
   "source": [
    "### 数学和统计方法"
   ]
  },
  {
   "cell_type": "code",
   "execution_count": 40,
   "id": "5edf2861-eddc-4f1e-b395-98d166da031d",
   "metadata": {},
   "outputs": [
    {
     "data": {
      "text/plain": [
       "array([[ 1.48898645,  0.66387703,  1.27167704,  1.75996294],\n",
       "       [ 0.89675155,  0.35901423, -0.89028208,  0.93841054],\n",
       "       [ 1.16878252,  0.36923624,  0.8956543 ,  1.4180029 ],\n",
       "       [ 1.3575341 ,  0.31094336, -0.36330349, -1.35303571],\n",
       "       [ 0.72002522, -0.66260987,  0.10002801,  0.46079761]])"
      ]
     },
     "execution_count": 40,
     "metadata": {},
     "output_type": "execute_result"
    }
   ],
   "source": [
    "arr = np.random.randn(5, 4)\n",
    "arr"
   ]
  },
  {
   "cell_type": "code",
   "execution_count": 41,
   "id": "8f423406-a6d9-4107-aa43-69b55d1e30ba",
   "metadata": {},
   "outputs": [
    {
     "data": {
      "text/plain": [
       "(0.5455226453012891,\n",
       " 0.5455226453012891,\n",
       " array([ 1.29612587,  0.32597356,  0.96291899, -0.01196543,  0.15456024]))"
      ]
     },
     "execution_count": 41,
     "metadata": {},
     "output_type": "execute_result"
    }
   ],
   "source": [
    "arr.mean(),np.mean(arr), arr.mean(axis=1)"
   ]
  },
  {
   "cell_type": "code",
   "execution_count": 42,
   "id": "97ff4aee-6da2-4548-a44c-d7224921394b",
   "metadata": {},
   "outputs": [
    {
     "data": {
      "text/plain": [
       "(10.910452906025784, array([5.63207985, 1.04046099, 1.01377378, 3.22413829]))"
      ]
     },
     "execution_count": 42,
     "metadata": {},
     "output_type": "execute_result"
    }
   ],
   "source": [
    "arr.sum(), arr.sum(axis=0)"
   ]
  },
  {
   "cell_type": "code",
   "execution_count": 43,
   "id": "552fe275-6177-49e4-bac8-7c521cfa396b",
   "metadata": {},
   "outputs": [
    {
     "data": {
      "text/plain": [
       "array([ 0,  1,  3,  6, 10, 15, 21, 28])"
      ]
     },
     "execution_count": 43,
     "metadata": {},
     "output_type": "execute_result"
    }
   ],
   "source": [
    "# 向量累加\n",
    "arr = np.array([0, 1, 2, 3, 4, 5, 6, 7])\n",
    "arr.cumsum()"
   ]
  },
  {
   "cell_type": "code",
   "execution_count": 44,
   "id": "75e591b4-34e0-4df7-a22d-0a929c6ddaa2",
   "metadata": {},
   "outputs": [
    {
     "data": {
      "text/plain": [
       "(array([[0, 1, 2],\n",
       "        [3, 4, 5],\n",
       "        [6, 7, 8]]),\n",
       " array([ 0,  1,  3,  6, 10, 15, 21, 28, 36]),\n",
       " array([[ 0,  1,  2],\n",
       "        [ 3,  5,  7],\n",
       "        [ 9, 12, 15]]),\n",
       " array([[  0,   0,   0],\n",
       "        [  3,  12,  60],\n",
       "        [  6,  42, 336]]))"
      ]
     },
     "execution_count": 44,
     "metadata": {},
     "output_type": "execute_result"
    }
   ],
   "source": [
    "arr = np.array([[0, 1, 2], [3, 4, 5], [6, 7, 8]])\n",
    "arr, arr.cumsum(),arr.cumsum(axis=0),arr.cumprod(axis=1)"
   ]
  },
  {
   "cell_type": "markdown",
   "id": "52759440-d3b6-401f-a6a4-db045bfff17f",
   "metadata": {},
   "source": [
    "### 用于布尔型数组的方法"
   ]
  },
  {
   "cell_type": "code",
   "execution_count": 45,
   "id": "b673750b-3157-4eed-974e-d773625c4a1a",
   "metadata": {},
   "outputs": [
    {
     "data": {
      "text/plain": [
       "50"
      ]
     },
     "execution_count": 45,
     "metadata": {},
     "output_type": "execute_result"
    }
   ],
   "source": [
    "arr = np.random.randn(100)\n",
    "(arr > 0).sum()"
   ]
  },
  {
   "cell_type": "code",
   "execution_count": 46,
   "id": "d953c756-1549-4d09-97fc-ccae160438ea",
   "metadata": {},
   "outputs": [
    {
     "data": {
      "text/plain": [
       "(True, False)"
      ]
     },
     "execution_count": 46,
     "metadata": {},
     "output_type": "execute_result"
    }
   ],
   "source": [
    "bools = np.array([False, False, True, False])\n",
    "bools.any(),bools.all()"
   ]
  },
  {
   "cell_type": "markdown",
   "id": "8fd11363-9767-452d-9261-65fb947e8858",
   "metadata": {},
   "source": [
    "### 排序\n",
    "np.sort返回的是数组的已排序副本，而就地排序则会修改数组本身。"
   ]
  },
  {
   "cell_type": "code",
   "execution_count": 47,
   "id": "1795dd6a-300e-4917-b5c1-136cce701f2c",
   "metadata": {},
   "outputs": [
    {
     "data": {
      "text/plain": [
       "array([-0.49879654,  0.01406013,  0.46181973,  1.10137011,  1.50008576,\n",
       "        2.51915417])"
      ]
     },
     "execution_count": 47,
     "metadata": {},
     "output_type": "execute_result"
    }
   ],
   "source": [
    "arr = np.random.randn(6)\n",
    "arr.sort() # 本身排序\n",
    "np.sort(arr) # 返回副本"
   ]
  },
  {
   "cell_type": "code",
   "execution_count": 48,
   "id": "895210f8-4d84-4d1e-b277-c6e1ec411845",
   "metadata": {},
   "outputs": [
    {
     "data": {
      "text/plain": [
       "-1.6749423555272869"
      ]
     },
     "execution_count": 48,
     "metadata": {},
     "output_type": "execute_result"
    }
   ],
   "source": [
    "# 5%的数\n",
    "large_arr = np.random.randn(1000)\n",
    "large_arr.sort()\n",
    "large_arr[int(0.05*len(large_arr))]"
   ]
  },
  {
   "cell_type": "markdown",
   "id": "08c50ea6-c444-4b3a-8c36-68dc5d8aa74b",
   "metadata": {},
   "source": [
    "### 唯一化以及其它的集合逻辑"
   ]
  },
  {
   "cell_type": "code",
   "execution_count": 49,
   "id": "15be986e-de4a-4539-9926-ad6650bac476",
   "metadata": {},
   "outputs": [
    {
     "data": {
      "text/plain": [
       "(array(['Bob', 'Joe', 'Will'], dtype='<U4'), array([1, 2, 3, 4]))"
      ]
     },
     "execution_count": 49,
     "metadata": {},
     "output_type": "execute_result"
    }
   ],
   "source": [
    "# 去重且排序\n",
    "names = np.array(['Bob', 'Joe', 'Will', 'Bob', 'Will', 'Joe', 'Joe'])\n",
    "ints = np.array([3, 3, 3, 2, 2, 1, 1, 4, 4])\n",
    "\n",
    "np.unique(names),np.unique(ints)"
   ]
  },
  {
   "cell_type": "code",
   "execution_count": 50,
   "id": "51ddf5b2-2b74-456f-aba0-48f43f3cb2b0",
   "metadata": {},
   "outputs": [
    {
     "data": {
      "text/plain": [
       "array([ True, False, False,  True,  True, False,  True])"
      ]
     },
     "execution_count": 50,
     "metadata": {},
     "output_type": "execute_result"
    }
   ],
   "source": [
    "# 判断给的向量是否在给定向量里\n",
    "values = np.array([6, 0, 0, 3, 2, 5, 6])\n",
    "np.in1d(values, [2, 3, 6])"
   ]
  },
  {
   "cell_type": "markdown",
   "id": "80ebbf4a-5c49-4fd4-8a4e-38e0f693e677",
   "metadata": {},
   "source": [
    "## 4.4 用于数组的文件输入输出"
   ]
  },
  {
   "cell_type": "code",
   "execution_count": 51,
   "id": "054a3de3-a60f-4575-a90c-48fdafca8919",
   "metadata": {},
   "outputs": [],
   "source": [
    "arr = np.arange(10)\n",
    "np.save('some_array', arr)"
   ]
  },
  {
   "cell_type": "code",
   "execution_count": 52,
   "id": "3746aadb-54fa-42f1-97c8-707ac89899d0",
   "metadata": {},
   "outputs": [
    {
     "data": {
      "text/plain": [
       "array([0, 1, 2, 3, 4, 5, 6, 7, 8, 9])"
      ]
     },
     "execution_count": 52,
     "metadata": {},
     "output_type": "execute_result"
    }
   ],
   "source": [
    "np.load('some_array.npy')"
   ]
  },
  {
   "cell_type": "code",
   "execution_count": 53,
   "id": "cb5409a1-9e82-4d8c-b78a-150f3b636675",
   "metadata": {},
   "outputs": [],
   "source": [
    "np.savez('array_archive.npz', a=arr, b=arr)"
   ]
  },
  {
   "cell_type": "code",
   "execution_count": 54,
   "id": "bdccfe99-64c2-49e6-b4fd-61aec6dc76fe",
   "metadata": {},
   "outputs": [
    {
     "data": {
      "text/plain": [
       "array([0, 1, 2, 3, 4, 5, 6, 7, 8, 9])"
      ]
     },
     "execution_count": 54,
     "metadata": {},
     "output_type": "execute_result"
    }
   ],
   "source": [
    "arch = np.load('array_archive.npz')\n",
    "arch['b']"
   ]
  },
  {
   "cell_type": "code",
   "execution_count": 55,
   "id": "bf58b6bd-299a-4512-9154-88a7d7c1857b",
   "metadata": {},
   "outputs": [],
   "source": [
    "# 压缩\n",
    "np.savez_compressed('arrays_compressed.npz', a=arr, b=arr)"
   ]
  },
  {
   "cell_type": "markdown",
   "id": "0495b169-517b-4cca-b3c4-5a04751a9e24",
   "metadata": {},
   "source": [
    "## 4.5 线性代数\n",
    "- dot"
   ]
  },
  {
   "cell_type": "code",
   "execution_count": 56,
   "id": "e61c848a-ee1d-46d6-a4f4-5e9336a77829",
   "metadata": {},
   "outputs": [
    {
     "data": {
      "text/plain": [
       "(array([ 6., 15.]),\n",
       " array([[ 6.],\n",
       "        [15.]]))"
      ]
     },
     "execution_count": 56,
     "metadata": {},
     "output_type": "execute_result"
    }
   ],
   "source": [
    "x = np.array([[1., 2., 3.], [4., 5., 6.]])\n",
    "y = np.array([[6., 23.], [-1, 7], [8, 9]])\n",
    "np.dot(x, np.ones(3)), np.dot(x, np.ones(3).reshape(3,1)) # 矩阵向量计算"
   ]
  },
  {
   "cell_type": "code",
   "execution_count": 57,
   "id": "6f3bdac6-6d40-43bd-9446-586239bef70f",
   "metadata": {},
   "outputs": [
    {
     "data": {
      "text/plain": [
       "array([[ 1.00000000e+00, -1.69107151e-16,  7.44688017e-17,\n",
       "         3.18544054e-16, -4.18494995e-17],\n",
       "       [ 1.48309008e-16,  1.00000000e+00,  6.40137571e-16,\n",
       "        -9.79414117e-16,  1.59830413e-17],\n",
       "       [ 4.19006040e-16, -2.11622866e-15,  1.00000000e+00,\n",
       "        -7.20671450e-16, -5.98209331e-17],\n",
       "       [-4.78760528e-16, -4.69899758e-16, -5.33081033e-16,\n",
       "         1.00000000e+00,  3.44396259e-18],\n",
       "       [-2.84554675e-17, -9.94921474e-16,  1.32164583e-16,\n",
       "         1.24492773e-17,  1.00000000e+00]])"
      ]
     },
     "execution_count": 57,
     "metadata": {},
     "output_type": "execute_result"
    }
   ],
   "source": [
    "from numpy.linalg import inv, qr\n",
    "\n",
    "X = np.random.randn(5, 5) # 方阵\n",
    "mat = X.T.dot(X)\n",
    "mat.dot(inv(mat))"
   ]
  },
  {
   "cell_type": "code",
   "execution_count": 60,
   "id": "f92747f6-ca75-43cf-b115-4297cca3d953",
   "metadata": {},
   "outputs": [
    {
     "data": {
      "text/plain": [
       "(array([[-10.52381416,  -2.02041941,  -6.20419668,   7.24147159,\n",
       "          -4.63371346],\n",
       "        [  0.        ,  -4.40114112,  -5.26350533,   4.55730974,\n",
       "           3.03382234],\n",
       "        [  0.        ,   0.        ,  -3.6808865 ,  -3.34664293,\n",
       "          -1.63058885],\n",
       "        [  0.        ,   0.        ,   0.        ,  -0.39294772,\n",
       "          -0.32119021],\n",
       "        [  0.        ,   0.        ,   0.        ,   0.        ,\n",
       "           4.35887699]]),\n",
       " array([[-0.80678612,  0.32124766,  0.00561056, -0.29852454, -0.39591377],\n",
       "        [-0.02054294, -0.58167202,  0.06966531, -0.79247651,  0.16841429],\n",
       "        [-0.31299671, -0.52265342, -0.72459275,  0.32000221, -0.03782054],\n",
       "        [ 0.40667439,  0.43164053, -0.6644565 , -0.42186058, -0.16980462],\n",
       "        [-0.29210125,  0.31460684, -0.1690508 , -0.04996308,  0.88579056]]))"
      ]
     },
     "execution_count": 60,
     "metadata": {},
     "output_type": "execute_result"
    }
   ],
   "source": [
    "q, r = qr(mat)\n",
    "r,q # q是正交矩阵 q.T@q是单位阵  "
   ]
  },
  {
   "cell_type": "code",
   "execution_count": 62,
   "id": "d036a029-e263-42e4-80af-96a7193d335b",
   "metadata": {},
   "outputs": [
    {
     "data": {
      "text/plain": [
       "array([[ 1.00000000e+00, -1.07462273e-16, -6.88076390e-17,\n",
       "         2.67586342e-18, -1.05958352e-16],\n",
       "       [-1.07462273e-16,  1.00000000e+00,  9.69161867e-17,\n",
       "        -8.87280561e-17, -4.51151763e-17],\n",
       "       [-6.88076390e-17,  9.69161867e-17,  1.00000000e+00,\n",
       "        -2.43253397e-17, -2.74355938e-17],\n",
       "       [ 2.67586342e-18, -8.87280561e-17, -2.43253397e-17,\n",
       "         1.00000000e+00,  5.98744148e-18],\n",
       "       [-1.05958352e-16, -4.51151763e-17, -2.74355938e-17,\n",
       "         5.98744148e-18,  1.00000000e+00]])"
      ]
     },
     "execution_count": 62,
     "metadata": {},
     "output_type": "execute_result"
    }
   ],
   "source": [
    "q @ q.T"
   ]
  },
  {
   "cell_type": "markdown",
   "id": "51e55296-2841-4a7a-8992-2b702820b530",
   "metadata": {},
   "source": [
    "## 4.6 伪随机数生成"
   ]
  },
  {
   "cell_type": "code",
   "execution_count": 63,
   "id": "62613c81-9100-4106-a0de-dccb9dea7949",
   "metadata": {},
   "outputs": [
    {
     "data": {
      "text/plain": [
       "array([[-0.30251836, -0.42830216,  0.44733119,  0.36970843],\n",
       "       [-0.67915831,  0.57366072, -1.27958367, -1.52046112],\n",
       "       [ 1.29791637, -1.19803792,  0.02191936,  1.05010595],\n",
       "       [-0.80737355, -0.19302599, -1.21503036, -0.24773108]])"
      ]
     },
     "execution_count": 63,
     "metadata": {},
     "output_type": "execute_result"
    }
   ],
   "source": [
    "np.random.normal(size=(4, 4))"
   ]
  },
  {
   "cell_type": "code",
   "execution_count": 66,
   "id": "84df2e95-3259-4372-9703-bc363fef15b8",
   "metadata": {},
   "outputs": [
    {
     "data": {
      "text/plain": [
       "array([[-0.65866002, -0.41574442,  1.3297811 , -0.0358048 ],\n",
       "       [-1.33542638, -0.49580193,  1.51066037, -1.90518013],\n",
       "       [-0.16263237,  2.04802132,  0.12282377,  0.09554887],\n",
       "       [-0.59367381, -0.09067889,  0.5675584 , -1.09043716]])"
      ]
     },
     "execution_count": 66,
     "metadata": {},
     "output_type": "execute_result"
    }
   ],
   "source": [
    "np.random.randn(4,4)"
   ]
  },
  {
   "cell_type": "code",
   "execution_count": 67,
   "id": "5326c329-6f26-486b-94c9-98ff36fdb931",
   "metadata": {},
   "outputs": [],
   "source": [
    "np.random.seed(1234)"
   ]
  },
  {
   "cell_type": "code",
   "execution_count": 68,
   "id": "aa97d06a-5102-41fc-a262-edff783bd818",
   "metadata": {},
   "outputs": [
    {
     "data": {
      "text/plain": [
       "array([ 0.47143516, -1.19097569,  1.43270697, -0.3126519 , -0.72058873,\n",
       "        0.88716294,  0.85958841, -0.6365235 ,  0.01569637, -2.24268495])"
      ]
     },
     "execution_count": 68,
     "metadata": {},
     "output_type": "execute_result"
    }
   ],
   "source": [
    "rng = np.random.RandomState(1234)\n",
    "rng.randn(10)"
   ]
  },
  {
   "cell_type": "code",
   "execution_count": null,
   "id": "6c21451a-e210-437c-9b09-f93e60e752b1",
   "metadata": {},
   "outputs": [],
   "source": []
  }
 ],
 "metadata": {
  "kernelspec": {
   "display_name": "Python 3 (ipykernel)",
   "language": "python",
   "name": "python3"
  },
  "language_info": {
   "codemirror_mode": {
    "name": "ipython",
    "version": 3
   },
   "file_extension": ".py",
   "mimetype": "text/x-python",
   "name": "python",
   "nbconvert_exporter": "python",
   "pygments_lexer": "ipython3",
   "version": "3.8.18"
  }
 },
 "nbformat": 4,
 "nbformat_minor": 5
}
