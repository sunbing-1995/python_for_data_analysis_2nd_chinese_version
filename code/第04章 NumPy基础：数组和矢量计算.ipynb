{
 "cells": [
  {
   "cell_type": "code",
   "execution_count": 1,
   "id": "87df3f11-44aa-41e7-9224-aa89ae175437",
   "metadata": {},
   "outputs": [],
   "source": [
    "import numpy as np"
   ]
  },
  {
   "cell_type": "markdown",
   "id": "24ad9e6d-dc4b-47e2-9058-2ff253f0bd76",
   "metadata": {},
   "source": [
    "# 第04章 NumPy基础：数组和矢量计算"
   ]
  },
  {
   "cell_type": "markdown",
   "id": "68f83ba9-6eed-4291-a149-2a698d714319",
   "metadata": {},
   "source": [
    "## 4.1 NumPy的ndarray：一种多维数组对象"
   ]
  },
  {
   "cell_type": "markdown",
   "id": "a9f70f30-8bbd-4f32-bd6a-fe3cbae248b8",
   "metadata": {},
   "source": [
    "### 创建ndarray"
   ]
  },
  {
   "cell_type": "code",
   "execution_count": 2,
   "id": "db57c621-85ed-4f69-bcf1-1494f3b9bbbc",
   "metadata": {},
   "outputs": [
    {
     "data": {
      "text/plain": [
       "array([0, 3, 6, 9])"
      ]
     },
     "execution_count": 2,
     "metadata": {},
     "output_type": "execute_result"
    }
   ],
   "source": [
    "np.arange(0,10,3)"
   ]
  },
  {
   "cell_type": "code",
   "execution_count": 3,
   "id": "71a76e60-cd3b-49ef-b3d9-586bbcb12e37",
   "metadata": {},
   "outputs": [
    {
     "data": {
      "text/plain": [
       "(array([0., 0., 0.]),\n",
       " array([[0., 0., 0.],\n",
       "        [0., 0., 0.]]))"
      ]
     },
     "execution_count": 3,
     "metadata": {},
     "output_type": "execute_result"
    }
   ],
   "source": [
    "np.zeros(3), np.zeros((2,3))"
   ]
  },
  {
   "cell_type": "markdown",
   "id": "f5895bd0-4541-4f7e-b754-3a6d3dc334f4",
   "metadata": {},
   "source": [
    "### ndarray的数据类型"
   ]
  },
  {
   "cell_type": "markdown",
   "id": "62b0f611-bda9-4887-9c8c-1c136a233139",
   "metadata": {},
   "source": [
    "### NumPy数组的运算"
   ]
  },
  {
   "cell_type": "markdown",
   "id": "b230bcf1-a65d-4829-b7c9-ed6757bcba2e",
   "metadata": {},
   "source": [
    "### 基本的索引和切片\n",
    "切片是视图 <br/>\n",
    "索引降维，切片不降维"
   ]
  },
  {
   "cell_type": "code",
   "execution_count": 4,
   "id": "9b34a470-3594-4ec0-97fb-076f8f22ca09",
   "metadata": {},
   "outputs": [
    {
     "data": {
      "text/plain": [
       "[0, 1, 2, 3, 4, 5, 6, 7, 8, 9]"
      ]
     },
     "execution_count": 4,
     "metadata": {},
     "output_type": "execute_result"
    }
   ],
   "source": [
    "# 列表 切片是新内存\n",
    "a = list(range(10))\n",
    "b = a[5:8]\n",
    "b[:] = [10, 10, 10]\n",
    "a"
   ]
  },
  {
   "cell_type": "code",
   "execution_count": 5,
   "id": "a501025e-0315-4fbd-8f2a-494b395c29b4",
   "metadata": {},
   "outputs": [
    {
     "data": {
      "text/plain": [
       "(array([0, 1, 2, 3, 4, 5, 6, 7, 8, 9]), 5, array([5, 6, 7]))"
      ]
     },
     "execution_count": 5,
     "metadata": {},
     "output_type": "execute_result"
    }
   ],
   "source": [
    "# 向量\n",
    "arr = np.arange(10)\n",
    "arr, arr[5], arr[5:8] # 索引 切片"
   ]
  },
  {
   "cell_type": "code",
   "execution_count": 6,
   "id": "c216f295-e915-40b5-a2b3-c2b085ac2316",
   "metadata": {},
   "outputs": [
    {
     "data": {
      "text/plain": [
       "array([ 0,  1,  2,  3,  4, 12, 12, 12,  8,  9])"
      ]
     },
     "execution_count": 6,
     "metadata": {},
     "output_type": "execute_result"
    }
   ],
   "source": [
    "# 切片是视图 影响原对象\n",
    "arr[5:8] = 12\n",
    "arr"
   ]
  },
  {
   "cell_type": "code",
   "execution_count": 7,
   "id": "ea821d1c-61f0-452c-a69a-c34d4012cbb3",
   "metadata": {},
   "outputs": [
    {
     "data": {
      "text/plain": [
       "(array([[1, 2, 3],\n",
       "        [4, 5, 6],\n",
       "        [7, 8, 9]]),\n",
       " (3, 3))"
      ]
     },
     "execution_count": 7,
     "metadata": {},
     "output_type": "execute_result"
    }
   ],
   "source": [
    "# 矩阵\n",
    "arr2d = np.array([[1, 2, 3], [4, 5, 6], [7, 8, 9]])\n",
    "arr2d, arr2d.shape"
   ]
  },
  {
   "cell_type": "code",
   "execution_count": 8,
   "id": "b870defc-d915-4c8f-a1f6-b6e2615540b2",
   "metadata": {},
   "outputs": [
    {
     "data": {
      "text/plain": [
       "(3, 3)"
      ]
     },
     "execution_count": 8,
     "metadata": {},
     "output_type": "execute_result"
    }
   ],
   "source": [
    "arr2d[0][2], arr2d[0,2] # 索引"
   ]
  },
  {
   "cell_type": "code",
   "execution_count": 9,
   "id": "34b6c415-0651-4c0f-aeb5-d69379d59674",
   "metadata": {},
   "outputs": [
    {
     "data": {
      "text/plain": [
       "array([1, 2])"
      ]
     },
     "execution_count": 9,
     "metadata": {},
     "output_type": "execute_result"
    }
   ],
   "source": [
    "arr2d[0,:2] # 切片"
   ]
  },
  {
   "cell_type": "code",
   "execution_count": 10,
   "id": "cfccdd49-9740-4989-9931-e4065967b876",
   "metadata": {},
   "outputs": [
    {
     "data": {
      "text/plain": [
       "(array([[[ 1,  2,  3],\n",
       "         [ 4,  5,  6]],\n",
       " \n",
       "        [[ 7,  8,  9],\n",
       "         [10, 11, 12]]]),\n",
       " (2, 2, 3))"
      ]
     },
     "execution_count": 10,
     "metadata": {},
     "output_type": "execute_result"
    }
   ],
   "source": [
    "# 3维\n",
    "arr3d = np.array([[[1, 2, 3], [4, 5, 6]], [[7, 8, 9], [10, 11, 12]]])\n",
    "arr3d,arr3d.shape"
   ]
  },
  {
   "cell_type": "code",
   "execution_count": 11,
   "id": "c689d107-79de-40f8-a404-8c1baeb072b8",
   "metadata": {},
   "outputs": [
    {
     "data": {
      "text/plain": [
       "array([7, 8, 9])"
      ]
     },
     "execution_count": 11,
     "metadata": {},
     "output_type": "execute_result"
    }
   ],
   "source": [
    "arr3d[1,0] # 3维索引"
   ]
  },
  {
   "cell_type": "markdown",
   "id": "abf7a463-4f07-42fc-a1e5-35ac0014e40f",
   "metadata": {},
   "source": [
    "### 切片索引"
   ]
  },
  {
   "cell_type": "code",
   "execution_count": 12,
   "id": "c8a853cf-38e3-4ae8-96f8-452f5952177b",
   "metadata": {},
   "outputs": [
    {
     "data": {
      "text/plain": [
       "(array([ 0,  1,  2,  3,  4, 12, 12, 12,  8,  9]), array([ 1,  2,  3,  4, 12]))"
      ]
     },
     "execution_count": 12,
     "metadata": {},
     "output_type": "execute_result"
    }
   ],
   "source": [
    "# 向量\n",
    "arr, arr[1:6]"
   ]
  },
  {
   "cell_type": "code",
   "execution_count": 13,
   "id": "63aa1a21-6eeb-4a1a-ba79-96e06d3d7a84",
   "metadata": {},
   "outputs": [
    {
     "data": {
      "text/plain": [
       "(array([[1, 2, 3],\n",
       "        [4, 5, 6],\n",
       "        [7, 8, 9]]),\n",
       " array([[1, 2, 3],\n",
       "        [4, 5, 6]]),\n",
       " array([[1, 2],\n",
       "        [4, 5]]),\n",
       " array([[1],\n",
       "        [4],\n",
       "        [7]]))"
      ]
     },
     "execution_count": 13,
     "metadata": {},
     "output_type": "execute_result"
    }
   ],
   "source": [
    "# 矩阵\n",
    "arr2d, arr2d[:2], arr2d[:2, :2], arr2d[:, :1]"
   ]
  },
  {
   "cell_type": "code",
   "execution_count": 14,
   "id": "2ce80d48-2f2c-46e1-9ef6-a2de1f780f1e",
   "metadata": {},
   "outputs": [
    {
     "data": {
      "text/plain": [
       "(array([4, 5]), array([[4, 5]]))"
      ]
     },
     "execution_count": 14,
     "metadata": {},
     "output_type": "execute_result"
    }
   ],
   "source": [
    "# 先索引后切片\n",
    "arr2d[1, :2], arr2d[1:2, :2]"
   ]
  },
  {
   "cell_type": "code",
   "execution_count": 15,
   "id": "f9b8dc49-df99-4ffe-bb12-1865fbcbbc82",
   "metadata": {},
   "outputs": [
    {
     "data": {
      "text/plain": [
       "(array([2, 5]),\n",
       " array([[2],\n",
       "        [5]]))"
      ]
     },
     "execution_count": 15,
     "metadata": {},
     "output_type": "execute_result"
    }
   ],
   "source": [
    "# 先切片后索引\n",
    "arr2d[:2, 1], arr2d[:2, 1:2]"
   ]
  },
  {
   "cell_type": "markdown",
   "id": "5c0a1495-bf8f-4fd9-b4f6-d6699c2fd147",
   "metadata": {},
   "source": [
    "### 布尔型索引\n",
    "通过布尔索引切片获取的数组是创建了一个副本 <br/>\n",
    "不能使用and和or，使用&和｜"
   ]
  },
  {
   "cell_type": "code",
   "execution_count": 17,
   "id": "5648af97-3f0e-46fe-a637-8033c04c0098",
   "metadata": {},
   "outputs": [],
   "source": [
    "names = np.array(['Bob', 'Joe', 'Will', 'Bob', 'Will', 'Joe', 'Joe'])\n",
    "data = np.random.randn(7, 4)"
   ]
  },
  {
   "cell_type": "code",
   "execution_count": 18,
   "id": "05bde1fb-3daa-4f09-af46-c329f395a983",
   "metadata": {},
   "outputs": [
    {
     "data": {
      "text/plain": [
       "array([ True, False, False,  True, False, False, False])"
      ]
     },
     "execution_count": 18,
     "metadata": {},
     "output_type": "execute_result"
    }
   ],
   "source": [
    "names == 'Bob'"
   ]
  },
  {
   "cell_type": "code",
   "execution_count": 24,
   "id": "5f2fd269-c8e2-4333-8316-84745b4ed672",
   "metadata": {},
   "outputs": [
    {
     "data": {
      "text/plain": [
       "array([[ 1.80678983,  0.8011866 , -0.01382817, -0.7549458 ],\n",
       "       [ 0.56525111, -1.11986941,  1.10113066,  0.25304404]])"
      ]
     },
     "execution_count": 24,
     "metadata": {},
     "output_type": "execute_result"
    }
   ],
   "source": [
    "data[names == 'Bob'] # 切片"
   ]
  },
  {
   "cell_type": "code",
   "execution_count": 27,
   "id": "06d147b2-6674-4540-b4df-bde9e8135452",
   "metadata": {},
   "outputs": [
    {
     "data": {
      "text/plain": [
       "array([[-0.01382817, -0.7549458 ],\n",
       "       [ 1.10113066,  0.25304404]])"
      ]
     },
     "execution_count": 27,
     "metadata": {},
     "output_type": "execute_result"
    }
   ],
   "source": [
    "data[names == 'Bob', 2:] # 切片 不降维"
   ]
  },
  {
   "cell_type": "code",
   "execution_count": 30,
   "id": "2d04641d-9295-47b5-9e44-bf7d6a7dfbba",
   "metadata": {},
   "outputs": [
    {
     "data": {
      "text/plain": [
       "array([-0.7549458 ,  0.25304404])"
      ]
     },
     "execution_count": 30,
     "metadata": {},
     "output_type": "execute_result"
    }
   ],
   "source": [
    "data[names == 'Bob', 3] # 先切片后索引 不降维"
   ]
  },
  {
   "cell_type": "code",
   "execution_count": 31,
   "id": "03b54c7e-ca96-457e-8548-63918f886bf3",
   "metadata": {},
   "outputs": [
    {
     "data": {
      "text/plain": [
       "((7, 4), (2, 4), (2, 2), (2,))"
      ]
     },
     "execution_count": 31,
     "metadata": {},
     "output_type": "execute_result"
    }
   ],
   "source": [
    "data.shape, data[names == 'Bob'].shape,data[names == 'Bob', 2:].shape,data[names == 'Bob', 3].shape"
   ]
  },
  {
   "cell_type": "markdown",
   "id": "9b359a4e-8d7b-42ac-814b-fa4d4b7bd538",
   "metadata": {},
   "source": [
    "### 花式索引"
   ]
  },
  {
   "cell_type": "code",
   "execution_count": 36,
   "id": "802170ec-5b5f-4a1a-8e94-9f60358aa9bd",
   "metadata": {},
   "outputs": [
    {
     "data": {
      "text/plain": [
       "array([[0., 0., 0., 0.],\n",
       "       [1., 1., 1., 1.],\n",
       "       [2., 2., 2., 2.],\n",
       "       [3., 3., 3., 3.],\n",
       "       [4., 4., 4., 4.],\n",
       "       [5., 5., 5., 5.],\n",
       "       [6., 6., 6., 6.],\n",
       "       [7., 7., 7., 7.]])"
      ]
     },
     "execution_count": 36,
     "metadata": {},
     "output_type": "execute_result"
    }
   ],
   "source": [
    "arr = np.empty((8,4))\n",
    "for i in range(arr.shape[0]):\n",
    "    arr[i] = i\n",
    "arr"
   ]
  },
  {
   "cell_type": "code",
   "execution_count": 44,
   "id": "22152624-238b-4ff6-8d13-f1c488974784",
   "metadata": {},
   "outputs": [
    {
     "data": {
      "text/plain": [
       "(array([[16, 17, 18, 19],\n",
       "        [12, 13, 14, 15],\n",
       "        [ 0,  1,  2,  3],\n",
       "        [24, 25, 26, 27]]),\n",
       " array([[20, 21, 22, 23],\n",
       "        [12, 13, 14, 15],\n",
       "        [ 4,  5,  6,  7]]))"
      ]
     },
     "execution_count": 44,
     "metadata": {},
     "output_type": "execute_result"
    }
   ],
   "source": [
    "# 不降维\n",
    "arr[[4,3,0,6]], arr[[-3, -5, -7]]"
   ]
  },
  {
   "cell_type": "code",
   "execution_count": 45,
   "id": "66a7ea27-ebaa-47dd-b714-c77b61500a8b",
   "metadata": {},
   "outputs": [
    {
     "data": {
      "text/plain": [
       "(array([[ 0,  1,  2,  3],\n",
       "        [ 4,  5,  6,  7],\n",
       "        [ 8,  9, 10, 11],\n",
       "        [12, 13, 14, 15],\n",
       "        [16, 17, 18, 19],\n",
       "        [20, 21, 22, 23],\n",
       "        [24, 25, 26, 27],\n",
       "        [28, 29, 30, 31]]),\n",
       " array([ 4, 23, 29, 10]))"
      ]
     },
     "execution_count": 45,
     "metadata": {},
     "output_type": "execute_result"
    }
   ],
   "source": [
    "arr = np.arange(32).reshape((8, 4))\n",
    "# 传多个列表会降维\n",
    "arr, arr[[1, 5, 7, 2], [0, 3, 1, 2]]"
   ]
  },
  {
   "cell_type": "code",
   "execution_count": 46,
   "id": "07eba076-bbba-4074-baf4-eb2f993062d9",
   "metadata": {},
   "outputs": [
    {
     "data": {
      "text/plain": [
       "array([[ 4,  7,  5,  6],\n",
       "       [20, 23, 21, 22],\n",
       "       [28, 31, 29, 30],\n",
       "       [ 8, 11,  9, 10]])"
      ]
     },
     "execution_count": 46,
     "metadata": {},
     "output_type": "execute_result"
    }
   ],
   "source": [
    "arr[[1, 5, 7, 2]][:, [0, 3, 1, 2]]"
   ]
  },
  {
   "cell_type": "markdown",
   "id": "aa32d7e7-b127-4c8c-bb01-d871b2d1c55b",
   "metadata": {},
   "source": [
    "### 数组转置和轴对换"
   ]
  },
  {
   "cell_type": "code",
   "execution_count": null,
   "id": "701601ce-e493-43ec-99b8-f760be3e9213",
   "metadata": {},
   "outputs": [],
   "source": []
  }
 ],
 "metadata": {
  "kernelspec": {
   "display_name": "Python 3 (ipykernel)",
   "language": "python",
   "name": "python3"
  },
  "language_info": {
   "codemirror_mode": {
    "name": "ipython",
    "version": 3
   },
   "file_extension": ".py",
   "mimetype": "text/x-python",
   "name": "python",
   "nbconvert_exporter": "python",
   "pygments_lexer": "ipython3",
   "version": "3.9.20"
  }
 },
 "nbformat": 4,
 "nbformat_minor": 5
}
