{
 "cells": [
  {
   "cell_type": "code",
   "execution_count": 1,
   "id": "87df3f11-44aa-41e7-9224-aa89ae175437",
   "metadata": {},
   "outputs": [],
   "source": [
    "import numpy as np"
   ]
  },
  {
   "cell_type": "markdown",
   "id": "24ad9e6d-dc4b-47e2-9058-2ff253f0bd76",
   "metadata": {},
   "source": [
    "# 第04章 NumPy基础：数组和矢量计算"
   ]
  },
  {
   "cell_type": "markdown",
   "id": "68f83ba9-6eed-4291-a149-2a698d714319",
   "metadata": {},
   "source": [
    "## 4.1 NumPy的ndarray：一种多维数组对象"
   ]
  },
  {
   "cell_type": "markdown",
   "id": "a9f70f30-8bbd-4f32-bd6a-fe3cbae248b8",
   "metadata": {},
   "source": [
    "### 创建ndarray"
   ]
  },
  {
   "cell_type": "code",
   "execution_count": 2,
   "id": "db57c621-85ed-4f69-bcf1-1494f3b9bbbc",
   "metadata": {},
   "outputs": [
    {
     "data": {
      "text/plain": [
       "array([0, 3, 6, 9])"
      ]
     },
     "execution_count": 2,
     "metadata": {},
     "output_type": "execute_result"
    }
   ],
   "source": [
    "np.arange(0,10,3)"
   ]
  },
  {
   "cell_type": "code",
   "execution_count": 3,
   "id": "71a76e60-cd3b-49ef-b3d9-586bbcb12e37",
   "metadata": {},
   "outputs": [
    {
     "data": {
      "text/plain": [
       "(array([0., 0., 0.]),\n",
       " array([[0., 0., 0.],\n",
       "        [0., 0., 0.]]))"
      ]
     },
     "execution_count": 3,
     "metadata": {},
     "output_type": "execute_result"
    }
   ],
   "source": [
    "np.zeros(3), np.zeros((2,3))"
   ]
  },
  {
   "cell_type": "markdown",
   "id": "f5895bd0-4541-4f7e-b754-3a6d3dc334f4",
   "metadata": {},
   "source": [
    "### ndarray的数据类型"
   ]
  },
  {
   "cell_type": "markdown",
   "id": "62b0f611-bda9-4887-9c8c-1c136a233139",
   "metadata": {},
   "source": [
    "### NumPy数组的运算"
   ]
  },
  {
   "cell_type": "markdown",
   "id": "b230bcf1-a65d-4829-b7c9-ed6757bcba2e",
   "metadata": {},
   "source": [
    "### 基本的索引和切片\n",
    "索引降维，切片不降维"
   ]
  },
  {
   "cell_type": "code",
   "execution_count": 4,
   "id": "9b34a470-3594-4ec0-97fb-076f8f22ca09",
   "metadata": {},
   "outputs": [
    {
     "data": {
      "text/plain": [
       "[0, 1, 2, 3, 4, 5, 6, 7, 8, 9]"
      ]
     },
     "execution_count": 4,
     "metadata": {},
     "output_type": "execute_result"
    }
   ],
   "source": [
    "# 列表 切片是新内存\n",
    "a = list(range(10))\n",
    "b = a[5:8]\n",
    "b[:] = [10, 10, 10]\n",
    "a"
   ]
  },
  {
   "cell_type": "code",
   "execution_count": 5,
   "id": "a501025e-0315-4fbd-8f2a-494b395c29b4",
   "metadata": {},
   "outputs": [
    {
     "data": {
      "text/plain": [
       "(array([0, 1, 2, 3, 4, 5, 6, 7, 8, 9]), 5, array([5, 6, 7]))"
      ]
     },
     "execution_count": 5,
     "metadata": {},
     "output_type": "execute_result"
    }
   ],
   "source": [
    "# 向量\n",
    "arr = np.arange(10)\n",
    "arr, arr[5], arr[5:8] # 索引 切片"
   ]
  },
  {
   "cell_type": "code",
   "execution_count": 6,
   "id": "c216f295-e915-40b5-a2b3-c2b085ac2316",
   "metadata": {},
   "outputs": [
    {
     "data": {
      "text/plain": [
       "array([ 0,  1,  2,  3,  4, 12, 12, 12,  8,  9])"
      ]
     },
     "execution_count": 6,
     "metadata": {},
     "output_type": "execute_result"
    }
   ],
   "source": [
    "# 切片是视图 影响原对象\n",
    "arr[5:8] = 12\n",
    "arr"
   ]
  },
  {
   "cell_type": "code",
   "execution_count": 7,
   "id": "ea821d1c-61f0-452c-a69a-c34d4012cbb3",
   "metadata": {},
   "outputs": [
    {
     "data": {
      "text/plain": [
       "(array([[1, 2, 3],\n",
       "        [4, 5, 6],\n",
       "        [7, 8, 9]]),\n",
       " (3, 3))"
      ]
     },
     "execution_count": 7,
     "metadata": {},
     "output_type": "execute_result"
    }
   ],
   "source": [
    "# 矩阵\n",
    "arr2d = np.array([[1, 2, 3], [4, 5, 6], [7, 8, 9]])\n",
    "arr2d, arr2d.shape"
   ]
  },
  {
   "cell_type": "code",
   "execution_count": 8,
   "id": "b870defc-d915-4c8f-a1f6-b6e2615540b2",
   "metadata": {},
   "outputs": [
    {
     "data": {
      "text/plain": [
       "(3, 3)"
      ]
     },
     "execution_count": 8,
     "metadata": {},
     "output_type": "execute_result"
    }
   ],
   "source": [
    "arr2d[0][2], arr2d[0,2] # 索引"
   ]
  },
  {
   "cell_type": "code",
   "execution_count": 9,
   "id": "34b6c415-0651-4c0f-aeb5-d69379d59674",
   "metadata": {},
   "outputs": [
    {
     "data": {
      "text/plain": [
       "array([1, 2])"
      ]
     },
     "execution_count": 9,
     "metadata": {},
     "output_type": "execute_result"
    }
   ],
   "source": [
    "arr2d[0,:2] # 切片"
   ]
  },
  {
   "cell_type": "code",
   "execution_count": 10,
   "id": "cfccdd49-9740-4989-9931-e4065967b876",
   "metadata": {},
   "outputs": [
    {
     "data": {
      "text/plain": [
       "(array([[[ 1,  2,  3],\n",
       "         [ 4,  5,  6]],\n",
       " \n",
       "        [[ 7,  8,  9],\n",
       "         [10, 11, 12]]]),\n",
       " (2, 2, 3))"
      ]
     },
     "execution_count": 10,
     "metadata": {},
     "output_type": "execute_result"
    }
   ],
   "source": [
    "# 3维\n",
    "arr3d = np.array([[[1, 2, 3], [4, 5, 6]], [[7, 8, 9], [10, 11, 12]]])\n",
    "arr3d,arr3d.shape"
   ]
  },
  {
   "cell_type": "code",
   "execution_count": 11,
   "id": "c689d107-79de-40f8-a404-8c1baeb072b8",
   "metadata": {},
   "outputs": [
    {
     "data": {
      "text/plain": [
       "array([7, 8, 9])"
      ]
     },
     "execution_count": 11,
     "metadata": {},
     "output_type": "execute_result"
    }
   ],
   "source": [
    "arr3d[1,0] # 3维索引"
   ]
  },
  {
   "cell_type": "markdown",
   "id": "abf7a463-4f07-42fc-a1e5-35ac0014e40f",
   "metadata": {},
   "source": [
    "### 切片索引"
   ]
  },
  {
   "cell_type": "code",
   "execution_count": 12,
   "id": "c8a853cf-38e3-4ae8-96f8-452f5952177b",
   "metadata": {},
   "outputs": [
    {
     "data": {
      "text/plain": [
       "(array([ 0,  1,  2,  3,  4, 12, 12, 12,  8,  9]), array([ 1,  2,  3,  4, 12]))"
      ]
     },
     "execution_count": 12,
     "metadata": {},
     "output_type": "execute_result"
    }
   ],
   "source": [
    "# 向量\n",
    "arr, arr[1:6]"
   ]
  },
  {
   "cell_type": "code",
   "execution_count": 13,
   "id": "63aa1a21-6eeb-4a1a-ba79-96e06d3d7a84",
   "metadata": {},
   "outputs": [
    {
     "data": {
      "text/plain": [
       "(array([[1, 2, 3],\n",
       "        [4, 5, 6],\n",
       "        [7, 8, 9]]),\n",
       " array([[1, 2, 3],\n",
       "        [4, 5, 6]]),\n",
       " array([[1, 2],\n",
       "        [4, 5]]),\n",
       " array([[1],\n",
       "        [4],\n",
       "        [7]]))"
      ]
     },
     "execution_count": 13,
     "metadata": {},
     "output_type": "execute_result"
    }
   ],
   "source": [
    "# 矩阵\n",
    "arr2d, arr2d[:2], arr2d[:2, :2], arr2d[:, :1]"
   ]
  },
  {
   "cell_type": "code",
   "execution_count": 17,
   "id": "2ce80d48-2f2c-46e1-9ef6-a2de1f780f1e",
   "metadata": {},
   "outputs": [
    {
     "data": {
      "text/plain": [
       "(array([4, 5]), array([[4, 5]]))"
      ]
     },
     "execution_count": 17,
     "metadata": {},
     "output_type": "execute_result"
    }
   ],
   "source": [
    "# 先索引后切片\n",
    "arr2d[1, :2], arr2d[1:2, :2]"
   ]
  },
  {
   "cell_type": "code",
   "execution_count": 16,
   "id": "f9b8dc49-df99-4ffe-bb12-1865fbcbbc82",
   "metadata": {},
   "outputs": [
    {
     "data": {
      "text/plain": [
       "(array([2, 5]),\n",
       " array([[2],\n",
       "        [5]]))"
      ]
     },
     "execution_count": 16,
     "metadata": {},
     "output_type": "execute_result"
    }
   ],
   "source": [
    "# 先切片后索引\n",
    "arr2d[:2, 1], arr2d[:2, 1:2]"
   ]
  },
  {
   "cell_type": "markdown",
   "id": "5c0a1495-bf8f-4fd9-b4f6-d6699c2fd147",
   "metadata": {},
   "source": [
    "### 布尔型索引"
   ]
  },
  {
   "cell_type": "code",
   "execution_count": null,
   "id": "5648af97-3f0e-46fe-a637-8033c04c0098",
   "metadata": {},
   "outputs": [],
   "source": []
  }
 ],
 "metadata": {
  "kernelspec": {
   "display_name": "Python 3 (ipykernel)",
   "language": "python",
   "name": "python3"
  },
  "language_info": {
   "codemirror_mode": {
    "name": "ipython",
    "version": 3
   },
   "file_extension": ".py",
   "mimetype": "text/x-python",
   "name": "python",
   "nbconvert_exporter": "python",
   "pygments_lexer": "ipython3",
   "version": "3.8.18"
  }
 },
 "nbformat": 4,
 "nbformat_minor": 5
}
