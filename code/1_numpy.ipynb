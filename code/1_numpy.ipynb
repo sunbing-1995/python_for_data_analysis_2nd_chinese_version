{
 "cells": [
  {
   "cell_type": "markdown",
   "id": "038c2153-5fec-437d-a70f-47fa7e92a28c",
   "metadata": {},
   "source": [
    "# NumPy是Python数值计算最重要的基础包。\n",
    "- ndarray，一个具有矢量算术运算和复杂广播能力的快速且节省空间的多维数组。\n",
    "- 用于对整组数据进行快速运算的标准数学函数（无需编写循环）。\n",
    "- 线性代数、随机数生成以及傅里叶变换功能。\n",
    "- 用于集成由C、C++、Fortran等语言编写的代码的A C API。"
   ]
  },
  {
   "cell_type": "code",
   "execution_count": 1,
   "id": "d43e76c8-6f08-46df-af3a-23d6c5ebd0ce",
   "metadata": {
    "ExecuteTime": {
     "end_time": "2024-12-11T01:46:32.087184Z",
     "start_time": "2024-12-11T01:46:30.655006Z"
    }
   },
   "outputs": [],
   "source": [
    "import numpy as np"
   ]
  },
  {
   "cell_type": "code",
   "execution_count": 3,
   "id": "733420b8-a5b3-4ff3-8059-dbdf8565f716",
   "metadata": {
    "ExecuteTime": {
     "end_time": "2024-12-11T01:47:04.223626Z",
     "start_time": "2024-12-11T01:47:04.198081Z"
    }
   },
   "outputs": [],
   "source": [
    "my_arr = np.arange(1000000)"
   ]
  },
  {
   "cell_type": "code",
   "execution_count": 4,
   "id": "53a7ac0f-5f91-4e94-b315-3eaed3325f96",
   "metadata": {
    "ExecuteTime": {
     "end_time": "2024-12-11T01:47:06.016754Z",
     "start_time": "2024-12-11T01:47:05.949848Z"
    }
   },
   "outputs": [],
   "source": [
    "my_list = list(range(1000000))"
   ]
  },
  {
   "cell_type": "code",
   "execution_count": 5,
   "id": "3988598b-46c7-4857-bf07-74a952f0443a",
   "metadata": {
    "ExecuteTime": {
     "end_time": "2024-12-11T01:47:07.762061Z",
     "start_time": "2024-12-11T01:47:07.720908Z"
    }
   },
   "outputs": [
    {
     "name": "stdout",
     "output_type": "stream",
     "text": [
      "Wall time: 25.7 ms\n"
     ]
    }
   ],
   "source": [
    "%time for _ in range(10): my_arr2 = my_arr * 2"
   ]
  },
  {
   "cell_type": "code",
   "execution_count": 6,
   "id": "ee06bba0-7b72-4538-82b4-a6681b4cd780",
   "metadata": {
    "ExecuteTime": {
     "end_time": "2024-12-11T01:47:13.283862Z",
     "start_time": "2024-12-11T01:47:10.251349Z"
    }
   },
   "outputs": [
    {
     "name": "stdout",
     "output_type": "stream",
     "text": [
      "Wall time: 3.01 s\n"
     ]
    }
   ],
   "source": [
    "%time for _ in range(10): my_list2 = [x * 2 for x in my_list]"
   ]
  },
  {
   "cell_type": "markdown",
   "id": "489baad6-6b3d-4729-bf24-89602af66c22",
   "metadata": {},
   "source": [
    "## 创建ndarray"
   ]
  },
  {
   "cell_type": "code",
   "execution_count": 6,
   "id": "ff8f3522-5bf2-4565-8aee-e77cb9efb127",
   "metadata": {},
   "outputs": [
    {
     "data": {
      "text/plain": [
       "array([6. , 7.5, 8. , 0. , 1. ])"
      ]
     },
     "execution_count": 6,
     "metadata": {},
     "output_type": "execute_result"
    }
   ],
   "source": [
    "np.array([6, 7.5, 8, 0, 1])"
   ]
  },
  {
   "cell_type": "code",
   "execution_count": 7,
   "id": "a1dfad88-2c70-49b0-8b69-e14ca67b14af",
   "metadata": {},
   "outputs": [
    {
     "data": {
      "text/plain": [
       "array([[1, 2, 3, 4],\n",
       "       [5, 6, 7, 8]])"
      ]
     },
     "execution_count": 7,
     "metadata": {},
     "output_type": "execute_result"
    }
   ],
   "source": [
    "arr2 = np.array([[1, 2, 3, 4], [5, 6, 7, 8]])\n",
    "arr2"
   ]
  },
  {
   "cell_type": "code",
   "execution_count": 8,
   "id": "c319176f-097c-41f5-abbd-e88f1e1a1ff2",
   "metadata": {},
   "outputs": [
    {
     "name": "stdout",
     "output_type": "stream",
     "text": [
      "2\n",
      "(2, 4)\n",
      "int32\n"
     ]
    }
   ],
   "source": [
    "print(arr2.ndim)\n",
    "print(arr2.shape)\n",
    "print(arr2.dtype)"
   ]
  },
  {
   "cell_type": "code",
   "execution_count": 9,
   "id": "f950e3bb-a17e-401b-a2fc-1f53e993ec75",
   "metadata": {},
   "outputs": [
    {
     "data": {
      "text/plain": [
       "array([0., 0., 0., 0., 0., 0., 0., 0., 0., 0.])"
      ]
     },
     "execution_count": 9,
     "metadata": {},
     "output_type": "execute_result"
    }
   ],
   "source": [
    "np.zeros(10)"
   ]
  },
  {
   "cell_type": "code",
   "execution_count": 10,
   "id": "b2e64d78-e94d-4ac0-8694-798fc5aa1b15",
   "metadata": {},
   "outputs": [
    {
     "data": {
      "text/plain": [
       "array([[0., 0., 0., 0., 0., 0.],\n",
       "       [0., 0., 0., 0., 0., 0.],\n",
       "       [0., 0., 0., 0., 0., 0.]])"
      ]
     },
     "execution_count": 10,
     "metadata": {},
     "output_type": "execute_result"
    }
   ],
   "source": [
    "np.zeros((3,6))"
   ]
  },
  {
   "cell_type": "code",
   "execution_count": 11,
   "id": "56ee9939-7d4b-4ea3-9ba1-34bc1e975aa0",
   "metadata": {},
   "outputs": [
    {
     "data": {
      "text/plain": [
       "array([[0, 0, 0, 0],\n",
       "       [0, 0, 0, 0]])"
      ]
     },
     "execution_count": 11,
     "metadata": {},
     "output_type": "execute_result"
    }
   ],
   "source": [
    "np.zeros_like(arr2)"
   ]
  },
  {
   "cell_type": "code",
   "execution_count": 12,
   "id": "af80ea0a-a4e8-4d50-bf4a-6b38b30dd939",
   "metadata": {},
   "outputs": [
    {
     "data": {
      "text/plain": [
       "array([[[1.16149401e-311, 3.16202013e-322],\n",
       "        [0.00000000e+000, 0.00000000e+000],\n",
       "        [1.01855798e-312, 4.46829912e-033]],\n",
       "\n",
       "       [[2.62839305e+179, 6.23079388e+174],\n",
       "        [8.83078875e+169, 2.73899547e-057],\n",
       "        [4.18301048e-062, 4.23352351e+175]]])"
      ]
     },
     "execution_count": 12,
     "metadata": {},
     "output_type": "execute_result"
    }
   ],
   "source": [
    "np.empty((2,3,2))"
   ]
  },
  {
   "cell_type": "code",
   "outputs": [
    {
     "data": {
      "text/plain": "[0, 1, 2, 3, 4, 5]"
     },
     "execution_count": 9,
     "metadata": {},
     "output_type": "execute_result"
    }
   ],
   "source": [
    "list(range(6))"
   ],
   "metadata": {
    "collapsed": false,
    "ExecuteTime": {
     "end_time": "2024-12-11T01:48:53.990822Z",
     "start_time": "2024-12-11T01:48:53.979397Z"
    }
   },
   "id": "87e20b6e9ae2c43",
   "execution_count": 9
  },
  {
   "cell_type": "code",
   "execution_count": 13,
   "id": "ca9db3cb-2405-410d-860f-873d4eb2390b",
   "metadata": {},
   "outputs": [
    {
     "data": {
      "text/plain": [
       "array([0, 1, 2, 3, 4, 5])"
      ]
     },
     "execution_count": 13,
     "metadata": {},
     "output_type": "execute_result"
    }
   ],
   "source": [
    "np.arange(6)"
   ]
  },
  {
   "cell_type": "code",
   "outputs": [
    {
     "data": {
      "text/plain": "[0, 2, 4, 6]"
     },
     "execution_count": 10,
     "metadata": {},
     "output_type": "execute_result"
    }
   ],
   "source": [
    "list(range(0,8,2))"
   ],
   "metadata": {
    "collapsed": false,
    "ExecuteTime": {
     "end_time": "2024-12-11T01:49:14.830138Z",
     "start_time": "2024-12-11T01:49:14.803222Z"
    }
   },
   "id": "e5c15c5a8e918470",
   "execution_count": 10
  },
  {
   "cell_type": "code",
   "outputs": [
    {
     "data": {
      "text/plain": "array([0, 2, 4, 6])"
     },
     "execution_count": 7,
     "metadata": {},
     "output_type": "execute_result"
    }
   ],
   "source": [
    "np.arange(0,8,2)"
   ],
   "metadata": {
    "collapsed": false,
    "ExecuteTime": {
     "end_time": "2024-12-11T01:48:12.366093Z",
     "start_time": "2024-12-11T01:48:12.338962Z"
    }
   },
   "id": "fe8db9ac7b4df6be",
   "execution_count": 7
  },
  {
   "cell_type": "code",
   "execution_count": 14,
   "id": "eb0706c1-f6c1-4135-9860-53903cd62e55",
   "metadata": {},
   "outputs": [
    {
     "data": {
      "text/plain": [
       "array([[1, 2, 3, 4],\n",
       "       [5, 6, 7, 8]])"
      ]
     },
     "execution_count": 14,
     "metadata": {},
     "output_type": "execute_result"
    }
   ],
   "source": [
    "# 转换为ndarray 如果是就不复制\n",
    "np.asarray(arr2)"
   ]
  },
  {
   "cell_type": "code",
   "execution_count": 15,
   "id": "3d51deae-3407-48ea-8db4-eb40d91f0455",
   "metadata": {},
   "outputs": [
    {
     "data": {
      "text/plain": [
       "array([[1., 1., 1.],\n",
       "       [1., 1., 1.]])"
      ]
     },
     "execution_count": 15,
     "metadata": {},
     "output_type": "execute_result"
    }
   ],
   "source": [
    "np.ones((2,3))"
   ]
  },
  {
   "cell_type": "code",
   "execution_count": 16,
   "id": "10941c80-8bd6-49c9-84a8-8a5e696e6cab",
   "metadata": {},
   "outputs": [
    {
     "data": {
      "text/plain": [
       "array([[10, 10],\n",
       "       [10, 10]])"
      ]
     },
     "execution_count": 16,
     "metadata": {},
     "output_type": "execute_result"
    }
   ],
   "source": [
    "np.full((2,2), 10)"
   ]
  },
  {
   "cell_type": "code",
   "execution_count": 17,
   "id": "a4760650-97f4-4bb7-88f5-87f9a54642f2",
   "metadata": {},
   "outputs": [
    {
     "data": {
      "text/plain": [
       "array([[10, 10, 10, 10],\n",
       "       [10, 10, 10, 10]])"
      ]
     },
     "execution_count": 17,
     "metadata": {},
     "output_type": "execute_result"
    }
   ],
   "source": [
    "np.full_like(arr2, 10)"
   ]
  },
  {
   "cell_type": "code",
   "execution_count": 18,
   "id": "c5aa43e1-d236-49f3-a381-e1d7e8aabfc6",
   "metadata": {},
   "outputs": [
    {
     "data": {
      "text/plain": [
       "array([[1., 0., 0., 0.],\n",
       "       [0., 1., 0., 0.],\n",
       "       [0., 0., 1., 0.],\n",
       "       [0., 0., 0., 1.]])"
      ]
     },
     "execution_count": 18,
     "metadata": {},
     "output_type": "execute_result"
    }
   ],
   "source": [
    "np.eye(4)"
   ]
  },
  {
   "cell_type": "code",
   "outputs": [
    {
     "data": {
      "text/plain": "array([[0., 1., 0., 0.],\n       [0., 0., 1., 0.],\n       [0., 0., 0., 1.]])"
     },
     "execution_count": 12,
     "metadata": {},
     "output_type": "execute_result"
    }
   ],
   "source": [
    "np.eye(3,4,1)"
   ],
   "metadata": {
    "collapsed": false,
    "ExecuteTime": {
     "end_time": "2024-12-11T01:52:30.286686Z",
     "start_time": "2024-12-11T01:52:30.267935Z"
    }
   },
   "id": "479603abd8a66624",
   "execution_count": 12
  },
  {
   "cell_type": "code",
   "execution_count": 19,
   "id": "c2281e0f-d138-4812-a5cb-4d8dfa9e3cbc",
   "metadata": {},
   "outputs": [
    {
     "data": {
      "text/plain": [
       "array([[1., 0., 0., 0.],\n",
       "       [0., 1., 0., 0.],\n",
       "       [0., 0., 1., 0.],\n",
       "       [0., 0., 0., 1.]])"
      ]
     },
     "execution_count": 19,
     "metadata": {},
     "output_type": "execute_result"
    }
   ],
   "source": [
    "np.identity(4)"
   ]
  },
  {
   "cell_type": "markdown",
   "id": "557303d2-9d4e-447b-8fff-0020b9534d45",
   "metadata": {},
   "source": [
    "## ndarray的数据类型\n",
    "- int8 uint8  i1 u1\n",
    "- int16 uint16 i2 u2\n",
    "- int32 uint32 i4 u4\n",
    "- int64 uint64 i8 u8\n",
    "- float16 f2\n",
    "- float32 f4或f\n",
    "- float64 f8或d\n",
    "- float128 f16 g\n",
    "- complex64 complex128  c8 c16\n",
    "- complex256 c32\n",
    "- bool ?\n",
    "- object O\n",
    "- string_ S\n",
    "- unicode U"
   ]
  },
  {
   "cell_type": "code",
   "execution_count": 20,
   "id": "5ad6152c-54d0-4158-b264-df4079860908",
   "metadata": {},
   "outputs": [
    {
     "data": {
      "text/plain": [
       "array([1, 2])"
      ]
     },
     "execution_count": 20,
     "metadata": {},
     "output_type": "execute_result"
    }
   ],
   "source": [
    "arr = np.array([1,2], dtype = np.int32)\n",
    "arr"
   ]
  },
  {
   "cell_type": "code",
   "execution_count": 21,
   "id": "79c6cf2c-bb03-4ac1-bd76-5659159a283f",
   "metadata": {},
   "outputs": [
    {
     "data": {
      "text/plain": [
       "array([[ True, False],\n",
       "       [False, False]])"
      ]
     },
     "execution_count": 21,
     "metadata": {},
     "output_type": "execute_result"
    }
   ],
   "source": [
    "np.empty((2,2), dtype='?')"
   ]
  },
  {
   "cell_type": "code",
   "execution_count": 22,
   "id": "19baea3c-916a-4055-a7d2-cb01a41633a6",
   "metadata": {},
   "outputs": [
    {
     "data": {
      "text/plain": [
       "array([0., 1., 2., 3., 4., 5., 6., 7., 8., 9.])"
      ]
     },
     "execution_count": 22,
     "metadata": {},
     "output_type": "execute_result"
    }
   ],
   "source": [
    "np.arange(10).astype(float)"
   ]
  },
  {
   "cell_type": "code",
   "execution_count": 23,
   "id": "85f950cb-5b37-43b7-ad18-fc579d3d03cf",
   "metadata": {},
   "outputs": [
    {
     "data": {
      "text/plain": [
       "array([0, 1, 2, 3, 4, 5, 6, 7, 8, 9])"
      ]
     },
     "execution_count": 23,
     "metadata": {},
     "output_type": "execute_result"
    }
   ],
   "source": [
    "np.arange(10).astype(arr.dtype)"
   ]
  },
  {
   "cell_type": "markdown",
   "id": "097caedb-5eb1-41bf-9a95-9f9e01e5f6cb",
   "metadata": {},
   "source": [
    "## NumPy数组的运算"
   ]
  },
  {
   "cell_type": "code",
   "execution_count": 24,
   "id": "a1fb41da-16c5-44e0-bf3e-b8b98006860f",
   "metadata": {},
   "outputs": [],
   "source": [
    "arr = np.arange(6).reshape((2,3)).astype('f4')"
   ]
  },
  {
   "cell_type": "code",
   "execution_count": 25,
   "id": "7e15a2c7-f7a1-4ade-8cb6-687d251b0057",
   "metadata": {},
   "outputs": [
    {
     "data": {
      "text/plain": [
       "array([[ 0.,  1.,  4.],\n",
       "       [ 9., 16., 25.]], dtype=float32)"
      ]
     },
     "execution_count": 25,
     "metadata": {},
     "output_type": "execute_result"
    }
   ],
   "source": [
    "arr * arr"
   ]
  },
  {
   "cell_type": "code",
   "execution_count": 26,
   "id": "e25deb4b-cd35-4ea7-b0de-e489e9db10cc",
   "metadata": {},
   "outputs": [
    {
     "data": {
      "text/plain": [
       "array([[0., 0., 0.],\n",
       "       [0., 0., 0.]], dtype=float32)"
      ]
     },
     "execution_count": 26,
     "metadata": {},
     "output_type": "execute_result"
    }
   ],
   "source": [
    "arr - arr"
   ]
  },
  {
   "cell_type": "code",
   "execution_count": 27,
   "id": "5f7e2575-0c47-4b78-b962-1d6e18c7815b",
   "metadata": {},
   "outputs": [
    {
     "name": "stderr",
     "output_type": "stream",
     "text": [
      "D:\\tts9\\python\\miniconda3\\lib\\site-packages\\ipykernel_launcher.py:1: RuntimeWarning: divide by zero encountered in true_divide\n",
      "  \"\"\"Entry point for launching an IPython kernel.\n"
     ]
    },
    {
     "data": {
      "text/plain": [
       "array([[       inf, 1.        , 0.5       ],\n",
       "       [0.33333334, 0.25      , 0.2       ]], dtype=float32)"
      ]
     },
     "execution_count": 27,
     "metadata": {},
     "output_type": "execute_result"
    }
   ],
   "source": [
    "1 / arr"
   ]
  },
  {
   "cell_type": "code",
   "execution_count": 28,
   "id": "a43c909b-cdba-4046-bc1c-fbef7ae4da6f",
   "metadata": {},
   "outputs": [
    {
     "data": {
      "text/plain": [
       "array([[0.       , 1.       , 1.4142135],\n",
       "       [1.7320508, 2.       , 2.236068 ]], dtype=float32)"
      ]
     },
     "execution_count": 28,
     "metadata": {},
     "output_type": "execute_result"
    }
   ],
   "source": [
    "arr ** 0.5"
   ]
  },
  {
   "cell_type": "code",
   "execution_count": 29,
   "id": "e019e9a2-a0c8-41d4-9f90-7babddd28800",
   "metadata": {},
   "outputs": [],
   "source": [
    "arr2 = np.array([[0., 4., 1.], [7., 2., 12.]])"
   ]
  },
  {
   "cell_type": "code",
   "execution_count": 30,
   "id": "7e1b7cd3-a807-4f42-9887-975f46dc4f53",
   "metadata": {},
   "outputs": [
    {
     "data": {
      "text/plain": [
       "array([[False,  True, False],\n",
       "       [ True, False,  True]])"
      ]
     },
     "execution_count": 30,
     "metadata": {},
     "output_type": "execute_result"
    }
   ],
   "source": [
    "arr2 > arr"
   ]
  },
  {
   "cell_type": "markdown",
   "id": "5aa092d6-5984-40e8-a606-c7a2f121bcc8",
   "metadata": {},
   "source": [
    "## 基本的索引 *"
   ]
  },
  {
   "cell_type": "code",
   "execution_count": 31,
   "id": "dbc1abd8-a175-4c2c-84a6-f71297e7f388",
   "metadata": {},
   "outputs": [],
   "source": [
    "# 向量\n",
    "arr = np.arange(10)"
   ]
  },
  {
   "cell_type": "code",
   "execution_count": 32,
   "id": "1804a3a3-c073-448f-800f-77485dc05afb",
   "metadata": {},
   "outputs": [
    {
     "data": {
      "text/plain": [
       "array([0, 1, 2, 3, 4, 5, 6, 7, 8, 9])"
      ]
     },
     "execution_count": 32,
     "metadata": {},
     "output_type": "execute_result"
    }
   ],
   "source": [
    "arr"
   ]
  },
  {
   "cell_type": "code",
   "execution_count": 33,
   "id": "65f80af2-dacb-4cd9-bf53-f785cd9b569f",
   "metadata": {},
   "outputs": [
    {
     "data": {
      "text/plain": [
       "5"
      ]
     },
     "execution_count": 33,
     "metadata": {},
     "output_type": "execute_result"
    }
   ],
   "source": [
    "arr[5]"
   ]
  },
  {
   "cell_type": "code",
   "execution_count": 34,
   "id": "b8038e58-6367-4d0c-a310-ee7fd60e6696",
   "metadata": {},
   "outputs": [
    {
     "data": {
      "text/plain": [
       "array([5, 6, 7])"
      ]
     },
     "execution_count": 34,
     "metadata": {},
     "output_type": "execute_result"
    }
   ],
   "source": [
    "arr[5:8]"
   ]
  },
  {
   "cell_type": "code",
   "execution_count": 35,
   "id": "a800527a-c16d-4bf5-b2c1-a357c970f080",
   "metadata": {},
   "outputs": [
    {
     "name": "stdout",
     "output_type": "stream",
     "text": [
      "[ 0  1  2  3  4 12 12 12  8  9]\n"
     ]
    }
   ],
   "source": [
    "# 数据不会被复制\n",
    "arr[5:8] = 12\n",
    "print(arr)"
   ]
  },
  {
   "cell_type": "code",
   "execution_count": 36,
   "id": "223ad449-32a7-45fb-b9c9-f3e1051a05e8",
   "metadata": {},
   "outputs": [
    {
     "name": "stdout",
     "output_type": "stream",
     "text": [
      "[10 10 10 10 10 10 10 10 10 10]\n"
     ]
    }
   ],
   "source": [
    "arr[:] = 10\n",
    "print(arr)"
   ]
  },
  {
   "cell_type": "code",
   "execution_count": 37,
   "id": "06ab4015-6e9d-4182-ac85-50397b063709",
   "metadata": {},
   "outputs": [],
   "source": [
    "arr2d = np.arange(9).reshape(3, -1)"
   ]
  },
  {
   "cell_type": "code",
   "execution_count": 38,
   "id": "7d2d7f6d-78c2-4d1a-9801-329394b6aae0",
   "metadata": {},
   "outputs": [
    {
     "data": {
      "text/plain": [
       "array([[0, 1, 2],\n",
       "       [3, 4, 5],\n",
       "       [6, 7, 8]])"
      ]
     },
     "execution_count": 38,
     "metadata": {},
     "output_type": "execute_result"
    }
   ],
   "source": [
    "# 二维\n",
    "arr2d"
   ]
  },
  {
   "cell_type": "code",
   "execution_count": 39,
   "id": "c6984bfc-1eaf-4b3a-b7b8-4aaf49ac7f4c",
   "metadata": {},
   "outputs": [
    {
     "data": {
      "text/plain": [
       "array([6, 7, 8])"
      ]
     },
     "execution_count": 39,
     "metadata": {},
     "output_type": "execute_result"
    }
   ],
   "source": [
    "arr2d[2] # 第一个维度"
   ]
  },
  {
   "cell_type": "code",
   "execution_count": 67,
   "id": "288d1c02-876f-4112-b0b5-a10fa76eae10",
   "metadata": {},
   "outputs": [
    {
     "data": {
      "text/plain": [
       "6"
      ]
     },
     "execution_count": 67,
     "metadata": {},
     "output_type": "execute_result"
    }
   ],
   "source": [
    "arr2d[2][0]"
   ]
  },
  {
   "cell_type": "code",
   "execution_count": 68,
   "id": "7dfa1b4e-0610-4e00-9799-799e5df0dd41",
   "metadata": {},
   "outputs": [
    {
     "data": {
      "text/plain": [
       "6"
      ]
     },
     "execution_count": 68,
     "metadata": {},
     "output_type": "execute_result"
    }
   ],
   "source": [
    "arr2d[2,0] # 等同于 arr2d[2][0]"
   ]
  },
  {
   "cell_type": "code",
   "execution_count": 13,
   "id": "b10eebba-c369-417e-ac3c-9b860d725ec3",
   "metadata": {
    "ExecuteTime": {
     "end_time": "2024-12-11T01:58:57.775272Z",
     "start_time": "2024-12-11T01:58:57.748092Z"
    }
   },
   "outputs": [
    {
     "data": {
      "text/plain": "array([[[ 0,  1,  2],\n        [ 3,  4,  5]],\n\n       [[ 6,  7,  8],\n        [ 9, 10, 11]]])"
     },
     "execution_count": 13,
     "metadata": {},
     "output_type": "execute_result"
    }
   ],
   "source": [
    "arr3d = np.arange(12).reshape((2,2,3))\n",
    "arr3d"
   ]
  },
  {
   "cell_type": "code",
   "execution_count": 14,
   "id": "513358dd-ad4c-4364-8e92-ed70193c7d0c",
   "metadata": {
    "ExecuteTime": {
     "end_time": "2024-12-11T01:59:16.244858Z",
     "start_time": "2024-12-11T01:59:16.232441Z"
    }
   },
   "outputs": [
    {
     "data": {
      "text/plain": "array([[0, 1, 2],\n       [3, 4, 5]])"
     },
     "execution_count": 14,
     "metadata": {},
     "output_type": "execute_result"
    }
   ],
   "source": [
    "arr3d[0]"
   ]
  },
  {
   "cell_type": "code",
   "execution_count": 15,
   "id": "c7dd5242",
   "metadata": {
    "ExecuteTime": {
     "end_time": "2024-12-11T01:59:20.225990Z",
     "start_time": "2024-12-11T01:59:20.215520Z"
    }
   },
   "outputs": [
    {
     "data": {
      "text/plain": "array([3, 4, 5])"
     },
     "execution_count": 15,
     "metadata": {},
     "output_type": "execute_result"
    }
   ],
   "source": [
    "arr3d[0][1]"
   ]
  },
  {
   "cell_type": "code",
   "execution_count": 16,
   "id": "2ca61641-1e14-4def-806f-85a4034787a0",
   "metadata": {
    "ExecuteTime": {
     "end_time": "2024-12-11T01:59:26.646527Z",
     "start_time": "2024-12-11T01:59:26.636964Z"
    }
   },
   "outputs": [
    {
     "data": {
      "text/plain": "array([3, 4, 5])"
     },
     "execution_count": 16,
     "metadata": {},
     "output_type": "execute_result"
    }
   ],
   "source": [
    "arr3d[0,1] # 等同于arr3d[0][1] 索引可以 切片不能这么用"
   ]
  },
  {
   "cell_type": "markdown",
   "id": "c83fecad-59da-407d-bbef-154d1a1cf144",
   "metadata": {},
   "source": [
    "# 切片索引"
   ]
  },
  {
   "cell_type": "code",
   "execution_count": 46,
   "id": "4da5a80a-1c7d-4218-83b6-5fb4067adb80",
   "metadata": {},
   "outputs": [],
   "source": [
    "arr = np.arange(10)"
   ]
  },
  {
   "cell_type": "code",
   "execution_count": 47,
   "id": "7f3a0526",
   "metadata": {},
   "outputs": [
    {
     "data": {
      "text/plain": [
       "array([1, 2, 3, 4, 5])"
      ]
     },
     "execution_count": 47,
     "metadata": {},
     "output_type": "execute_result"
    }
   ],
   "source": [
    "arr[1:6]"
   ]
  },
  {
   "cell_type": "code",
   "execution_count": 48,
   "id": "c9652875",
   "metadata": {},
   "outputs": [
    {
     "data": {
      "text/plain": [
       "array([[0, 1, 2],\n",
       "       [3, 4, 5]])"
      ]
     },
     "execution_count": 48,
     "metadata": {},
     "output_type": "execute_result"
    }
   ],
   "source": [
    "arr2d[:2]"
   ]
  },
  {
   "cell_type": "code",
   "execution_count": 70,
   "id": "31e5f02d",
   "metadata": {},
   "outputs": [
    {
     "data": {
      "text/plain": [
       "array([[3, 4, 5]])"
      ]
     },
     "execution_count": 70,
     "metadata": {},
     "output_type": "execute_result"
    }
   ],
   "source": [
    "arr2d[:2][1:] # arr2d[:2]子矩阵[1:]"
   ]
  },
  {
   "cell_type": "code",
   "execution_count": 49,
   "id": "f9497580",
   "metadata": {},
   "outputs": [
    {
     "data": {
      "text/plain": [
       "array([[1, 2],\n",
       "       [4, 5]])"
      ]
     },
     "execution_count": 49,
     "metadata": {},
     "output_type": "execute_result"
    }
   ],
   "source": [
    "arr2d[:2,1:] # 行 列"
   ]
  },
  {
   "cell_type": "code",
   "execution_count": 51,
   "id": "929bfb43",
   "metadata": {},
   "outputs": [
    {
     "data": {
      "text/plain": [
       "array([3, 4, 5])"
      ]
     },
     "execution_count": 51,
     "metadata": {},
     "output_type": "execute_result"
    }
   ],
   "source": [
    "arr2d[:][1]"
   ]
  },
  {
   "cell_type": "code",
   "execution_count": 50,
   "id": "4503ba82",
   "metadata": {},
   "outputs": [
    {
     "data": {
      "text/plain": [
       "array([1, 4, 7])"
      ]
     },
     "execution_count": 50,
     "metadata": {},
     "output_type": "execute_result"
    }
   ],
   "source": [
    "arr2d[:,1]"
   ]
  },
  {
   "cell_type": "markdown",
   "id": "c8825e4a",
   "metadata": {},
   "source": [
    "## 布尔型索引"
   ]
  },
  {
   "cell_type": "code",
   "execution_count": 52,
   "id": "7c8628a5",
   "metadata": {},
   "outputs": [],
   "source": [
    "arr = np.arange(10)"
   ]
  },
  {
   "cell_type": "code",
   "execution_count": 53,
   "id": "b18cea9e",
   "metadata": {},
   "outputs": [],
   "source": [
    "arr1 = np.array([0,1,2,3,4,6,6,7,8,9])"
   ]
  },
  {
   "cell_type": "code",
   "execution_count": 54,
   "id": "c05d9bb7",
   "metadata": {},
   "outputs": [
    {
     "data": {
      "text/plain": [
       "array([ True,  True,  True,  True,  True, False,  True,  True,  True,\n",
       "        True])"
      ]
     },
     "execution_count": 54,
     "metadata": {},
     "output_type": "execute_result"
    }
   ],
   "source": [
    "arr == arr1"
   ]
  },
  {
   "cell_type": "code",
   "execution_count": 55,
   "id": "5eb95f20",
   "metadata": {},
   "outputs": [
    {
     "data": {
      "text/plain": [
       "array([5])"
      ]
     },
     "execution_count": 55,
     "metadata": {},
     "output_type": "execute_result"
    }
   ],
   "source": [
    "arr[~(arr == arr1)] # 布尔型数组的长度必须跟被索引的轴长度一致"
   ]
  },
  {
   "cell_type": "code",
   "execution_count": 56,
   "id": "011bd7db",
   "metadata": {},
   "outputs": [
    {
     "data": {
      "text/plain": [
       "array([5, 8])"
      ]
     },
     "execution_count": 56,
     "metadata": {},
     "output_type": "execute_result"
    }
   ],
   "source": [
    "arr[~(arr == arr1) | (arr == 8)]"
   ]
  },
  {
   "cell_type": "code",
   "execution_count": 57,
   "id": "f9b7ff57",
   "metadata": {},
   "outputs": [],
   "source": [
    "# 可以做数据筛选 或 赋值\n",
    "arr[arr == 0] = 100"
   ]
  },
  {
   "cell_type": "code",
   "execution_count": 58,
   "id": "d1841fc2",
   "metadata": {},
   "outputs": [
    {
     "data": {
      "text/plain": [
       "array([100,   1,   2,   3,   4,   5,   6,   7,   8,   9])"
      ]
     },
     "execution_count": 58,
     "metadata": {},
     "output_type": "execute_result"
    }
   ],
   "source": [
    "arr"
   ]
  },
  {
   "cell_type": "markdown",
   "id": "ea2819f2",
   "metadata": {},
   "source": [
    "## 花式索引\n",
    "用整数数组进行索引。花式索引跟切片不一样，它总是将数据复制到新数组中"
   ]
  },
  {
   "cell_type": "code",
   "execution_count": 20,
   "id": "f137ecab",
   "metadata": {
    "ExecuteTime": {
     "end_time": "2024-12-11T02:19:57.800458Z",
     "start_time": "2024-12-11T02:19:57.787822Z"
    }
   },
   "outputs": [
    {
     "data": {
      "text/plain": "array([[0., 0., 0., 0.],\n       [1., 1., 1., 1.],\n       [2., 2., 2., 2.],\n       [3., 3., 3., 3.],\n       [4., 4., 4., 4.],\n       [5., 5., 5., 5.],\n       [6., 6., 6., 6.],\n       [7., 7., 7., 7.]])"
     },
     "execution_count": 20,
     "metadata": {},
     "output_type": "execute_result"
    }
   ],
   "source": [
    "arr = np.empty((8,4))\n",
    "for i in range(arr.shape[0]):\n",
    "    arr[i] = i\n",
    "arr"
   ]
  },
  {
   "cell_type": "code",
   "execution_count": 19,
   "id": "b6b04e74",
   "metadata": {
    "ExecuteTime": {
     "end_time": "2024-12-11T02:19:14.567009Z",
     "start_time": "2024-12-11T02:19:14.558579Z"
    }
   },
   "outputs": [
    {
     "data": {
      "text/plain": "array([[0., 1., 2., 3.],\n       [0., 1., 2., 3.],\n       [0., 1., 2., 3.],\n       [0., 1., 2., 3.]])"
     },
     "execution_count": 19,
     "metadata": {},
     "output_type": "execute_result"
    }
   ],
   "source": [
    "arr[[4,3,0,6]] # 以特定顺序选取行子集，只需传入一个用于指定顺序的整数列表或ndarray即可"
   ]
  },
  {
   "cell_type": "code",
   "execution_count": 63,
   "id": "7c36e805",
   "metadata": {},
   "outputs": [
    {
     "data": {
      "text/plain": [
       "array([[5., 5., 5., 5.],\n",
       "       [3., 3., 3., 3.],\n",
       "       [1., 1., 1., 1.]])"
      ]
     },
     "execution_count": 63,
     "metadata": {},
     "output_type": "execute_result"
    }
   ],
   "source": [
    "arr[[-3,-5,-7]]"
   ]
  },
  {
   "cell_type": "code",
   "execution_count": 64,
   "id": "1d9d93d5",
   "metadata": {},
   "outputs": [
    {
     "data": {
      "text/plain": [
       "array([0., 1., 2.])"
      ]
     },
     "execution_count": 64,
     "metadata": {},
     "output_type": "execute_result"
    }
   ],
   "source": [
    "arr[[0,1,2],[0,0,0]] # 行 列"
   ]
  },
  {
   "cell_type": "code",
   "execution_count": 72,
   "id": "8610654d",
   "metadata": {},
   "outputs": [
    {
     "data": {
      "text/plain": [
       "array([[0., 0., 0., 0.],\n",
       "       [1., 1., 1., 1.],\n",
       "       [2., 2., 2., 2.]])"
      ]
     },
     "execution_count": 72,
     "metadata": {},
     "output_type": "execute_result"
    }
   ],
   "source": [
    "arr[[0,1,2]][:,[0,0,0,0]] # 列排序"
   ]
  },
  {
   "cell_type": "markdown",
   "id": "f7afdfa2",
   "metadata": {},
   "source": [
    "## 数组转置和轴对换"
   ]
  },
  {
   "cell_type": "code",
   "execution_count": 74,
   "id": "634b5f2e",
   "metadata": {},
   "outputs": [
    {
     "name": "stdout",
     "output_type": "stream",
     "text": [
      "[[ 0  1  2  3  4]\n",
      " [ 5  6  7  8  9]\n",
      " [10 11 12 13 14]]\n"
     ]
    }
   ],
   "source": [
    "arr = np.arange(15).reshape((3,5))\n",
    "print(arr)"
   ]
  },
  {
   "cell_type": "code",
   "execution_count": 75,
   "id": "ceac58e1",
   "metadata": {},
   "outputs": [
    {
     "data": {
      "text/plain": [
       "array([[ 0,  5, 10],\n",
       "       [ 1,  6, 11],\n",
       "       [ 2,  7, 12],\n",
       "       [ 3,  8, 13],\n",
       "       [ 4,  9, 14]])"
      ]
     },
     "execution_count": 75,
     "metadata": {},
     "output_type": "execute_result"
    }
   ],
   "source": [
    "arr.T"
   ]
  },
  {
   "cell_type": "code",
   "execution_count": 21,
   "id": "873938d5",
   "metadata": {
    "ExecuteTime": {
     "end_time": "2024-12-11T02:20:43.139551Z",
     "start_time": "2024-12-11T02:20:43.116602Z"
    }
   },
   "outputs": [
    {
     "data": {
      "text/plain": "array([[[ 0,  1,  2,  3],\n        [ 4,  5,  6,  7],\n        [ 8,  9, 10, 11]],\n\n       [[12, 13, 14, 15],\n        [16, 17, 18, 19],\n        [20, 21, 22, 23]]])"
     },
     "execution_count": 21,
     "metadata": {},
     "output_type": "execute_result"
    }
   ],
   "source": [
    "arr = np.arange(24).reshape((2,3,4))\n",
    "arr"
   ]
  },
  {
   "cell_type": "code",
   "execution_count": 22,
   "id": "5e3bc39e",
   "metadata": {
    "ExecuteTime": {
     "end_time": "2024-12-11T02:20:46.252258Z",
     "start_time": "2024-12-11T02:20:46.243873Z"
    }
   },
   "outputs": [
    {
     "data": {
      "text/plain": "array([[[ 0, 12],\n        [ 4, 16],\n        [ 8, 20]],\n\n       [[ 1, 13],\n        [ 5, 17],\n        [ 9, 21]],\n\n       [[ 2, 14],\n        [ 6, 18],\n        [10, 22]],\n\n       [[ 3, 15],\n        [ 7, 19],\n        [11, 23]]])"
     },
     "execution_count": 22,
     "metadata": {},
     "output_type": "execute_result"
    }
   ],
   "source": [
    "arr.T"
   ]
  },
  {
   "cell_type": "code",
   "execution_count": 23,
   "id": "e40d21ca",
   "metadata": {
    "ExecuteTime": {
     "end_time": "2024-12-11T02:20:50.719085Z",
     "start_time": "2024-12-11T02:20:50.704624Z"
    }
   },
   "outputs": [
    {
     "data": {
      "text/plain": "(4, 3, 2)"
     },
     "execution_count": 23,
     "metadata": {},
     "output_type": "execute_result"
    }
   ],
   "source": [
    "arr.T.shape"
   ]
  },
  {
   "cell_type": "code",
   "execution_count": 80,
   "id": "5cedc801",
   "metadata": {},
   "outputs": [
    {
     "data": {
      "text/plain": [
       "array([[[ 0,  1,  2,  3],\n",
       "        [ 8,  9, 10, 11]],\n",
       "\n",
       "       [[ 4,  5,  6,  7],\n",
       "        [12, 13, 14, 15]]])"
      ]
     },
     "execution_count": 80,
     "metadata": {},
     "output_type": "execute_result"
    }
   ],
   "source": [
    "arr.transpose((1,0,2)) # transpose需要得到一个由轴编号组成的元组才能对这些轴进行转置"
   ]
  },
  {
   "cell_type": "code",
   "execution_count": 24,
   "id": "ef1c3de5",
   "metadata": {
    "ExecuteTime": {
     "end_time": "2024-12-11T02:21:18.529253Z",
     "start_time": "2024-12-11T02:21:18.510661Z"
    }
   },
   "outputs": [
    {
     "data": {
      "text/plain": "array([[[ 0,  4,  8],\n        [ 1,  5,  9],\n        [ 2,  6, 10],\n        [ 3,  7, 11]],\n\n       [[12, 16, 20],\n        [13, 17, 21],\n        [14, 18, 22],\n        [15, 19, 23]]])"
     },
     "execution_count": 24,
     "metadata": {},
     "output_type": "execute_result"
    }
   ],
   "source": [
    "arr.swapaxes(1, 2) # 进行轴对换"
   ]
  },
  {
   "cell_type": "code",
   "outputs": [
    {
     "data": {
      "text/plain": "(2, 4, 3)"
     },
     "execution_count": 25,
     "metadata": {},
     "output_type": "execute_result"
    }
   ],
   "source": [
    "arr.swapaxes(1, 2) .shape"
   ],
   "metadata": {
    "collapsed": false,
    "ExecuteTime": {
     "end_time": "2024-12-11T02:21:34.468069Z",
     "start_time": "2024-12-11T02:21:34.447246Z"
    }
   },
   "id": "c2bf9356a64653fb",
   "execution_count": 25
  },
  {
   "cell_type": "markdown",
   "id": "ab61a5e1",
   "metadata": {},
   "source": [
    "## 通用函数"
   ]
  },
  {
   "cell_type": "code",
   "execution_count": 82,
   "id": "6b2fc77d",
   "metadata": {},
   "outputs": [],
   "source": [
    "arr = np.arange(10)"
   ]
  },
  {
   "cell_type": "code",
   "execution_count": 83,
   "id": "0fe9ebf3",
   "metadata": {},
   "outputs": [
    {
     "data": {
      "text/plain": [
       "array([0.        , 1.        , 1.41421356, 1.73205081, 2.        ,\n",
       "       2.23606798, 2.44948974, 2.64575131, 2.82842712, 3.        ])"
      ]
     },
     "execution_count": 83,
     "metadata": {},
     "output_type": "execute_result"
    }
   ],
   "source": [
    "np.sqrt(arr)"
   ]
  },
  {
   "cell_type": "code",
   "execution_count": 84,
   "id": "0e44dde9",
   "metadata": {},
   "outputs": [
    {
     "data": {
      "text/plain": [
       "array([1.00000000e+00, 2.71828183e+00, 7.38905610e+00, 2.00855369e+01,\n",
       "       5.45981500e+01, 1.48413159e+02, 4.03428793e+02, 1.09663316e+03,\n",
       "       2.98095799e+03, 8.10308393e+03])"
      ]
     },
     "execution_count": 84,
     "metadata": {},
     "output_type": "execute_result"
    }
   ],
   "source": [
    "np.exp(arr)"
   ]
  },
  {
   "cell_type": "code",
   "execution_count": 26,
   "id": "60624b7a",
   "metadata": {
    "ExecuteTime": {
     "end_time": "2024-12-11T02:23:29.748973Z",
     "start_time": "2024-12-11T02:23:29.736297Z"
    }
   },
   "outputs": [
    {
     "name": "stdout",
     "output_type": "stream",
     "text": [
      "[ 0.83520368 -0.86354468  0.85155391  1.0754798   1.46226934  1.21659632\n",
      "  0.33230467  0.1063977 ]\n",
      "[-1.94357259  0.42499422  1.28493537 -0.67236512  0.59396195  0.23216396\n",
      "  0.33988615 -0.08338859]\n"
     ]
    },
    {
     "data": {
      "text/plain": "array([0.83520368, 0.42499422, 1.28493537, 1.0754798 , 1.46226934,\n       1.21659632, 0.33988615, 0.1063977 ])"
     },
     "execution_count": 26,
     "metadata": {},
     "output_type": "execute_result"
    }
   ],
   "source": [
    "x = np.random.randn(8)\n",
    "print(x)\n",
    "y = np.random.randn(8)\n",
    "print(y)\n",
    "np.maximum(x,y) # 计算了x和y中元素级别最大的元素"
   ]
  },
  {
   "cell_type": "markdown",
   "id": "061d0028",
   "metadata": {},
   "source": [
    "## 数据处理"
   ]
  },
  {
   "cell_type": "code",
   "execution_count": 27,
   "id": "9c3a83f3",
   "metadata": {
    "ExecuteTime": {
     "end_time": "2024-12-11T02:24:20.765034Z",
     "start_time": "2024-12-11T02:24:20.756648Z"
    }
   },
   "outputs": [],
   "source": [
    "# 网格\n",
    "arr = np.arange(3)"
   ]
  },
  {
   "cell_type": "code",
   "execution_count": 28,
   "id": "a9fada93",
   "metadata": {
    "ExecuteTime": {
     "end_time": "2024-12-11T02:24:22.622444Z",
     "start_time": "2024-12-11T02:24:22.611603Z"
    }
   },
   "outputs": [
    {
     "name": "stdout",
     "output_type": "stream",
     "text": [
      "[[0 1 2]\n",
      " [0 1 2]\n",
      " [0 1 2]]\n",
      "[[0 0 0]\n",
      " [1 1 1]\n",
      " [2 2 2]]\n"
     ]
    }
   ],
   "source": [
    "xs, ys = np.meshgrid(arr, arr)\n",
    "print(xs)\n",
    "print(ys)"
   ]
  },
  {
   "cell_type": "code",
   "outputs": [
    {
     "name": "stdout",
     "output_type": "stream",
     "text": [
      "Help on function meshgrid in module numpy:\n",
      "\n",
      "meshgrid(*xi, copy=True, sparse=False, indexing='xy')\n",
      "    Return coordinate matrices from coordinate vectors.\n",
      "    \n",
      "    Make N-D coordinate arrays for vectorized evaluations of\n",
      "    N-D scalar/vector fields over N-D grids, given\n",
      "    one-dimensional coordinate arrays x1, x2,..., xn.\n",
      "    \n",
      "    .. versionchanged:: 1.9\n",
      "       1-D and 0-D cases are allowed.\n",
      "    \n",
      "    Parameters\n",
      "    ----------\n",
      "    x1, x2,..., xn : array_like\n",
      "        1-D arrays representing the coordinates of a grid.\n",
      "    indexing : {'xy', 'ij'}, optional\n",
      "        Cartesian ('xy', default) or matrix ('ij') indexing of output.\n",
      "        See Notes for more details.\n",
      "    \n",
      "        .. versionadded:: 1.7.0\n",
      "    sparse : bool, optional\n",
      "        If True a sparse grid is returned in order to conserve memory.\n",
      "        Default is False.\n",
      "    \n",
      "        .. versionadded:: 1.7.0\n",
      "    copy : bool, optional\n",
      "        If False, a view into the original arrays are returned in order to\n",
      "        conserve memory.  Default is True.  Please note that\n",
      "        ``sparse=False, copy=False`` will likely return non-contiguous\n",
      "        arrays.  Furthermore, more than one element of a broadcast array\n",
      "        may refer to a single memory location.  If you need to write to the\n",
      "        arrays, make copies first.\n",
      "    \n",
      "        .. versionadded:: 1.7.0\n",
      "    \n",
      "    Returns\n",
      "    -------\n",
      "    X1, X2,..., XN : ndarray\n",
      "        For vectors `x1`, `x2`,..., 'xn' with lengths ``Ni=len(xi)`` ,\n",
      "        return ``(N1, N2, N3,...Nn)`` shaped arrays if indexing='ij'\n",
      "        or ``(N2, N1, N3,...Nn)`` shaped arrays if indexing='xy'\n",
      "        with the elements of `xi` repeated to fill the matrix along\n",
      "        the first dimension for `x1`, the second for `x2` and so on.\n",
      "    \n",
      "    Notes\n",
      "    -----\n",
      "    This function supports both indexing conventions through the indexing\n",
      "    keyword argument.  Giving the string 'ij' returns a meshgrid with\n",
      "    matrix indexing, while 'xy' returns a meshgrid with Cartesian indexing.\n",
      "    In the 2-D case with inputs of length M and N, the outputs are of shape\n",
      "    (N, M) for 'xy' indexing and (M, N) for 'ij' indexing.  In the 3-D case\n",
      "    with inputs of length M, N and P, outputs are of shape (N, M, P) for\n",
      "    'xy' indexing and (M, N, P) for 'ij' indexing.  The difference is\n",
      "    illustrated by the following code snippet::\n",
      "    \n",
      "        xv, yv = np.meshgrid(x, y, sparse=False, indexing='ij')\n",
      "        for i in range(nx):\n",
      "            for j in range(ny):\n",
      "                # treat xv[i,j], yv[i,j]\n",
      "    \n",
      "        xv, yv = np.meshgrid(x, y, sparse=False, indexing='xy')\n",
      "        for i in range(nx):\n",
      "            for j in range(ny):\n",
      "                # treat xv[j,i], yv[j,i]\n",
      "    \n",
      "    In the 1-D and 0-D case, the indexing and sparse keywords have no effect.\n",
      "    \n",
      "    See Also\n",
      "    --------\n",
      "    mgrid : Construct a multi-dimensional \"meshgrid\" using indexing notation.\n",
      "    ogrid : Construct an open multi-dimensional \"meshgrid\" using indexing\n",
      "            notation.\n",
      "    \n",
      "    Examples\n",
      "    --------\n",
      "    >>> nx, ny = (3, 2)\n",
      "    >>> x = np.linspace(0, 1, nx)\n",
      "    >>> y = np.linspace(0, 1, ny)\n",
      "    >>> xv, yv = np.meshgrid(x, y)\n",
      "    >>> xv\n",
      "    array([[0. , 0.5, 1. ],\n",
      "           [0. , 0.5, 1. ]])\n",
      "    >>> yv\n",
      "    array([[0.,  0.,  0.],\n",
      "           [1.,  1.,  1.]])\n",
      "    >>> xv, yv = np.meshgrid(x, y, sparse=True)  # make sparse output arrays\n",
      "    >>> xv\n",
      "    array([[0. ,  0.5,  1. ]])\n",
      "    >>> yv\n",
      "    array([[0.],\n",
      "           [1.]])\n",
      "    \n",
      "    `meshgrid` is very useful to evaluate functions on a grid.\n",
      "    \n",
      "    >>> import matplotlib.pyplot as plt\n",
      "    >>> x = np.arange(-5, 5, 0.1)\n",
      "    >>> y = np.arange(-5, 5, 0.1)\n",
      "    >>> xx, yy = np.meshgrid(x, y, sparse=True)\n",
      "    >>> z = np.sin(xx**2 + yy**2) / (xx**2 + yy**2)\n",
      "    >>> h = plt.contourf(x, y, z)\n",
      "    >>> plt.axis('scaled')\n",
      "    >>> plt.show()\n"
     ]
    }
   ],
   "source": [
    "help(np.meshgrid)"
   ],
   "metadata": {
    "collapsed": false,
    "ExecuteTime": {
     "end_time": "2024-12-11T02:25:31.240193Z",
     "start_time": "2024-12-11T02:25:31.226660Z"
    }
   },
   "id": "c5193243622e9764",
   "execution_count": 30
  },
  {
   "cell_type": "code",
   "execution_count": 102,
   "id": "1d5952af",
   "metadata": {},
   "outputs": [],
   "source": [
    "z = np.sqrt(xs ** 2 + ys ** 2)"
   ]
  },
  {
   "cell_type": "code",
   "execution_count": 103,
   "id": "27f13928",
   "metadata": {},
   "outputs": [
    {
     "data": {
      "text/plain": [
       "array([[0.        , 1.        , 2.        ],\n",
       "       [1.        , 1.41421356, 2.23606798],\n",
       "       [2.        , 2.23606798, 2.82842712]])"
      ]
     },
     "execution_count": 103,
     "metadata": {},
     "output_type": "execute_result"
    }
   ],
   "source": [
    "z"
   ]
  },
  {
   "cell_type": "code",
   "execution_count": 104,
   "id": "649e9776",
   "metadata": {},
   "outputs": [
    {
     "data": {
      "text/plain": [
       "Text(0.5, 1.0, 'Image plot of $\\\\sqrt{x^2 + y^2}$ for a grid of values')"
      ]
     },
     "execution_count": 104,
     "metadata": {},
     "output_type": "execute_result"
    },
    {
     "data": {
      "image/png": "[encoded data removed]",
      "text/plain": [
       "<Figure size 640x480 with 2 Axes>"
      ]
     },
     "metadata": {},
     "output_type": "display_data"
    }
   ],
   "source": [
    "import matplotlib.pyplot as plt\n",
    "\n",
    "plt.imshow(z, cmap=plt.cm.gray); plt.colorbar()\n",
    "plt.title(\"Image plot of $\\sqrt{x^2 + y^2}$ for a grid of values\")"
   ]
  },
  {
   "cell_type": "markdown",
   "id": "1ca34b43",
   "metadata": {},
   "source": [
    "numpy.where函数是三元表达式x if condition else y的矢量化版本。"
   ]
  },
  {
   "cell_type": "code",
   "execution_count": 105,
   "id": "512f0650",
   "metadata": {},
   "outputs": [],
   "source": [
    "xarr = np.array([1.1, 1.2, 1.3, 1.4, 1.5])\n",
    "yarr = np.array([2.1, 2.2, 2.3, 2.4, 2.5])\n",
    "cond = np.array([True, False, True, True, False])"
   ]
  },
  {
   "cell_type": "code",
   "execution_count": 106,
   "id": "a6d0fc92",
   "metadata": {},
   "outputs": [
    {
     "data": {
      "text/plain": [
       "[1.1, 2.2, 1.3, 1.4, 2.5]"
      ]
     },
     "execution_count": 106,
     "metadata": {},
     "output_type": "execute_result"
    }
   ],
   "source": [
    "[(x if c else y) for x, y, c in zip(xarr, yarr, cond)]"
   ]
  },
  {
   "cell_type": "code",
   "execution_count": 107,
   "id": "8a3cf05e",
   "metadata": {},
   "outputs": [
    {
     "data": {
      "text/plain": [
       "array([1.1, 2.2, 1.3, 1.4, 2.5])"
      ]
     },
     "execution_count": 107,
     "metadata": {},
     "output_type": "execute_result"
    }
   ],
   "source": [
    "np.where(cond, xarr, yarr)"
   ]
  },
  {
   "cell_type": "code",
   "execution_count": 108,
   "id": "cea87245",
   "metadata": {},
   "outputs": [
    {
     "name": "stdout",
     "output_type": "stream",
     "text": [
      "[[-0.11125482 -0.89795529  1.37307734 -0.77781933]\n",
      " [ 1.02048162 -0.36322404 -0.54982442 -1.16697791]\n",
      " [-0.53773607 -0.15537256 -0.87131474 -0.30037086]\n",
      " [ 0.17547876  1.01650734 -0.80687189 -0.39095641]]\n"
     ]
    }
   ],
   "source": [
    "arr = np.random.randn(4, 4)\n",
    "print(arr)"
   ]
  },
  {
   "cell_type": "code",
   "execution_count": 109,
   "id": "7f16ef65",
   "metadata": {},
   "outputs": [
    {
     "data": {
      "text/plain": [
       "array([[-2, -2,  2, -2],\n",
       "       [ 2, -2, -2, -2],\n",
       "       [-2, -2, -2, -2],\n",
       "       [ 2,  2, -2, -2]])"
      ]
     },
     "execution_count": 109,
     "metadata": {},
     "output_type": "execute_result"
    }
   ],
   "source": [
    "np.where(arr > 0, 2, -2)"
   ]
  },
  {
   "cell_type": "code",
   "execution_count": 110,
   "id": "5ebdc3c3",
   "metadata": {},
   "outputs": [
    {
     "data": {
      "text/plain": [
       "array([[-0.11125482, -0.89795529,  2.        , -0.77781933],\n",
       "       [ 2.        , -0.36322404, -0.54982442, -1.16697791],\n",
       "       [-0.53773607, -0.15537256, -0.87131474, -0.30037086],\n",
       "       [ 2.        ,  2.        , -0.80687189, -0.39095641]])"
      ]
     },
     "execution_count": 110,
     "metadata": {},
     "output_type": "execute_result"
    }
   ],
   "source": [
    "np.where(arr > 0, 2, arr) # 可用常数2替换arr中所有正的值"
   ]
  },
  {
   "cell_type": "markdown",
   "id": "ab069cd5",
   "metadata": {},
   "source": [
    "## 数学和统计方法\n",
    "\n",
    "- sum\n",
    "- mean\n",
    "- std,var 标准差和方差  标准差是方差的算术平方根\n",
    "- min,max\n",
    "- argmin,argmax 最值索引\n",
    "- cumsum\n",
    "- cumprod"
   ]
  },
  {
   "cell_type": "code",
   "execution_count": 112,
   "id": "4a83f743",
   "metadata": {},
   "outputs": [
    {
     "name": "stdout",
     "output_type": "stream",
     "text": [
      "[[-0.73733158  1.24636057 -0.91310757 -0.05532082]\n",
      " [ 1.15783338  1.46800026 -1.05349858 -2.48896549]\n",
      " [-1.35254181  1.72652671 -1.52012929  0.18472445]\n",
      " [-0.53821971 -0.00406627  2.5455058   1.21147736]\n",
      " [ 1.08322572 -0.44279133 -0.50031879 -0.28663087]]\n"
     ]
    }
   ],
   "source": [
    "arr = np.random.randn(5,4)\n",
    "print(arr)"
   ]
  },
  {
   "cell_type": "code",
   "execution_count": 113,
   "id": "d03ddc16",
   "metadata": {},
   "outputs": [
    {
     "data": {
      "text/plain": [
       "0.03653660643874387"
      ]
     },
     "execution_count": 113,
     "metadata": {},
     "output_type": "execute_result"
    }
   ],
   "source": [
    "arr.mean()"
   ]
  },
  {
   "cell_type": "code",
   "execution_count": 115,
   "id": "311374e9",
   "metadata": {},
   "outputs": [
    {
     "data": {
      "text/plain": [
       "0.03653660643874387"
      ]
     },
     "execution_count": 115,
     "metadata": {},
     "output_type": "execute_result"
    }
   ],
   "source": [
    "np.mean(arr)"
   ]
  },
  {
   "cell_type": "code",
   "execution_count": 114,
   "id": "79fc7d12",
   "metadata": {},
   "outputs": [
    {
     "data": {
      "text/plain": [
       "0.7307321287748774"
      ]
     },
     "execution_count": 114,
     "metadata": {},
     "output_type": "execute_result"
    }
   ],
   "source": [
    "arr.sum()"
   ]
  },
  {
   "cell_type": "code",
   "execution_count": 116,
   "id": "f2ff8717",
   "metadata": {},
   "outputs": [
    {
     "data": {
      "text/plain": [
       "array([-0.11484985, -0.22915761, -0.24035499,  0.80367429, -0.03662882])"
      ]
     },
     "execution_count": 116,
     "metadata": {},
     "output_type": "execute_result"
    }
   ],
   "source": [
    "arr.mean(axis = 1) # 计算每行的均值"
   ]
  },
  {
   "cell_type": "code",
   "execution_count": 117,
   "id": "f4027e82",
   "metadata": {},
   "outputs": [
    {
     "data": {
      "text/plain": [
       "array([-0.387034  ,  3.99402993, -1.44154844, -1.43471537])"
      ]
     },
     "execution_count": 117,
     "metadata": {},
     "output_type": "execute_result"
    }
   ],
   "source": [
    "arr.sum(axis = 0) # 计算每列的和"
   ]
  },
  {
   "cell_type": "code",
   "execution_count": 118,
   "id": "24d59643",
   "metadata": {},
   "outputs": [],
   "source": [
    "arr = np.array([0, 1, 2, 3, 4, 5, 6, 7])"
   ]
  },
  {
   "cell_type": "code",
   "execution_count": 119,
   "id": "87e7e73a",
   "metadata": {},
   "outputs": [
    {
     "data": {
      "text/plain": [
       "array([ 0,  1,  3,  6, 10, 15, 21, 28], dtype=int32)"
      ]
     },
     "execution_count": 119,
     "metadata": {},
     "output_type": "execute_result"
    }
   ],
   "source": [
    "arr.cumsum()"
   ]
  },
  {
   "cell_type": "code",
   "execution_count": 120,
   "id": "ef9fe889",
   "metadata": {},
   "outputs": [],
   "source": [
    "arr = np.array([[0, 1, 2], [3, 4, 5], [6, 7, 8]])"
   ]
  },
  {
   "cell_type": "code",
   "execution_count": 121,
   "id": "7e13c49f",
   "metadata": {},
   "outputs": [
    {
     "data": {
      "text/plain": [
       "array([[ 0,  1,  2],\n",
       "       [ 3,  5,  7],\n",
       "       [ 9, 12, 15]], dtype=int32)"
      ]
     },
     "execution_count": 121,
     "metadata": {},
     "output_type": "execute_result"
    }
   ],
   "source": [
    "arr.cumsum(axis=0) # 列累加"
   ]
  },
  {
   "cell_type": "code",
   "execution_count": 122,
   "id": "7e3c2d49",
   "metadata": {},
   "outputs": [
    {
     "data": {
      "text/plain": [
       "array([[  0,   0,   0],\n",
       "       [  3,  12,  60],\n",
       "       [  6,  42, 336]], dtype=int32)"
      ]
     },
     "execution_count": 122,
     "metadata": {},
     "output_type": "execute_result"
    }
   ],
   "source": [
    "arr.cumprod(axis=1) # 行累乘"
   ]
  },
  {
   "cell_type": "markdown",
   "source": [
    "### 布尔型使用"
   ],
   "metadata": {
    "collapsed": false
   },
   "id": "ae76eac006442ad3"
  },
  {
   "cell_type": "code",
   "execution_count": 123,
   "id": "8fe2be4a",
   "metadata": {},
   "outputs": [
    {
     "data": {
      "text/plain": [
       "55"
      ]
     },
     "execution_count": 123,
     "metadata": {},
     "output_type": "execute_result"
    }
   ],
   "source": [
    "arr = np.random.randn(100) # 布尔型使用\n",
    "(arr > 0).sum()"
   ]
  },
  {
   "cell_type": "code",
   "execution_count": 124,
   "id": "8fab6948",
   "metadata": {},
   "outputs": [
    {
     "name": "stdout",
     "output_type": "stream",
     "text": [
      "True\n",
      "False\n"
     ]
    }
   ],
   "source": [
    "bools = np.array([False, False, True, False])\n",
    "print(bools.any()) # any用于测试数组中是否存在一个或多个True\n",
    "print(bools.all()) # all则检查数组中所有值是否都是True"
   ]
  },
  {
   "cell_type": "markdown",
   "id": "d3fecdf5",
   "metadata": {},
   "source": [
    "## 排序"
   ]
  },
  {
   "cell_type": "code",
   "execution_count": 125,
   "id": "779cdb3f",
   "metadata": {},
   "outputs": [],
   "source": [
    "arr = np.random.randn(6)\n",
    "arr.sort()"
   ]
  },
  {
   "cell_type": "code",
   "execution_count": 127,
   "id": "08f5fc32",
   "metadata": {},
   "outputs": [
    {
     "data": {
      "text/plain": [
       "array([-0.39801706, -0.06324864,  0.01906635,  0.38128097,  0.81464698,\n",
       "        2.42603871])"
      ]
     },
     "execution_count": 127,
     "metadata": {},
     "output_type": "execute_result"
    }
   ],
   "source": [
    "arr"
   ]
  },
  {
   "cell_type": "code",
   "execution_count": 128,
   "id": "f36cfed1",
   "metadata": {},
   "outputs": [],
   "source": [
    "arr = np.random.randn(5, 3)\n",
    "arr.sort(1) # 轴排序"
   ]
  },
  {
   "cell_type": "code",
   "execution_count": 129,
   "id": "16bf3ae0",
   "metadata": {},
   "outputs": [
    {
     "data": {
      "text/plain": [
       "array([[-0.31335672, -0.27466664,  1.09553856],\n",
       "       [-1.72785104, -0.79661637,  1.10695794],\n",
       "       [-1.3487165 , -0.56529332,  0.50159845],\n",
       "       [ 0.08818803,  0.18321665,  1.46534893],\n",
       "       [-1.43672057, -0.14420489,  1.26656931]])"
      ]
     },
     "execution_count": 129,
     "metadata": {},
     "output_type": "execute_result"
    }
   ],
   "source": [
    "arr"
   ]
  },
  {
   "cell_type": "markdown",
   "id": "f49aae06",
   "metadata": {},
   "source": [
    "## 集合操作：交并等\n",
    "- unique(x) 去重并排序\n",
    "- intersect1d(x,y) 交集并排序\n",
    "- union1d(x,y) 并集并排序\n",
    "- in1d(x,y) x是否包含y bool数组\n",
    "- setdiff1d(x,y) 集合差 在x不在y\n",
    "- setxor1d(x,y) 存在一个数组中但不同时存在两个中"
   ]
  },
  {
   "cell_type": "code",
   "execution_count": 130,
   "id": "ae9fb2f1",
   "metadata": {},
   "outputs": [
    {
     "data": {
      "text/plain": [
       "array([1, 2, 3, 4])"
      ]
     },
     "execution_count": 130,
     "metadata": {},
     "output_type": "execute_result"
    }
   ],
   "source": [
    "ints = np.array([3, 3, 3, 2, 2, 1, 1, 4, 4])\n",
    "np.unique(ints) # 去重并排序"
   ]
  },
  {
   "cell_type": "code",
   "execution_count": 131,
   "id": "58d02af8",
   "metadata": {},
   "outputs": [
    {
     "data": {
      "text/plain": [
       "[1, 2, 3, 4]"
      ]
     },
     "execution_count": 131,
     "metadata": {},
     "output_type": "execute_result"
    }
   ],
   "source": [
    "sorted(set(ints))"
   ]
  },
  {
   "cell_type": "markdown",
   "id": "7a9f1385",
   "metadata": {},
   "source": [
    "## 数组的文件输入输出"
   ]
  },
  {
   "cell_type": "code",
   "execution_count": 132,
   "id": "9606c821",
   "metadata": {},
   "outputs": [],
   "source": [
    "arr = np.arange(10)\n",
    "np.save('some_array', arr) # 数组是以未压缩的原始二进制格式保存在扩展名为.npy的文件中"
   ]
  },
  {
   "cell_type": "code",
   "execution_count": 133,
   "id": "bfcf2c94",
   "metadata": {},
   "outputs": [
    {
     "data": {
      "text/plain": [
       "array([0, 1, 2, 3, 4, 5, 6, 7, 8, 9])"
      ]
     },
     "execution_count": 133,
     "metadata": {},
     "output_type": "execute_result"
    }
   ],
   "source": [
    "np.load('some_array.npy')"
   ]
  },
  {
   "cell_type": "code",
   "execution_count": 134,
   "id": "54c2d156",
   "metadata": {},
   "outputs": [],
   "source": [
    "np.savez('array_archive.npz', a=arr, b=arr) # 将多个数组保存到一个未压缩文件"
   ]
  },
  {
   "cell_type": "code",
   "execution_count": 135,
   "id": "1e83e4af",
   "metadata": {},
   "outputs": [
    {
     "data": {
      "text/plain": [
       "<numpy.lib.npyio.NpzFile at 0x2237834a208>"
      ]
     },
     "execution_count": 135,
     "metadata": {},
     "output_type": "execute_result"
    }
   ],
   "source": [
    "np.load('array_archive.npz') # 类似字典的对象，该对象会对各个数组进行延迟加载"
   ]
  },
  {
   "cell_type": "code",
   "execution_count": 136,
   "id": "c62f1857",
   "metadata": {},
   "outputs": [],
   "source": [
    "np.savez_compressed('arrays_compressed.npz', a=arr, b=arr) # 将数据压缩"
   ]
  },
  {
   "cell_type": "markdown",
   "id": "53fd0cfa",
   "metadata": {},
   "source": [
    "## 线性代数\n",
    "- diag 以一维数组的形式返回方阵的对角线\n",
    "- dot\n",
    "- trace 计算对角线元素的和\n",
    "- det 计算矩阵的行列式\n",
    "- eig 计算方阵的本征值和本征向量\n",
    "- inv 求方阵的逆\n",
    "- pinv 矩阵的伪逆\n",
    "- qr qr分解\n",
    "- svd\n",
    "- solve 计算Ax=b 其中A为方阵\n",
    "- lstsq 计算Ax=b的最小二乘解"
   ]
  },
  {
   "cell_type": "code",
   "execution_count": 34,
   "id": "9079ec2d",
   "metadata": {
    "ExecuteTime": {
     "end_time": "2024-12-11T02:35:15.261482Z",
     "start_time": "2024-12-11T02:35:15.247480Z"
    }
   },
   "outputs": [],
   "source": [
    "x = np.array([[1., 2., 3.], [4., 5., 6.]])\n",
    "y = np.array([[6., 23.], [-1, 7], [8, 9]])"
   ]
  },
  {
   "cell_type": "code",
   "execution_count": 36,
   "id": "6a55a267",
   "metadata": {
    "ExecuteTime": {
     "end_time": "2024-12-11T02:35:38.145856Z",
     "start_time": "2024-12-11T02:35:38.134344Z"
    }
   },
   "outputs": [
    {
     "data": {
      "text/plain": "array([[ 28.,  64.],\n       [ 67., 181.]])"
     },
     "execution_count": 36,
     "metadata": {},
     "output_type": "execute_result"
    }
   ],
   "source": [
    "x.dot(y)\n",
    "np.dot(x,y)\n",
    "x @ y"
   ]
  },
  {
   "cell_type": "code",
   "execution_count": 37,
   "id": "31ed6f73",
   "metadata": {
    "ExecuteTime": {
     "end_time": "2024-12-11T02:36:18.131343Z",
     "start_time": "2024-12-11T02:36:18.117654Z"
    }
   },
   "outputs": [],
   "source": [
    "from numpy.linalg import inv,qr"
   ]
  },
  {
   "cell_type": "code",
   "outputs": [
    {
     "data": {
      "text/plain": "array([[-0.48343221,  0.92527293, -1.39705029, -0.63290231,  0.02879351],\n       [-0.58731705, -0.11587646,  2.31578688,  1.29742011, -1.10284409],\n       [ 0.87838183, -0.05625484,  1.36866115, -0.25752171,  0.2920636 ],\n       [ 0.08934566, -1.51913197,  0.30981916, -0.09559484,  0.16168652],\n       [-0.34628579, -0.68168279, -0.36749826, -0.09280476,  0.52197531]])"
     },
     "execution_count": 42,
     "metadata": {},
     "output_type": "execute_result"
    }
   ],
   "source": [
    "X = np.random.randn(5,5)\n",
    "X"
   ],
   "metadata": {
    "collapsed": false,
    "ExecuteTime": {
     "end_time": "2024-12-11T02:37:36.298302Z",
     "start_time": "2024-12-11T02:37:36.272083Z"
    }
   },
   "id": "ca10c8eaec13cdb5",
   "execution_count": 42
  },
  {
   "cell_type": "code",
   "outputs": [
    {
     "data": {
      "text/plain": "array([[ 1.47809915, -0.32833453,  0.67242551, -0.65863799,  0.72403614],\n       [-0.32833453,  3.64517533, -1.85813076, -0.51297639, -0.46343922],\n       [ 0.67242551, -1.85813076,  9.41889459,  3.54077335, -2.33617319],\n       [-0.65863799, -0.51297639,  3.54077335,  2.16793281, -1.5881865 ],\n       [ 0.72403614, -0.46343922, -2.33617319, -1.5881865 ,  1.60099606]])"
     },
     "execution_count": 43,
     "metadata": {},
     "output_type": "execute_result"
    }
   ],
   "source": [
    "mat = X.T.dot(X)\n",
    "mat"
   ],
   "metadata": {
    "collapsed": false,
    "ExecuteTime": {
     "end_time": "2024-12-11T02:37:39.704089Z",
     "start_time": "2024-12-11T02:37:39.693759Z"
    }
   },
   "id": "9cd42f06c4e18aa9",
   "execution_count": 43
  },
  {
   "cell_type": "code",
   "outputs": [
    {
     "data": {
      "text/plain": "array([[ 2.647241  , -0.31965128, -1.26839709,  1.82782891, -1.32736067],\n       [-0.31965128,  0.58367262,  0.23543933,  0.50431756,  1.15735029],\n       [-1.26839709,  0.23543933,  0.90717704, -1.35896879,  0.6174306 ],\n       [ 1.82782891,  0.50431756, -1.35896879,  5.13799234,  2.43324144],\n       [-1.32736067,  1.15735029,  0.6174306 ,  2.43324144,  4.87464324]])"
     },
     "execution_count": 44,
     "metadata": {},
     "output_type": "execute_result"
    }
   ],
   "source": [
    "inv(mat) # 求逆矩阵"
   ],
   "metadata": {
    "collapsed": false,
    "ExecuteTime": {
     "end_time": "2024-12-11T02:37:49.149451Z",
     "start_time": "2024-12-11T02:37:49.138071Z"
    }
   },
   "id": "85406cc62056812e",
   "execution_count": 44
  },
  {
   "cell_type": "code",
   "outputs": [
    {
     "data": {
      "text/plain": "array([[ 1.00000000e+00,  4.20382633e-17, -3.08687876e-16,\n         1.41050357e-16,  1.90894879e-16],\n       [ 9.15401847e-17,  1.00000000e+00, -6.12279544e-17,\n        -5.97111022e-16, -7.60860210e-16],\n       [ 5.08473064e-16,  1.74447298e-17,  1.00000000e+00,\n         2.19628615e-15,  1.30451711e-15],\n       [-3.63744280e-16, -5.48381710e-16,  4.22974051e-16,\n         1.00000000e+00, -1.37101970e-15],\n       [-3.02778338e-16,  3.22383807e-16,  5.84154273e-16,\n        -5.10451783e-16,  1.00000000e+00]])"
     },
     "execution_count": 45,
     "metadata": {},
     "output_type": "execute_result"
    }
   ],
   "source": [
    "mat.dot(inv(mat))"
   ],
   "metadata": {
    "collapsed": false,
    "ExecuteTime": {
     "end_time": "2024-12-11T02:38:43.181297Z",
     "start_time": "2024-12-11T02:38:43.162775Z"
    }
   },
   "id": "178fa360d4b70496",
   "execution_count": 45
  },
  {
   "cell_type": "code",
   "outputs": [],
   "source": [
    "q,r = qr(mat)"
   ],
   "metadata": {
    "collapsed": false,
    "ExecuteTime": {
     "end_time": "2024-12-11T02:39:25.289943Z",
     "start_time": "2024-12-11T02:39:25.280530Z"
    }
   },
   "id": "eaba582fac0889ab",
   "execution_count": 46
  },
  {
   "cell_type": "code",
   "outputs": [
    {
     "data": {
      "text/plain": "array([[-1.92425805,  1.52229242, -2.03400133,  0.52071259, -0.96487933],\n       [ 0.        , -3.87405513,  5.71309493,  2.42681173, -1.02100722],\n       [ 0.        ,  0.        , -8.59293589, -3.77535982,  3.04310953],\n       [ 0.        ,  0.        ,  0.        , -0.20590093,  0.13460593],\n       [ 0.        ,  0.        ,  0.        ,  0.        ,  0.1736431 ]])"
     },
     "execution_count": 47,
     "metadata": {},
     "output_type": "execute_result"
    }
   ],
   "source": [
    "r"
   ],
   "metadata": {
    "collapsed": false,
    "ExecuteTime": {
     "end_time": "2024-12-11T02:39:29.677628Z",
     "start_time": "2024-12-11T02:39:29.659465Z"
    }
   },
   "id": "455d4bef5c8d2372",
   "execution_count": 47
  },
  {
   "cell_type": "code",
   "outputs": [
    {
     "data": {
      "text/plain": "array([[-0.76813977, -0.21708489, -0.04076078, -0.55502228, -0.23048702],\n       [ 0.17062916, -0.87387188, -0.40515166,  0.05194676,  0.20096589],\n       [-0.34944664,  0.34232109, -0.78580905,  0.36292275,  0.10721256],\n       [ 0.34228153,  0.26691127, -0.31561797, -0.73038867,  0.42251559],\n       [-0.3762677 , -0.0282263 ,  0.34216974,  0.1551492 ,  0.84644816]])"
     },
     "execution_count": 48,
     "metadata": {},
     "output_type": "execute_result"
    }
   ],
   "source": [
    "q"
   ],
   "metadata": {
    "collapsed": false,
    "ExecuteTime": {
     "end_time": "2024-12-11T02:39:38.093362Z",
     "start_time": "2024-12-11T02:39:38.080510Z"
    }
   },
   "id": "524e02723bd3a25d",
   "execution_count": 48
  },
  {
   "cell_type": "code",
   "outputs": [
    {
     "data": {
      "text/plain": "array([[ 1.47809915, -0.32833453,  0.67242551, -0.65863799,  0.72403614],\n       [-0.32833453,  3.64517533, -1.85813076, -0.51297639, -0.46343922],\n       [ 0.67242551, -1.85813076,  9.41889459,  3.54077335, -2.33617319],\n       [-0.65863799, -0.51297639,  3.54077335,  2.16793281, -1.5881865 ],\n       [ 0.72403614, -0.46343922, -2.33617319, -1.5881865 ,  1.60099606]])"
     },
     "execution_count": 49,
     "metadata": {},
     "output_type": "execute_result"
    }
   ],
   "source": [
    "q @ r"
   ],
   "metadata": {
    "collapsed": false,
    "ExecuteTime": {
     "end_time": "2024-12-11T02:40:05.631294Z",
     "start_time": "2024-12-11T02:40:05.613382Z"
    }
   },
   "id": "d7581d934a70e8cc",
   "execution_count": 49
  },
  {
   "cell_type": "markdown",
   "source": [
    "## 伪随机数生成\n",
    "- seed\n",
    "- permutation 返回一个序列的随机排列或返回随机排列的范围\n",
    "- shuffle 对序列随机排序\n",
    "- rand 均匀分布\n",
    "- randint 均匀分布整数\n",
    "- randn 产生标准正态分布（0，1）\n",
    "- binomial 产生二项分布的样本值\n",
    "- normal 产生正态（高斯）分布的样本值\n",
    "- beta 产生beta分布\n",
    "- chisquare 卡方分布\n",
    "- gamma gamma分布\n",
    "- uniform 产生在（0，1）中均匀分布的样本值"
   ],
   "metadata": {
    "collapsed": false
   },
   "id": "57caf18db660d073"
  },
  {
   "cell_type": "code",
   "outputs": [
    {
     "data": {
      "text/plain": "array([[-0.63673997,  0.13828589, -0.24042975, -0.13614834],\n       [ 0.47413152,  0.69454029, -0.17807793,  0.24718008],\n       [-1.23110383, -1.09236612, -0.01406276,  0.5867867 ],\n       [ 0.38351072,  0.36636078, -0.90227908, -0.61964813]])"
     },
     "execution_count": 50,
     "metadata": {},
     "output_type": "execute_result"
    }
   ],
   "source": [
    "np.random.normal(size=(4,4))"
   ],
   "metadata": {
    "collapsed": false,
    "ExecuteTime": {
     "end_time": "2024-12-11T02:49:45.328072Z",
     "start_time": "2024-12-11T02:49:45.310807Z"
    }
   },
   "id": "141f87b85c838ae7",
   "execution_count": 50
  },
  {
   "cell_type": "code",
   "outputs": [
    {
     "name": "stdout",
     "output_type": "stream",
     "text": [
      "1.28 s ± 45.4 ms per loop (mean ± std. dev. of 7 runs, 1 loop each)\n",
      "38.1 ms ± 2.82 ms per loop (mean ± std. dev. of 7 runs, 10 loops each)\n"
     ]
    }
   ],
   "source": [
    "from random import normalvariate\n",
    "\n",
    "N = 1000000\n",
    "\n",
    "%timeit samples = [normalvariate(0,1) for _ in range(N)]\n",
    "\n",
    "%timeit np.random.normal(0,1,size=1000000)"
   ],
   "metadata": {
    "collapsed": false,
    "ExecuteTime": {
     "end_time": "2024-12-11T02:52:25.537270Z",
     "start_time": "2024-12-11T02:52:10.862778Z"
    }
   },
   "id": "a094203e53f83728",
   "execution_count": 51
  },
  {
   "cell_type": "code",
   "outputs": [],
   "source": [
    "np.random.seed(1234) # 全局随机种子"
   ],
   "metadata": {
    "collapsed": false,
    "ExecuteTime": {
     "end_time": "2024-12-11T02:53:00.354965Z",
     "start_time": "2024-12-11T02:53:00.343342Z"
    }
   },
   "id": "753fb7aad39b42f8",
   "execution_count": 52
  },
  {
   "cell_type": "code",
   "outputs": [],
   "source": [
    "rng = np.random.RandomState(1234) # 局部总之\n",
    "rng.randn()"
   ],
   "metadata": {
    "collapsed": false
   },
   "id": "ab3680caa21c54b4"
  },
  {
   "cell_type": "markdown",
   "source": [
    "随机漫步"
   ],
   "metadata": {
    "collapsed": false
   },
   "id": "9f5b49db703217e"
  },
  {
   "cell_type": "code",
   "outputs": [
    {
     "name": "stdout",
     "output_type": "stream",
     "text": [
      "1\n",
      "-1\n",
      "1\n",
      "-1\n",
      "1\n",
      "1\n",
      "-1\n",
      "1\n",
      "-1\n",
      "1\n",
      "-1\n",
      "1\n",
      "1\n",
      "-1\n",
      "-1\n",
      "1\n",
      "-1\n",
      "-1\n",
      "-1\n",
      "1\n",
      "1\n",
      "1\n",
      "1\n",
      "1\n",
      "1\n",
      "1\n",
      "-1\n",
      "1\n",
      "1\n",
      "1\n",
      "-1\n",
      "1\n",
      "-1\n",
      "1\n",
      "1\n",
      "1\n",
      "-1\n",
      "1\n",
      "-1\n",
      "1\n",
      "-1\n",
      "-1\n",
      "-1\n",
      "-1\n",
      "1\n",
      "1\n",
      "-1\n",
      "1\n",
      "-1\n",
      "-1\n",
      "1\n",
      "1\n",
      "1\n",
      "-1\n",
      "-1\n",
      "1\n",
      "1\n",
      "-1\n",
      "1\n",
      "1\n",
      "1\n",
      "1\n",
      "1\n",
      "1\n",
      "1\n",
      "1\n",
      "1\n",
      "-1\n",
      "1\n",
      "-1\n",
      "1\n",
      "1\n",
      "1\n",
      "-1\n",
      "-1\n",
      "1\n",
      "-1\n",
      "1\n",
      "1\n",
      "1\n",
      "1\n",
      "1\n",
      "-1\n",
      "1\n",
      "-1\n",
      "1\n",
      "1\n",
      "-1\n",
      "-1\n",
      "-1\n",
      "-1\n",
      "1\n",
      "-1\n",
      "1\n",
      "1\n",
      "-1\n",
      "-1\n",
      "1\n",
      "-1\n",
      "-1\n",
      "-1\n",
      "1\n",
      "-1\n",
      "1\n",
      "-1\n",
      "1\n",
      "1\n",
      "1\n",
      "1\n",
      "1\n",
      "1\n",
      "1\n",
      "-1\n",
      "-1\n",
      "1\n",
      "-1\n",
      "-1\n",
      "-1\n",
      "-1\n",
      "1\n",
      "-1\n",
      "-1\n",
      "1\n",
      "1\n",
      "1\n",
      "-1\n",
      "-1\n",
      "1\n",
      "-1\n",
      "1\n",
      "1\n",
      "-1\n",
      "1\n",
      "1\n",
      "1\n",
      "-1\n",
      "-1\n",
      "-1\n",
      "-1\n",
      "-1\n",
      "1\n",
      "-1\n",
      "1\n",
      "1\n",
      "1\n",
      "1\n",
      "-1\n",
      "1\n",
      "-1\n",
      "-1\n",
      "1\n",
      "-1\n",
      "-1\n",
      "-1\n",
      "1\n",
      "1\n",
      "-1\n",
      "1\n",
      "1\n",
      "1\n",
      "1\n",
      "1\n",
      "1\n",
      "-1\n",
      "-1\n",
      "-1\n",
      "1\n",
      "1\n",
      "-1\n",
      "1\n",
      "-1\n",
      "1\n",
      "-1\n",
      "-1\n",
      "-1\n",
      "-1\n",
      "1\n",
      "1\n",
      "1\n",
      "1\n",
      "1\n",
      "-1\n",
      "-1\n",
      "-1\n",
      "-1\n",
      "1\n",
      "1\n",
      "-1\n",
      "1\n",
      "-1\n",
      "-1\n",
      "-1\n",
      "-1\n",
      "-1\n",
      "-1\n",
      "1\n",
      "-1\n",
      "-1\n",
      "-1\n",
      "1\n",
      "-1\n",
      "1\n",
      "-1\n",
      "-1\n",
      "-1\n",
      "-1\n",
      "1\n",
      "1\n",
      "-1\n",
      "-1\n",
      "-1\n",
      "1\n",
      "-1\n",
      "1\n",
      "1\n",
      "1\n",
      "-1\n",
      "-1\n",
      "1\n",
      "1\n",
      "1\n",
      "-1\n",
      "-1\n",
      "-1\n",
      "-1\n",
      "-1\n",
      "1\n",
      "-1\n",
      "1\n",
      "1\n",
      "1\n",
      "-1\n",
      "1\n",
      "1\n",
      "-1\n",
      "-1\n",
      "1\n",
      "-1\n",
      "1\n",
      "1\n",
      "-1\n",
      "1\n",
      "1\n",
      "1\n",
      "-1\n",
      "1\n",
      "1\n",
      "-1\n",
      "-1\n",
      "1\n",
      "-1\n",
      "-1\n",
      "-1\n",
      "1\n",
      "1\n",
      "-1\n",
      "-1\n",
      "1\n",
      "-1\n",
      "-1\n",
      "1\n",
      "-1\n",
      "1\n",
      "-1\n",
      "1\n",
      "1\n",
      "1\n",
      "-1\n",
      "-1\n",
      "1\n",
      "1\n",
      "1\n",
      "-1\n",
      "1\n",
      "-1\n",
      "-1\n",
      "1\n",
      "1\n",
      "1\n",
      "1\n",
      "1\n",
      "1\n",
      "-1\n",
      "-1\n",
      "1\n",
      "1\n",
      "1\n",
      "1\n",
      "1\n",
      "-1\n",
      "-1\n",
      "1\n",
      "1\n",
      "-1\n",
      "-1\n",
      "1\n",
      "-1\n",
      "1\n",
      "-1\n",
      "-1\n",
      "1\n",
      "1\n",
      "-1\n",
      "1\n",
      "1\n",
      "-1\n",
      "-1\n",
      "-1\n",
      "1\n",
      "1\n",
      "1\n",
      "1\n",
      "1\n",
      "-1\n",
      "1\n",
      "1\n",
      "-1\n",
      "-1\n",
      "-1\n",
      "1\n",
      "1\n",
      "-1\n",
      "-1\n",
      "-1\n",
      "-1\n",
      "-1\n",
      "1\n",
      "1\n",
      "-1\n",
      "-1\n",
      "-1\n",
      "1\n",
      "-1\n",
      "1\n",
      "-1\n",
      "-1\n",
      "-1\n",
      "1\n",
      "1\n",
      "1\n",
      "1\n",
      "1\n",
      "1\n",
      "-1\n",
      "-1\n",
      "1\n",
      "-1\n",
      "1\n",
      "-1\n",
      "1\n",
      "1\n",
      "1\n",
      "1\n",
      "-1\n",
      "-1\n",
      "1\n",
      "-1\n",
      "1\n",
      "1\n",
      "-1\n",
      "1\n",
      "-1\n",
      "-1\n",
      "-1\n",
      "-1\n",
      "-1\n",
      "-1\n",
      "-1\n",
      "1\n",
      "-1\n",
      "-1\n",
      "-1\n",
      "-1\n",
      "-1\n",
      "-1\n",
      "1\n",
      "1\n",
      "-1\n",
      "1\n",
      "1\n",
      "-1\n",
      "1\n",
      "-1\n",
      "1\n",
      "1\n",
      "-1\n",
      "1\n",
      "-1\n",
      "-1\n",
      "1\n",
      "1\n",
      "-1\n",
      "1\n",
      "-1\n",
      "-1\n",
      "1\n",
      "1\n",
      "1\n",
      "1\n",
      "-1\n",
      "1\n",
      "1\n",
      "1\n",
      "1\n",
      "-1\n",
      "1\n",
      "1\n",
      "1\n",
      "1\n",
      "-1\n",
      "1\n",
      "-1\n",
      "-1\n",
      "1\n",
      "1\n",
      "1\n",
      "1\n",
      "1\n",
      "1\n",
      "-1\n",
      "1\n",
      "-1\n",
      "1\n",
      "-1\n",
      "-1\n",
      "-1\n",
      "-1\n",
      "-1\n",
      "1\n",
      "1\n",
      "-1\n",
      "-1\n",
      "-1\n",
      "-1\n",
      "-1\n",
      "-1\n",
      "1\n",
      "1\n",
      "1\n",
      "-1\n",
      "-1\n",
      "-1\n",
      "1\n",
      "-1\n",
      "1\n",
      "-1\n",
      "-1\n",
      "1\n",
      "-1\n",
      "1\n",
      "1\n",
      "1\n",
      "-1\n",
      "1\n",
      "1\n",
      "-1\n",
      "1\n",
      "-1\n",
      "-1\n",
      "1\n",
      "1\n",
      "-1\n",
      "1\n",
      "-1\n",
      "1\n",
      "1\n",
      "-1\n",
      "-1\n",
      "1\n",
      "1\n",
      "-1\n",
      "-1\n",
      "-1\n",
      "-1\n",
      "-1\n",
      "1\n",
      "-1\n",
      "-1\n",
      "1\n",
      "-1\n",
      "-1\n",
      "-1\n",
      "1\n",
      "-1\n",
      "1\n",
      "1\n",
      "-1\n",
      "1\n",
      "-1\n",
      "1\n",
      "-1\n",
      "-1\n",
      "1\n",
      "1\n",
      "-1\n",
      "-1\n",
      "1\n",
      "-1\n",
      "-1\n",
      "1\n",
      "-1\n",
      "-1\n",
      "1\n",
      "1\n",
      "1\n",
      "-1\n",
      "1\n",
      "-1\n",
      "1\n",
      "-1\n",
      "1\n",
      "-1\n",
      "1\n",
      "-1\n",
      "-1\n",
      "1\n",
      "1\n",
      "1\n",
      "1\n",
      "-1\n",
      "-1\n",
      "-1\n",
      "1\n",
      "-1\n",
      "1\n",
      "1\n",
      "1\n",
      "-1\n",
      "1\n",
      "-1\n",
      "1\n",
      "-1\n",
      "1\n",
      "1\n",
      "1\n",
      "-1\n",
      "1\n",
      "1\n",
      "-1\n",
      "1\n",
      "-1\n",
      "-1\n",
      "1\n",
      "1\n",
      "-1\n",
      "-1\n",
      "1\n",
      "-1\n",
      "-1\n",
      "-1\n",
      "-1\n",
      "-1\n",
      "-1\n",
      "-1\n",
      "1\n",
      "-1\n",
      "-1\n",
      "1\n",
      "-1\n",
      "-1\n",
      "1\n",
      "1\n",
      "1\n",
      "1\n",
      "-1\n",
      "1\n",
      "-1\n",
      "-1\n",
      "-1\n",
      "1\n",
      "-1\n",
      "-1\n",
      "-1\n",
      "-1\n",
      "1\n",
      "1\n",
      "1\n",
      "1\n",
      "1\n",
      "1\n",
      "1\n",
      "1\n",
      "-1\n",
      "-1\n",
      "-1\n",
      "1\n",
      "1\n",
      "-1\n",
      "1\n",
      "1\n",
      "-1\n",
      "1\n",
      "-1\n",
      "1\n",
      "1\n",
      "-1\n",
      "1\n",
      "-1\n",
      "-1\n",
      "-1\n",
      "-1\n",
      "-1\n",
      "1\n",
      "-1\n",
      "-1\n",
      "-1\n",
      "-1\n",
      "1\n",
      "-1\n",
      "1\n",
      "-1\n",
      "1\n",
      "1\n",
      "1\n",
      "-1\n",
      "1\n",
      "1\n",
      "-1\n",
      "1\n",
      "1\n",
      "-1\n",
      "1\n",
      "-1\n",
      "-1\n",
      "-1\n",
      "-1\n",
      "-1\n",
      "-1\n",
      "-1\n",
      "1\n",
      "-1\n",
      "-1\n",
      "-1\n",
      "-1\n",
      "-1\n",
      "-1\n",
      "-1\n",
      "-1\n",
      "-1\n",
      "1\n",
      "1\n",
      "1\n",
      "-1\n",
      "1\n",
      "-1\n",
      "-1\n",
      "-1\n",
      "1\n",
      "1\n",
      "-1\n",
      "1\n",
      "1\n",
      "-1\n",
      "-1\n",
      "1\n",
      "-1\n",
      "-1\n",
      "-1\n",
      "1\n",
      "-1\n",
      "1\n",
      "-1\n",
      "-1\n",
      "1\n",
      "-1\n",
      "-1\n",
      "-1\n",
      "-1\n",
      "1\n",
      "1\n",
      "-1\n",
      "1\n",
      "-1\n",
      "1\n",
      "-1\n",
      "-1\n",
      "1\n",
      "-1\n",
      "1\n",
      "1\n",
      "1\n",
      "1\n",
      "-1\n",
      "1\n",
      "-1\n",
      "1\n",
      "1\n",
      "-1\n",
      "-1\n",
      "1\n",
      "1\n",
      "1\n",
      "1\n",
      "1\n",
      "-1\n",
      "1\n",
      "-1\n",
      "-1\n",
      "-1\n",
      "1\n",
      "-1\n",
      "1\n",
      "-1\n",
      "-1\n",
      "1\n",
      "1\n",
      "-1\n",
      "1\n",
      "1\n",
      "1\n",
      "1\n",
      "1\n",
      "-1\n",
      "1\n",
      "-1\n",
      "-1\n",
      "1\n",
      "-1\n",
      "-1\n",
      "-1\n",
      "-1\n",
      "1\n",
      "1\n",
      "-1\n",
      "1\n",
      "1\n",
      "-1\n",
      "1\n",
      "1\n",
      "1\n",
      "-1\n",
      "-1\n",
      "-1\n",
      "-1\n",
      "-1\n",
      "-1\n",
      "-1\n",
      "1\n",
      "1\n",
      "-1\n",
      "-1\n",
      "-1\n",
      "-1\n",
      "-1\n",
      "1\n",
      "-1\n",
      "1\n",
      "-1\n",
      "-1\n",
      "1\n",
      "1\n",
      "1\n",
      "1\n",
      "1\n",
      "-1\n",
      "1\n",
      "-1\n",
      "-1\n",
      "1\n",
      "-1\n",
      "1\n",
      "1\n",
      "-1\n",
      "1\n",
      "1\n",
      "1\n",
      "-1\n",
      "-1\n",
      "1\n",
      "-1\n",
      "1\n",
      "1\n",
      "-1\n",
      "-1\n",
      "1\n",
      "1\n",
      "1\n",
      "1\n",
      "-1\n",
      "-1\n",
      "1\n",
      "1\n",
      "-1\n",
      "1\n",
      "1\n",
      "-1\n",
      "1\n",
      "-1\n",
      "-1\n",
      "-1\n",
      "1\n",
      "-1\n",
      "1\n",
      "1\n",
      "-1\n",
      "1\n",
      "1\n",
      "-1\n",
      "-1\n",
      "1\n",
      "1\n",
      "-1\n",
      "1\n",
      "1\n",
      "1\n",
      "-1\n",
      "1\n",
      "1\n",
      "1\n",
      "1\n",
      "-1\n",
      "1\n",
      "1\n",
      "-1\n",
      "-1\n",
      "1\n",
      "1\n",
      "-1\n",
      "-1\n",
      "1\n",
      "-1\n",
      "1\n",
      "-1\n",
      "-1\n",
      "1\n",
      "-1\n",
      "1\n",
      "1\n",
      "-1\n",
      "-1\n",
      "-1\n",
      "-1\n",
      "1\n",
      "-1\n",
      "-1\n",
      "-1\n",
      "-1\n",
      "-1\n",
      "-1\n",
      "-1\n",
      "-1\n",
      "1\n",
      "-1\n",
      "1\n",
      "1\n",
      "-1\n",
      "-1\n",
      "-1\n",
      "1\n",
      "-1\n",
      "1\n",
      "-1\n",
      "1\n",
      "-1\n",
      "-1\n",
      "1\n",
      "-1\n",
      "1\n",
      "1\n",
      "-1\n",
      "-1\n",
      "-1\n",
      "1\n",
      "1\n",
      "-1\n",
      "-1\n",
      "1\n",
      "-1\n",
      "-1\n",
      "-1\n",
      "-1\n",
      "-1\n",
      "1\n",
      "-1\n",
      "1\n",
      "-1\n",
      "1\n",
      "-1\n",
      "-1\n",
      "1\n",
      "1\n",
      "1\n",
      "-1\n",
      "1\n",
      "1\n",
      "-1\n",
      "-1\n",
      "-1\n",
      "1\n",
      "-1\n",
      "1\n",
      "-1\n",
      "-1\n",
      "1\n",
      "1\n",
      "1\n",
      "-1\n",
      "-1\n",
      "-1\n",
      "-1\n",
      "-1\n",
      "-1\n",
      "1\n",
      "-1\n",
      "-1\n",
      "1\n",
      "1\n",
      "-1\n",
      "-1\n",
      "1\n",
      "-1\n",
      "-1\n",
      "1\n",
      "1\n",
      "-1\n",
      "1\n",
      "1\n",
      "1\n",
      "-1\n",
      "1\n",
      "1\n",
      "1\n",
      "-1\n",
      "-1\n",
      "1\n",
      "1\n",
      "1\n",
      "1\n",
      "1\n",
      "-1\n",
      "1\n",
      "-1\n",
      "1\n",
      "1\n",
      "-1\n",
      "-1\n",
      "-1\n",
      "-1\n",
      "-1\n",
      "-1\n",
      "1\n",
      "1\n",
      "-1\n",
      "1\n",
      "1\n",
      "1\n",
      "-1\n",
      "1\n",
      "-1\n",
      "1\n",
      "-1\n",
      "1\n",
      "1\n",
      "-1\n",
      "-1\n",
      "-1\n",
      "-1\n",
      "1\n",
      "1\n",
      "-1\n",
      "-1\n",
      "1\n",
      "1\n",
      "-1\n",
      "-1\n",
      "1\n",
      "1\n",
      "1\n",
      "1\n",
      "-1\n",
      "-1\n",
      "-1\n",
      "1\n",
      "-1\n",
      "-1\n",
      "1\n",
      "-1\n",
      "-1\n",
      "1\n",
      "1\n",
      "-1\n",
      "1\n",
      "1\n",
      "1\n",
      "-1\n",
      "-1\n",
      "-1\n",
      "-1\n",
      "-1\n",
      "-1\n",
      "-1\n",
      "-1\n",
      "1\n",
      "1\n",
      "1\n",
      "-1\n",
      "1\n",
      "1\n",
      "-1\n",
      "-1\n",
      "[0, 1, 0, 1, 0, 1, 2, 1, 2, 1, 2, 1, 2, 3, 2, 1, 2, 1, 0, -1, 0, 1, 2, 3, 4, 5, 6, 5, 6, 7, 8, 7, 8, 7, 8, 9, 10, 9, 10, 9, 10, 9, 8, 7, 6, 7, 8, 7, 8, 7, 6, 7, 8, 9, 8, 7, 8, 9, 8, 9, 10, 11, 12, 13, 14, 15, 16, 17, 16, 17, 16, 17, 18, 19, 18, 17, 18, 17, 18, 19, 20, 21, 22, 21, 22, 21, 22, 23, 22, 21, 20, 19, 20, 19, 20, 21, 20, 19, 20, 19, 18, 17, 18, 17, 18, 17, 18, 19, 20, 21, 22, 23, 24, 23, 22, 23, 22, 21, 20, 19, 20, 19, 18, 19, 20, 21, 20, 19, 20, 19, 20, 21, 20, 21, 22, 23, 22, 21, 20, 19, 18, 19, 18, 19, 20, 21, 22, 21, 22, 21, 20, 21, 20, 19, 18, 19, 20, 19, 20, 21, 22, 23, 24, 25, 24, 23, 22, 23, 24, 23, 24, 23, 24, 23, 22, 21, 20, 21, 22, 23, 24, 25, 24, 23, 22, 21, 22, 23, 22, 23, 22, 21, 20, 19, 18, 17, 18, 17, 16, 15, 16, 15, 16, 15, 14, 13, 12, 13, 14, 13, 12, 11, 12, 11, 12, 13, 14, 13, 12, 13, 14, 15, 14, 13, 12, 11, 10, 11, 10, 11, 12, 13, 12, 13, 14, 13, 12, 13, 12, 13, 14, 13, 14, 15, 16, 15, 16, 17, 16, 15, 16, 15, 14, 13, 14, 15, 14, 13, 14, 13, 12, 13, 12, 13, 12, 13, 14, 15, 14, 13, 14, 15, 16, 15, 16, 15, 14, 15, 16, 17, 18, 19, 20, 19, 18, 19, 20, 21, 22, 23, 22, 21, 22, 23, 22, 21, 22, 21, 22, 21, 20, 21, 22, 21, 22, 23, 22, 21, 20, 21, 22, 23, 24, 25, 24, 25, 26, 25, 24, 23, 24, 25, 24, 23, 22, 21, 20, 21, 22, 21, 20, 19, 20, 19, 20, 19, 18, 17, 18, 19, 20, 21, 22, 23, 22, 21, 22, 21, 22, 21, 22, 23, 24, 25, 24, 23, 24, 23, 24, 25, 24, 25, 24, 23, 22, 21, 20, 19, 18, 19, 18, 17, 16, 15, 14, 13, 14, 15, 14, 15, 16, 15, 16, 15, 16, 17, 16, 17, 16, 15, 16, 17, 16, 17, 16, 15, 16, 17, 18, 19, 18, 19, 20, 21, 22, 21, 22, 23, 24, 25, 24, 25, 24, 23, 24, 25, 26, 27, 28, 29, 28, 29, 28, 29, 28, 27, 26, 25, 24, 25, 26, 25, 24, 23, 22, 21, 20, 21, 22, 23, 22, 21, 20, 21, 20, 21, 20, 19, 20, 19, 20, 21, 22, 21, 22, 23, 22, 23, 22, 21, 22, 23, 22, 23, 22, 23, 24, 23, 22, 23, 24, 23, 22, 21, 20, 19, 20, 19, 18, 19, 18, 17, 16, 17, 16, 17, 18, 17, 18, 17, 18, 17, 16, 17, 18, 17, 16, 17, 16, 15, 16, 15, 14, 15, 16, 17, 16, 17, 16, 17, 16, 17, 16, 17, 16, 15, 16, 17, 18, 19, 18, 17, 16, 17, 16, 17, 18, 19, 18, 19, 18, 19, 18, 19, 20, 21, 20, 21, 22, 21, 22, 21, 20, 21, 22, 21, 20, 21, 20, 19, 18, 17, 16, 15, 14, 15, 14, 13, 14, 13, 12, 13, 14, 15, 16, 15, 16, 15, 14, 13, 14, 13, 12, 11, 10, 11, 12, 13, 14, 15, 16, 17, 18, 17, 16, 15, 16, 17, 16, 17, 18, 17, 18, 17, 18, 19, 18, 19, 18, 17, 16, 15, 14, 15, 14, 13, 12, 11, 12, 11, 12, 11, 12, 13, 14, 13, 14, 15, 14, 15, 16, 15, 16, 15, 14, 13, 12, 11, 10, 9, 10, 9, 8, 7, 6, 5, 4, 3, 2, 1, 2, 3, 4, 3, 4, 3, 2, 1, 2, 3, 2, 3, 4, 3, 2, 3, 2, 1, 0, 1, 0, 1, 0, -1, 0, -1, -2, -3, -4, -3, -2, -3, -2, -3, -2, -3, -4, -3, -4, -3, -2, -1, 0, -1, 0, -1, 0, 1, 0, -1, 0, 1, 2, 3, 4, 3, 4, 3, 2, 1, 2, 1, 2, 1, 0, 1, 2, 1, 2, 3, 4, 5, 6, 5, 6, 5, 4, 5, 4, 3, 2, 1, 2, 3, 2, 3, 4, 3, 4, 5, 6, 5, 4, 3, 2, 1, 0, -1, 0, 1, 0, -1, -2, -3, -4, -3, -4, -3, -4, -5, -4, -3, -2, -1, 0, -1, 0, -1, -2, -1, -2, -1, 0, -1, 0, 1, 2, 1, 0, 1, 0, 1, 2, 1, 0, 1, 2, 3, 4, 3, 2, 3, 4, 3, 4, 5, 4, 5, 4, 3, 2, 3, 2, 3, 4, 3, 4, 5, 4, 3, 4, 5, 4, 5, 6, 7, 6, 7, 8, 9, 10, 9, 10, 11, 10, 9, 10, 11, 10, 9, 10, 9, 10, 9, 8, 9, 8, 9, 10, 9, 8, 7, 6, 7, 6, 5, 4, 3, 2, 1, 0, -1, 0, -1, 0, 1, 0, -1, -2, -1, -2, -1, -2, -1, -2, -3, -2, -3, -2, -1, -2, -3, -4, -3, -2, -3, -4, -3, -4, -5, -6, -7, -8, -7, -8, -7, -8, -7, -8, -9, -8, -7, -6, -7, -6, -5, -6, -7, -8, -7, -8, -7, -8, -9, -8, -7, -6, -7, -8, -9, -10, -11, -12, -11, -12, -13, -12, -11, -12, -13, -12, -13, -14, -13, -12, -13, -12, -11, -10, -11, -10, -9, -8, -9, -10, -9, -8, -7, -6, -5, -6, -5, -6, -5, -4, -5, -6, -7, -8, -9, -10, -9, -8, -9, -8, -7, -6, -7, -6, -7, -6, -7, -6, -5, -6, -7, -8, -9, -8, -7, -8, -9, -8, -7, -8, -9, -8, -7, -6, -5, -6, -7, -8, -7, -8, -9, -8, -9, -10, -9, -8, -9, -8, -7, -6, -7, -8, -9, -10, -11, -12, -13, -14, -13, -12, -11, -12, -11, -10, -11, -12]\n"
     ]
    }
   ],
   "source": [
    "import random\n",
    "position = 0\n",
    "walk = [position]\n",
    "steps = 1000\n",
    "for i in range(steps):\n",
    "    step = 1 if random.randint(0,1) else -1\n",
    "    print(step)\n",
    "    position +=step\n",
    "    walk.append(position)\n",
    "\n",
    "print(walk)"
   ],
   "metadata": {
    "collapsed": false,
    "ExecuteTime": {
     "end_time": "2024-12-11T03:07:32.111611Z",
     "start_time": "2024-12-11T03:07:32.084777Z"
    }
   },
   "id": "e65d26776e300e0d",
   "execution_count": 53
  },
  {
   "cell_type": "code",
   "outputs": [
    {
     "data": {
      "text/plain": "array([1, 1, 1, 0, 1, 1, 1, 1, 1, 0, 0, 0, 1, 1, 0, 0, 1, 1, 1, 1, 1, 1,\n       0, 1, 1, 0, 0, 1, 0, 1, 1, 0, 1, 0, 1, 1, 1, 1, 0, 1, 1, 0, 0, 1,\n       0, 1, 1, 0, 0, 1, 1, 1, 0, 1, 0, 0, 1, 0, 1, 0, 0, 1, 1, 0, 0, 0,\n       1, 1, 1, 1, 1, 0, 1, 1, 1, 1, 0, 1, 0, 0, 0, 1, 1, 0, 0, 0, 0, 0,\n       0, 0, 0, 1, 1, 1, 1, 1, 1, 0, 1, 1, 0, 1, 1, 1, 0, 1, 0, 0, 1, 1,\n       1, 1, 0, 0, 1, 1, 0, 1, 0, 1, 1, 1, 1, 0, 1, 0, 0, 1, 1, 1, 1, 1,\n       1, 1, 0, 1, 1, 1, 0, 1, 1, 0, 0, 0, 0, 0, 1, 0, 0, 1, 0, 1, 1, 0,\n       1, 0, 1, 1, 0, 1, 0, 1, 0, 0, 1, 0, 1, 0, 0, 0, 0, 0, 1, 1, 1, 0,\n       0, 0, 0, 1, 1, 0, 1, 1, 1, 1, 0, 1, 0, 1, 0, 0, 1, 0, 0, 0, 1, 1,\n       0, 0, 0, 1, 0, 0, 0, 1, 1, 1, 1, 1, 1, 1, 1, 1, 1, 1, 1, 1, 1, 0,\n       1, 1, 1, 0, 0, 1, 1, 0, 1, 0, 1, 0, 0, 0, 0, 1, 1, 0, 0, 0, 0, 1,\n       1, 0, 0, 0, 1, 1, 1, 0, 1, 0, 1, 1, 0, 0, 1, 1, 1, 0, 0, 1, 0, 0,\n       0, 0, 0, 0, 1, 0, 0, 1, 0, 0, 1, 1, 1, 0, 0, 0, 0, 0, 0, 0, 0, 0,\n       0, 0, 0, 0, 1, 0, 0, 1, 0, 0, 1, 0, 0, 0, 0, 1, 0, 1, 0, 1, 1, 0,\n       0, 1, 1, 0, 1, 0, 0, 0, 0, 0, 0, 1, 0, 0, 1, 0, 1, 1, 1, 1, 1, 1,\n       1, 0, 0, 0, 1, 1, 0, 0, 0, 0, 1, 0, 1, 0, 1, 1, 0, 1, 1, 0, 1, 0,\n       1, 0, 1, 1, 0, 0, 0, 0, 1, 1, 0, 1, 1, 1, 1, 0, 1, 1, 1, 1, 1, 0,\n       0, 0, 0, 1, 1, 0, 0, 1, 0, 1, 1, 0, 0, 1, 1, 1, 0, 1, 1, 0, 0, 1,\n       0, 1, 1, 1, 1, 0, 0, 1, 1, 0, 1, 1, 1, 1, 1, 1, 0, 0, 0, 1, 1, 1,\n       1, 1, 1, 0, 1, 0, 0, 1, 0, 1, 0, 1, 1, 0, 1, 1, 1, 1, 0, 1, 1, 0,\n       0, 1, 0, 0, 0, 1, 1, 0, 1, 1, 0, 1, 1, 1, 0, 1, 1, 1, 0, 1, 0, 1,\n       0, 1, 0, 0, 0, 0, 0, 1, 1, 0, 0, 1, 0, 0, 0, 1, 1, 0, 1, 1, 0, 0,\n       0, 1, 1, 0, 0, 1, 1, 0, 0, 1, 0, 1, 1, 0, 1, 0, 0, 1, 1, 0, 1, 1,\n       0, 1, 0, 1, 0, 1, 1, 0, 1, 0, 1, 0, 0, 0, 1, 1, 1, 0, 0, 0, 1, 0,\n       1, 1, 1, 0, 1, 1, 1, 0, 1, 0, 0, 0, 0, 1, 0, 1, 0, 1, 0, 0, 1, 0,\n       0, 1, 0, 1, 1, 1, 0, 1, 0, 1, 0, 0, 1, 0, 1, 1, 1, 0, 1, 0, 1, 0,\n       0, 1, 0, 0, 0, 1, 0, 0, 1, 0, 1, 1, 1, 1, 0, 1, 0, 1, 0, 1, 1, 1,\n       1, 0, 1, 0, 0, 0, 1, 0, 0, 0, 1, 1, 0, 0, 0, 0, 1, 0, 0, 0, 0, 1,\n       0, 1, 1, 0, 1, 1, 1, 1, 1, 1, 0, 0, 0, 1, 1, 1, 1, 0, 0, 0, 0, 1,\n       1, 0, 0, 1, 0, 1, 1, 0, 1, 0, 1, 1, 0, 0, 0, 0, 0, 1, 0, 0, 1, 1,\n       1, 0, 0, 0, 0, 1, 0, 1, 1, 0, 0, 1, 1, 0, 0, 1, 1, 1, 1, 1, 0, 0,\n       0, 1, 0, 1, 0, 0, 0, 0, 1, 1, 0, 0, 0, 1, 0, 0, 0, 1, 1, 1, 1, 0,\n       1, 0, 1, 0, 1, 0, 0, 0, 0, 1, 1, 1, 0, 1, 1, 1, 1, 0, 1, 1, 0, 1,\n       1, 1, 1, 1, 0, 0, 1, 1, 0, 0, 0, 1, 1, 1, 0, 0, 1, 0, 1, 1, 0, 0,\n       0, 1, 1, 0, 0, 0, 0, 1, 0, 1, 0, 0, 1, 1, 0, 0, 1, 0, 1, 1, 1, 0,\n       1, 1, 0, 0, 0, 0, 0, 1, 0, 0, 0, 0, 1, 0, 1, 0, 0, 0, 0, 0, 1, 0,\n       1, 1, 1, 0, 1, 1, 1, 1, 1, 1, 0, 0, 1, 0, 0, 0, 0, 0, 1, 0, 1, 0,\n       0, 1, 0, 1, 1, 0, 0, 0, 0, 1, 0, 1, 1, 1, 0, 1, 1, 1, 0, 1, 1, 0,\n       0, 0, 0, 1, 0, 1, 1, 1, 1, 1, 0, 0, 1, 0, 1, 0, 0, 0, 1, 0, 1, 0,\n       1, 1, 1, 1, 0, 1, 1, 1, 0, 1, 0, 0, 1, 1, 0, 1, 0, 0, 1, 1, 0, 1,\n       0, 0, 0, 0, 1, 0, 1, 0, 1, 0, 1, 1, 0, 1, 1, 1, 1, 1, 0, 0, 1, 1,\n       1, 0, 0, 1, 1, 0, 0, 0, 0, 1, 0, 1, 0, 0, 0, 0, 0, 0, 0, 1, 0, 1,\n       0, 1, 1, 1, 1, 0, 1, 0, 0, 1, 0, 0, 1, 1, 0, 0, 1, 1, 1, 1, 1, 0,\n       1, 1, 1, 0, 1, 0, 1, 1, 1, 1, 1, 0, 1, 0, 1, 1, 1, 1, 1, 1, 1, 1,\n       1, 1, 1, 0, 0, 1, 1, 1, 1, 0, 0, 1, 0, 1, 1, 1, 1, 0, 1, 0, 1, 0,\n       0, 1, 1, 1, 1, 1, 0, 1, 1, 0])"
     },
     "execution_count": 55,
     "metadata": {},
     "output_type": "execute_result"
    }
   ],
   "source": [
    "draws = np.random.randint(0,2,size=steps)\n",
    "draws"
   ],
   "metadata": {
    "collapsed": false,
    "ExecuteTime": {
     "end_time": "2024-12-11T03:09:48.891586Z",
     "start_time": "2024-12-11T03:09:48.874553Z"
    }
   },
   "id": "d90176d42d03457b",
   "execution_count": 55
  },
  {
   "cell_type": "code",
   "outputs": [
    {
     "data": {
      "text/plain": "array([ 1,  1,  1, -1,  1,  1,  1,  1,  1, -1, -1, -1,  1,  1, -1, -1,  1,\n        1,  1,  1,  1,  1, -1,  1,  1, -1, -1,  1, -1,  1,  1, -1,  1, -1,\n        1,  1,  1,  1, -1,  1,  1, -1, -1,  1, -1,  1,  1, -1, -1,  1,  1,\n        1, -1,  1, -1, -1,  1, -1,  1, -1, -1,  1,  1, -1, -1, -1,  1,  1,\n        1,  1,  1, -1,  1,  1,  1,  1, -1,  1, -1, -1, -1,  1,  1, -1, -1,\n       -1, -1, -1, -1, -1, -1,  1,  1,  1,  1,  1,  1, -1,  1,  1, -1,  1,\n        1,  1, -1,  1, -1, -1,  1,  1,  1,  1, -1, -1,  1,  1, -1,  1, -1,\n        1,  1,  1,  1, -1,  1, -1, -1,  1,  1,  1,  1,  1,  1,  1, -1,  1,\n        1,  1, -1,  1,  1, -1, -1, -1, -1, -1,  1, -1, -1,  1, -1,  1,  1,\n       -1,  1, -1,  1,  1, -1,  1, -1,  1, -1, -1,  1, -1,  1, -1, -1, -1,\n       -1, -1,  1,  1,  1, -1, -1, -1, -1,  1,  1, -1,  1,  1,  1,  1, -1,\n        1, -1,  1, -1, -1,  1, -1, -1, -1,  1,  1, -1, -1, -1,  1, -1, -1,\n       -1,  1,  1,  1,  1,  1,  1,  1,  1,  1,  1,  1,  1,  1,  1, -1,  1,\n        1,  1, -1, -1,  1,  1, -1,  1, -1,  1, -1, -1, -1, -1,  1,  1, -1,\n       -1, -1, -1,  1,  1, -1, -1, -1,  1,  1,  1, -1,  1, -1,  1,  1, -1,\n       -1,  1,  1,  1, -1, -1,  1, -1, -1, -1, -1, -1, -1,  1, -1, -1,  1,\n       -1, -1,  1,  1,  1, -1, -1, -1, -1, -1, -1, -1, -1, -1, -1, -1, -1,\n       -1,  1, -1, -1,  1, -1, -1,  1, -1, -1, -1, -1,  1, -1,  1, -1,  1,\n        1, -1, -1,  1,  1, -1,  1, -1, -1, -1, -1, -1, -1,  1, -1, -1,  1,\n       -1,  1,  1,  1,  1,  1,  1,  1, -1, -1, -1,  1,  1, -1, -1, -1, -1,\n        1, -1,  1, -1,  1,  1, -1,  1,  1, -1,  1, -1,  1, -1,  1,  1, -1,\n       -1, -1, -1,  1,  1, -1,  1,  1,  1,  1, -1,  1,  1,  1,  1,  1, -1,\n       -1, -1, -1,  1,  1, -1, -1,  1, -1,  1,  1, -1, -1,  1,  1,  1, -1,\n        1,  1, -1, -1,  1, -1,  1,  1,  1,  1, -1, -1,  1,  1, -1,  1,  1,\n        1,  1,  1,  1, -1, -1, -1,  1,  1,  1,  1,  1,  1, -1,  1, -1, -1,\n        1, -1,  1, -1,  1,  1, -1,  1,  1,  1,  1, -1,  1,  1, -1, -1,  1,\n       -1, -1, -1,  1,  1, -1,  1,  1, -1,  1,  1,  1, -1,  1,  1,  1, -1,\n        1, -1,  1, -1,  1, -1, -1, -1, -1, -1,  1,  1, -1, -1,  1, -1, -1,\n       -1,  1,  1, -1,  1,  1, -1, -1, -1,  1,  1, -1, -1,  1,  1, -1, -1,\n        1, -1,  1,  1, -1,  1, -1, -1,  1,  1, -1,  1,  1, -1,  1, -1,  1,\n       -1,  1,  1, -1,  1, -1,  1, -1, -1, -1,  1,  1,  1, -1, -1, -1,  1,\n       -1,  1,  1,  1, -1,  1,  1,  1, -1,  1, -1, -1, -1, -1,  1, -1,  1,\n       -1,  1, -1, -1,  1, -1, -1,  1, -1,  1,  1,  1, -1,  1, -1,  1, -1,\n       -1,  1, -1,  1,  1,  1, -1,  1, -1,  1, -1, -1,  1, -1, -1, -1,  1,\n       -1, -1,  1, -1,  1,  1,  1,  1, -1,  1, -1,  1, -1,  1,  1,  1,  1,\n       -1,  1, -1, -1, -1,  1, -1, -1, -1,  1,  1, -1, -1, -1, -1,  1, -1,\n       -1, -1, -1,  1, -1,  1,  1, -1,  1,  1,  1,  1,  1,  1, -1, -1, -1,\n        1,  1,  1,  1, -1, -1, -1, -1,  1,  1, -1, -1,  1, -1,  1,  1, -1,\n        1, -1,  1,  1, -1, -1, -1, -1, -1,  1, -1, -1,  1,  1,  1, -1, -1,\n       -1, -1,  1, -1,  1,  1, -1, -1,  1,  1, -1, -1,  1,  1,  1,  1,  1,\n       -1, -1, -1,  1, -1,  1, -1, -1, -1, -1,  1,  1, -1, -1, -1,  1, -1,\n       -1, -1,  1,  1,  1,  1, -1,  1, -1,  1, -1,  1, -1, -1, -1, -1,  1,\n        1,  1, -1,  1,  1,  1,  1, -1,  1,  1, -1,  1,  1,  1,  1,  1, -1,\n       -1,  1,  1, -1, -1, -1,  1,  1,  1, -1, -1,  1, -1,  1,  1, -1, -1,\n       -1,  1,  1, -1, -1, -1, -1,  1, -1,  1, -1, -1,  1,  1, -1, -1,  1,\n       -1,  1,  1,  1, -1,  1,  1, -1, -1, -1, -1, -1,  1, -1, -1, -1, -1,\n        1, -1,  1, -1, -1, -1, -1, -1,  1, -1,  1,  1,  1, -1,  1,  1,  1,\n        1,  1,  1, -1, -1,  1, -1, -1, -1, -1, -1,  1, -1,  1, -1, -1,  1,\n       -1,  1,  1, -1, -1, -1, -1,  1, -1,  1,  1,  1, -1,  1,  1,  1, -1,\n        1,  1, -1, -1, -1, -1,  1, -1,  1,  1,  1,  1,  1, -1, -1,  1, -1,\n        1, -1, -1, -1,  1, -1,  1, -1,  1,  1,  1,  1, -1,  1,  1,  1, -1,\n        1, -1, -1,  1,  1, -1,  1, -1, -1,  1,  1, -1,  1, -1, -1, -1, -1,\n        1, -1,  1, -1,  1, -1,  1,  1, -1,  1,  1,  1,  1,  1, -1, -1,  1,\n        1,  1, -1, -1,  1,  1, -1, -1, -1, -1,  1, -1,  1, -1, -1, -1, -1,\n       -1, -1, -1,  1, -1,  1, -1,  1,  1,  1,  1, -1,  1, -1, -1,  1, -1,\n       -1,  1,  1, -1, -1,  1,  1,  1,  1,  1, -1,  1,  1,  1, -1,  1, -1,\n        1,  1,  1,  1,  1, -1,  1, -1,  1,  1,  1,  1,  1,  1,  1,  1,  1,\n        1,  1, -1, -1,  1,  1,  1,  1, -1, -1,  1, -1,  1,  1,  1,  1, -1,\n        1, -1,  1, -1, -1,  1,  1,  1,  1,  1, -1,  1,  1, -1])"
     },
     "execution_count": 57,
     "metadata": {},
     "output_type": "execute_result"
    }
   ],
   "source": [
    "steps = np.where(draws > 0, 1, -1)\n",
    "steps"
   ],
   "metadata": {
    "collapsed": false,
    "ExecuteTime": {
     "end_time": "2024-12-11T03:10:48.992617Z",
     "start_time": "2024-12-11T03:10:48.968680Z"
    }
   },
   "id": "d9ded98baed4fa1b",
   "execution_count": 57
  },
  {
   "cell_type": "code",
   "outputs": [
    {
     "data": {
      "text/plain": "array([ 1,  2,  3,  2,  3,  4,  5,  6,  7,  6,  5,  4,  5,  6,  5,  4,  5,\n        6,  7,  8,  9, 10,  9, 10, 11, 10,  9, 10,  9, 10, 11, 10, 11, 10,\n       11, 12, 13, 14, 13, 14, 15, 14, 13, 14, 13, 14, 15, 14, 13, 14, 15,\n       16, 15, 16, 15, 14, 15, 14, 15, 14, 13, 14, 15, 14, 13, 12, 13, 14,\n       15, 16, 17, 16, 17, 18, 19, 20, 19, 20, 19, 18, 17, 18, 19, 18, 17,\n       16, 15, 14, 13, 12, 11, 12, 13, 14, 15, 16, 17, 16, 17, 18, 17, 18,\n       19, 20, 19, 20, 19, 18, 19, 20, 21, 22, 21, 20, 21, 22, 21, 22, 21,\n       22, 23, 24, 25, 24, 25, 24, 23, 24, 25, 26, 27, 28, 29, 30, 29, 30,\n       31, 32, 31, 32, 33, 32, 31, 30, 29, 28, 29, 28, 27, 28, 27, 28, 29,\n       28, 29, 28, 29, 30, 29, 30, 29, 30, 29, 28, 29, 28, 29, 28, 27, 26,\n       25, 24, 25, 26, 27, 26, 25, 24, 23, 24, 25, 24, 25, 26, 27, 28, 27,\n       28, 27, 28, 27, 26, 27, 26, 25, 24, 25, 26, 25, 24, 23, 24, 23, 22,\n       21, 22, 23, 24, 25, 26, 27, 28, 29, 30, 31, 32, 33, 34, 35, 34, 35,\n       36, 37, 36, 35, 36, 37, 36, 37, 36, 37, 36, 35, 34, 33, 34, 35, 34,\n       33, 32, 31, 32, 33, 32, 31, 30, 31, 32, 33, 32, 33, 32, 33, 34, 33,\n       32, 33, 34, 35, 34, 33, 34, 33, 32, 31, 30, 29, 28, 29, 28, 27, 28,\n       27, 26, 27, 28, 29, 28, 27, 26, 25, 24, 23, 22, 21, 20, 19, 18, 17,\n       16, 17, 16, 15, 16, 15, 14, 15, 14, 13, 12, 11, 12, 11, 12, 11, 12,\n       13, 12, 11, 12, 13, 12, 13, 12, 11, 10,  9,  8,  7,  8,  7,  6,  7,\n        6,  7,  8,  9, 10, 11, 12, 13, 12, 11, 10, 11, 12, 11, 10,  9,  8,\n        9,  8,  9,  8,  9, 10,  9, 10, 11, 10, 11, 10, 11, 10, 11, 12, 11,\n       10,  9,  8,  9, 10,  9, 10, 11, 12, 13, 12, 13, 14, 15, 16, 17, 16,\n       15, 14, 13, 14, 15, 14, 13, 14, 13, 14, 15, 14, 13, 14, 15, 16, 15,\n       16, 17, 16, 15, 16, 15, 16, 17, 18, 19, 18, 17, 18, 19, 18, 19, 20,\n       21, 22, 23, 24, 23, 22, 21, 22, 23, 24, 25, 26, 27, 26, 27, 26, 25,\n       26, 25, 26, 25, 26, 27, 26, 27, 28, 29, 30, 29, 30, 31, 30, 29, 30,\n       29, 28, 27, 28, 29, 28, 29, 30, 29, 30, 31, 32, 31, 32, 33, 34, 33,\n       34, 33, 34, 33, 34, 33, 32, 31, 30, 29, 30, 31, 30, 29, 30, 29, 28,\n       27, 28, 29, 28, 29, 30, 29, 28, 27, 28, 29, 28, 27, 28, 29, 28, 27,\n       28, 27, 28, 29, 28, 29, 28, 27, 28, 29, 28, 29, 30, 29, 30, 29, 30,\n       29, 30, 31, 30, 31, 30, 31, 30, 29, 28, 29, 30, 31, 30, 29, 28, 29,\n       28, 29, 30, 31, 30, 31, 32, 33, 32, 33, 32, 31, 30, 29, 30, 29, 30,\n       29, 30, 29, 28, 29, 28, 27, 28, 27, 28, 29, 30, 29, 30, 29, 30, 29,\n       28, 29, 28, 29, 30, 31, 30, 31, 30, 31, 30, 29, 30, 29, 28, 27, 28,\n       27, 26, 27, 26, 27, 28, 29, 30, 29, 30, 29, 30, 29, 30, 31, 32, 33,\n       32, 33, 32, 31, 30, 31, 30, 29, 28, 29, 30, 29, 28, 27, 26, 27, 26,\n       25, 24, 23, 24, 23, 24, 25, 24, 25, 26, 27, 28, 29, 30, 29, 28, 27,\n       28, 29, 30, 31, 30, 29, 28, 27, 28, 29, 28, 27, 28, 27, 28, 29, 28,\n       29, 28, 29, 30, 29, 28, 27, 26, 25, 26, 25, 24, 25, 26, 27, 26, 25,\n       24, 23, 24, 23, 24, 25, 24, 23, 24, 25, 24, 23, 24, 25, 26, 27, 28,\n       27, 26, 25, 26, 25, 26, 25, 24, 23, 22, 23, 24, 23, 22, 21, 22, 21,\n       20, 19, 20, 21, 22, 23, 22, 23, 22, 23, 22, 23, 22, 21, 20, 19, 20,\n       21, 22, 21, 22, 23, 24, 25, 24, 25, 26, 25, 26, 27, 28, 29, 30, 29,\n       28, 29, 30, 29, 28, 27, 28, 29, 30, 29, 28, 29, 28, 29, 30, 29, 28,\n       27, 28, 29, 28, 27, 26, 25, 26, 25, 26, 25, 24, 25, 26, 25, 24, 25,\n       24, 25, 26, 27, 26, 27, 28, 27, 26, 25, 24, 23, 24, 23, 22, 21, 20,\n       21, 20, 21, 20, 19, 18, 17, 16, 17, 16, 17, 18, 19, 18, 19, 20, 21,\n       22, 23, 24, 23, 22, 23, 22, 21, 20, 19, 18, 19, 18, 19, 18, 17, 18,\n       17, 18, 19, 18, 17, 16, 15, 16, 15, 16, 17, 18, 17, 18, 19, 20, 19,\n       20, 21, 20, 19, 18, 17, 18, 17, 18, 19, 20, 21, 22, 21, 20, 21, 20,\n       21, 20, 19, 18, 19, 18, 19, 18, 19, 20, 21, 22, 21, 22, 23, 24, 23,\n       24, 23, 22, 23, 24, 23, 24, 23, 22, 23, 24, 23, 24, 23, 22, 21, 20,\n       21, 20, 21, 20, 21, 20, 21, 22, 21, 22, 23, 24, 25, 26, 25, 24, 25,\n       26, 27, 26, 25, 26, 27, 26, 25, 24, 23, 24, 23, 24, 23, 22, 21, 20,\n       19, 18, 17, 18, 17, 18, 17, 18, 19, 20, 21, 20, 21, 20, 19, 20, 19,\n       18, 19, 20, 19, 18, 19, 20, 21, 22, 23, 22, 23, 24, 25, 24, 25, 24,\n       25, 26, 27, 28, 29, 28, 29, 28, 29, 30, 31, 32, 33, 34, 35, 36, 37,\n       38, 39, 38, 37, 38, 39, 40, 41, 40, 39, 40, 39, 40, 41, 42, 43, 42,\n       43, 42, 43, 42, 41, 42, 43, 44, 45, 46, 45, 46, 47, 46],\n      dtype=int32)"
     },
     "execution_count": 59,
     "metadata": {},
     "output_type": "execute_result"
    }
   ],
   "source": [
    "walk = steps.cumsum()\n",
    "walk"
   ],
   "metadata": {
    "collapsed": false,
    "ExecuteTime": {
     "end_time": "2024-12-11T03:11:21.101708Z",
     "start_time": "2024-12-11T03:11:21.081606Z"
    }
   },
   "id": "39344f922ee193c9",
   "execution_count": 59
  },
  {
   "cell_type": "code",
   "outputs": [],
   "source": [],
   "metadata": {
    "collapsed": false
   },
   "id": "897aa6076c6a9a07"
  }
 ],
 "metadata": {
  "kernelspec": {
   "display_name": "Python 3 (ipykernel)",
   "language": "python",
   "name": "python3"
  },
  "language_info": {
   "codemirror_mode": {
    "name": "ipython",
    "version": 3
   },
   "file_extension": ".py",
   "mimetype": "text/x-python",
   "name": "python",
   "nbconvert_exporter": "python",
   "pygments_lexer": "ipython3",
   "version": "3.7.11"
  }
 },
 "nbformat": 4,
 "nbformat_minor": 5
}
