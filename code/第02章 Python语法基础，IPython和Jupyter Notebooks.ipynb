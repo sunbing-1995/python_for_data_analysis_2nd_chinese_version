{
 "cells": [
  {
   "cell_type": "markdown",
   "id": "75849356-8749-4864-9c39-618d5308b0c4",
   "metadata": {},
   "source": [
    "# 第2章 Python语法基础，IPython和Jupyter Notebooks"
   ]
  },
  {
   "cell_type": "markdown",
   "id": "923bff09-b941-4b0a-858c-5098f23eff01",
   "metadata": {},
   "source": [
    "## 2.1 Python解释器"
   ]
  },
  {
   "cell_type": "markdown",
   "id": "96946432-5db3-4161-b618-0f9898293ec5",
   "metadata": {},
   "source": [
    "## 2.2 IPython基础"
   ]
  },
  {
   "cell_type": "markdown",
   "id": "5d014dea-d20e-4ee5-afff-672a3a02b1a4",
   "metadata": {},
   "source": [
    "### 运行IPython Shell"
   ]
  },
  {
   "cell_type": "markdown",
   "id": "5b4a1e8b-5545-4a91-9dc5-ac1e2189a084",
   "metadata": {},
   "source": [
    "### 运行Jupyter Notebook"
   ]
  },
  {
   "cell_type": "markdown",
   "id": "7b4bad9f-f82f-4375-bc2c-853bac0ea66d",
   "metadata": {},
   "source": [
    "### Tab补全"
   ]
  },
  {
   "cell_type": "markdown",
   "id": "159720b0-e3c4-48a3-9bc8-01615e1506cb",
   "metadata": {},
   "source": [
    "### 自省"
   ]
  },
  {
   "cell_type": "code",
   "execution_count": 4,
   "id": "bccaef37-7408-4327-8016-e81fb0a50a11",
   "metadata": {},
   "outputs": [],
   "source": [
    "b = [1, 2, 3]"
   ]
  },
  {
   "cell_type": "code",
   "execution_count": 5,
   "id": "04203729-e87c-465b-a269-379a073e2baf",
   "metadata": {},
   "outputs": [
    {
     "data": {
      "text/plain": [
       "\u001b[1;31mType:\u001b[0m        list\n",
       "\u001b[1;31mString form:\u001b[0m [1, 2, 3]\n",
       "\u001b[1;31mLength:\u001b[0m      3\n",
       "\u001b[1;31mDocstring:\u001b[0m  \n",
       "Built-in mutable sequence.\n",
       "\n",
       "If no argument is given, the constructor creates a new empty list.\n",
       "The argument must be an iterable if specified."
      ]
     },
     "metadata": {},
     "output_type": "display_data"
    }
   ],
   "source": [
    "b?"
   ]
  },
  {
   "cell_type": "code",
   "execution_count": 6,
   "id": "240f8778-5ce1-4adb-a763-91744c6b0d14",
   "metadata": {},
   "outputs": [
    {
     "data": {
      "text/plain": [
       "\u001b[1;31mDocstring:\u001b[0m\n",
       "print(value, ..., sep=' ', end='\\n', file=sys.stdout, flush=False)\n",
       "\n",
       "Prints the values to a stream, or to sys.stdout by default.\n",
       "Optional keyword arguments:\n",
       "file:  a file-like object (stream); defaults to the current sys.stdout.\n",
       "sep:   string inserted between values, default a space.\n",
       "end:   string appended after the last value, default a newline.\n",
       "flush: whether to forcibly flush the stream.\n",
       "\u001b[1;31mType:\u001b[0m      builtin_function_or_method"
      ]
     },
     "metadata": {},
     "output_type": "display_data"
    }
   ],
   "source": [
    "print?"
   ]
  },
  {
   "cell_type": "code",
   "execution_count": 7,
   "id": "7f013355-74aa-4e76-b29e-9a5fb820b5f6",
   "metadata": {},
   "outputs": [],
   "source": [
    "def add_numbers(a, b):\n",
    "    \"\"\"\n",
    "    Add two numbers together\n",
    "\n",
    "    Returns\n",
    "    -------\n",
    "    the_sum : type of arguments\n",
    "    \"\"\"\n",
    "    return a + b"
   ]
  },
  {
   "cell_type": "code",
   "execution_count": 8,
   "id": "ac58353a-e799-4df3-a304-4128b5d04cbf",
   "metadata": {},
   "outputs": [
    {
     "data": {
      "text/plain": [
       "\u001b[1;31mSignature:\u001b[0m \u001b[0madd_numbers\u001b[0m\u001b[1;33m(\u001b[0m\u001b[0ma\u001b[0m\u001b[1;33m,\u001b[0m \u001b[0mb\u001b[0m\u001b[1;33m)\u001b[0m\u001b[1;33m\u001b[0m\u001b[1;33m\u001b[0m\u001b[0m\n",
       "\u001b[1;31mDocstring:\u001b[0m\n",
       "Add two numbers together\n",
       "\n",
       "Returns\n",
       "-------\n",
       "the_sum : type of arguments\n",
       "\u001b[1;31mFile:\u001b[0m      c:\\users\\bing\\appdata\\local\\temp\\ipykernel_12184\\1411870314.py\n",
       "\u001b[1;31mType:\u001b[0m      function"
      ]
     },
     "metadata": {},
     "output_type": "display_data"
    }
   ],
   "source": [
    "add_numbers?"
   ]
  },
  {
   "cell_type": "code",
   "execution_count": 9,
   "id": "eb8a39ec-c8f5-4575-ac51-8be250ab6b16",
   "metadata": {},
   "outputs": [
    {
     "data": {
      "text/plain": [
       "\u001b[1;31mSignature:\u001b[0m \u001b[0madd_numbers\u001b[0m\u001b[1;33m(\u001b[0m\u001b[0ma\u001b[0m\u001b[1;33m,\u001b[0m \u001b[0mb\u001b[0m\u001b[1;33m)\u001b[0m\u001b[1;33m\u001b[0m\u001b[1;33m\u001b[0m\u001b[0m\n",
       "\u001b[1;31mSource:\u001b[0m   \n",
       "\u001b[1;32mdef\u001b[0m \u001b[0madd_numbers\u001b[0m\u001b[1;33m(\u001b[0m\u001b[0ma\u001b[0m\u001b[1;33m,\u001b[0m \u001b[0mb\u001b[0m\u001b[1;33m)\u001b[0m\u001b[1;33m:\u001b[0m\u001b[1;33m\n",
       "\u001b[0m    \u001b[1;34m\"\"\"\n",
       "    Add two numbers together\n",
       "\n",
       "    Returns\n",
       "    -------\n",
       "    the_sum : type of arguments\n",
       "    \"\"\"\u001b[0m\u001b[1;33m\n",
       "\u001b[0m    \u001b[1;32mreturn\u001b[0m \u001b[0ma\u001b[0m \u001b[1;33m+\u001b[0m \u001b[0mb\u001b[0m\u001b[1;33m\u001b[0m\u001b[1;33m\u001b[0m\u001b[0m\n",
       "\u001b[1;31mFile:\u001b[0m      c:\\users\\bing\\appdata\\local\\temp\\ipykernel_12184\\1411870314.py\n",
       "\u001b[1;31mType:\u001b[0m      function"
      ]
     },
     "metadata": {},
     "output_type": "display_data"
    }
   ],
   "source": [
    "add_numbers??"
   ]
  },
  {
   "cell_type": "code",
   "execution_count": 11,
   "id": "a876c5f5-4bb6-4790-9369-8749b6b5ffe9",
   "metadata": {},
   "outputs": [
    {
     "data": {
      "text/plain": [
       "np.__loader__\n",
       "np.load\n",
       "np.loadtxt"
      ]
     },
     "metadata": {},
     "output_type": "display_data"
    }
   ],
   "source": [
    "import numpy as np\n",
    "np.*load*?"
   ]
  },
  {
   "cell_type": "code",
   "execution_count": 14,
   "id": "16022b89-1cbb-4ec1-a3b2-80744531b9c7",
   "metadata": {},
   "outputs": [],
   "source": [
    "%run ipython_script_test.py"
   ]
  },
  {
   "cell_type": "code",
   "execution_count": 15,
   "id": "00874ec6-1baf-4c3c-89f8-7f490bb24cb7",
   "metadata": {},
   "outputs": [
    {
     "data": {
      "text/plain": [
       "(7.5, 1.4666666666666666)"
      ]
     },
     "execution_count": 15,
     "metadata": {},
     "output_type": "execute_result"
    }
   ],
   "source": [
    "c,result"
   ]
  },
  {
   "cell_type": "code",
   "execution_count": 16,
   "id": "c4c69a56-f113-4e42-9bba-f379efa287b2",
   "metadata": {},
   "outputs": [],
   "source": [
    "# %load ipython_script_test.py\n",
    "def f(x, y, z):\n",
    "    return (x + y) / z\n",
    "\n",
    "a = 5\n",
    "b = 6\n",
    "c = 7.5\n",
    "\n",
    "result = f(a, b, c)"
   ]
  },
  {
   "cell_type": "markdown",
   "id": "0476fff7-a959-4402-8b29-d9ab8ce6db5d",
   "metadata": {},
   "source": [
    "### 中断运行的代码"
   ]
  },
  {
   "cell_type": "markdown",
   "id": "33ac6b7d-8106-481e-b308-9610fc06f3c3",
   "metadata": {},
   "source": [
    "### 从剪贴板执行程序\n",
    "- %paste\n",
    "- %cpaste"
   ]
  },
  {
   "cell_type": "markdown",
   "id": "af95aee8-084a-45f3-a331-b7b62dc064e2",
   "metadata": {},
   "source": [
    "### 键盘快捷键"
   ]
  },
  {
   "cell_type": "markdown",
   "id": "2ead8b2a-0a5d-4776-966f-58adff903ae2",
   "metadata": {},
   "source": [
    "### 魔术命令\n",
    "* %timeit\n",
    "* %debug\n",
    "* %pwd\n",
    "* %load"
   ]
  },
  {
   "cell_type": "markdown",
   "id": "c1cf308b-ff45-40a4-af10-c8cc83123a08",
   "metadata": {},
   "source": [
    "### 集成Matplotlib\n",
    "* %matplotlib inline"
   ]
  },
  {
   "cell_type": "markdown",
   "id": "7fd62265-fab8-4ec1-91a8-a1bc09625048",
   "metadata": {},
   "source": [
    "## 2.3 Python语法基础"
   ]
  },
  {
   "cell_type": "markdown",
   "id": "ccc15af6-d632-4d4d-94cb-e93496bd56aa",
   "metadata": {},
   "source": [
    "### 语言的语义"
   ]
  },
  {
   "cell_type": "markdown",
   "id": "98c03c43-55b8-4b0a-8aee-712d409c5371",
   "metadata": {},
   "source": [
    "### 使用缩进，而不是括号"
   ]
  },
  {
   "cell_type": "markdown",
   "id": "3ea2da81-a0c3-4dce-946e-e04cf8b90897",
   "metadata": {},
   "source": [
    "### 万物皆对象"
   ]
  },
  {
   "cell_type": "markdown",
   "id": "a2cee426-1ae9-4f4c-814b-8f31679b0a6b",
   "metadata": {},
   "source": [
    "### 注释"
   ]
  },
  {
   "cell_type": "markdown",
   "id": "3f2f618d-7a76-470d-a3ef-6ca87b78e2fc",
   "metadata": {},
   "source": [
    "### 函数和对象方法调用"
   ]
  },
  {
   "cell_type": "markdown",
   "id": "491c93cb-9823-4b95-9411-642a3c7d548f",
   "metadata": {},
   "source": [
    "### 变量和参数传递"
   ]
  },
  {
   "cell_type": "markdown",
   "id": "a5842062-ae33-452d-ad33-9e46da81982a",
   "metadata": {},
   "source": [
    "### 动态引用，强类型"
   ]
  },
  {
   "cell_type": "code",
   "execution_count": 2,
   "id": "e407685e-2c6a-4227-b582-db96de72fec4",
   "metadata": {},
   "outputs": [
    {
     "data": {
      "text/plain": [
       "(True, True, int, float)"
      ]
     },
     "execution_count": 2,
     "metadata": {},
     "output_type": "execute_result"
    }
   ],
   "source": [
    "a = 5; b = 4.5\n",
    "isinstance(a, (int, float)), isinstance(b, (int, float)),type(a),type(b)"
   ]
  },
  {
   "cell_type": "markdown",
   "id": "a6ff74ee-0295-4569-88d8-bb143aa13159",
   "metadata": {},
   "source": [
    "### 属性和方法"
   ]
  },
  {
   "cell_type": "code",
   "execution_count": 3,
   "id": "5eb244c4-cf28-4f28-ae9a-ffbc2d5b9bd3",
   "metadata": {},
   "outputs": [
    {
     "data": {
      "text/plain": [
       "<function str.split(sep=None, maxsplit=-1)>"
      ]
     },
     "execution_count": 3,
     "metadata": {},
     "output_type": "execute_result"
    }
   ],
   "source": [
    "a = 'foo'\n",
    "getattr(a, 'split')"
   ]
  },
  {
   "cell_type": "markdown",
   "id": "479e8ff8-cce5-4598-b9b5-a21bd29b6d30",
   "metadata": {},
   "source": [
    "### 鸭子类型"
   ]
  },
  {
   "cell_type": "markdown",
   "id": "a3d7a17b-c511-47d2-807c-c787297d3688",
   "metadata": {},
   "source": [
    "### 引入"
   ]
  },
  {
   "cell_type": "markdown",
   "id": "8fb1499e-a029-4e1e-b167-f82cc924f419",
   "metadata": {},
   "source": [
    "### 二元运算符和比较运算符"
   ]
  },
  {
   "cell_type": "markdown",
   "id": "240dd43d-057f-4f90-a63b-23931c9332d0",
   "metadata": {},
   "source": [
    "### 可变与不可变对象"
   ]
  },
  {
   "cell_type": "markdown",
   "id": "4c794497-fb37-42d3-9b19-248f00182e42",
   "metadata": {},
   "source": [
    "### 标量类型"
   ]
  },
  {
   "cell_type": "markdown",
   "id": "e6a52331-95f9-42d1-8d9a-45d9064069d7",
   "metadata": {},
   "source": [
    "### 数值类型"
   ]
  },
  {
   "cell_type": "markdown",
   "id": "3019367f-46d5-41e5-ac8b-4ffc11af7278",
   "metadata": {},
   "source": [
    "### 字符串"
   ]
  },
  {
   "cell_type": "code",
   "execution_count": 14,
   "id": "2c0f9f1e-122f-4b71-be0e-61d889c56c70",
   "metadata": {},
   "outputs": [
    {
     "data": {
      "text/plain": [
       "(3, '\\nThis is a longer string that\\nspans multiple lines\\n')"
      ]
     },
     "execution_count": 14,
     "metadata": {},
     "output_type": "execute_result"
    }
   ],
   "source": [
    "c = \"\"\"\n",
    "This is a longer string that\n",
    "spans multiple lines\n",
    "\"\"\"\n",
    "c.count('\\n'),c"
   ]
  },
  {
   "cell_type": "code",
   "execution_count": 15,
   "id": "1f51d5a1-6838-49cf-91e9-06cc024b18ad",
   "metadata": {},
   "outputs": [
    {
     "data": {
      "text/plain": [
       "False"
      ]
     },
     "execution_count": 15,
     "metadata": {},
     "output_type": "execute_result"
    }
   ],
   "source": [
    "# 不可变类型\n",
    "a = 'this is a string' \n",
    "b = a.replace('string', 'longer string')\n",
    "a is b"
   ]
  },
  {
   "cell_type": "code",
   "execution_count": 16,
   "id": "d2af983a-332c-4eef-b279-c75f0312723c",
   "metadata": {},
   "outputs": [
    {
     "data": {
      "text/plain": [
       "(['p', 'y', 't', 'h', 'o', 'n'], 'pyt')"
      ]
     },
     "execution_count": 16,
     "metadata": {},
     "output_type": "execute_result"
    }
   ],
   "source": [
    "# 切片\n",
    "s = 'python'\n",
    "list(s), s[:3]"
   ]
  },
  {
   "cell_type": "code",
   "execution_count": 17,
   "id": "4b1f9005-ebe6-4972-845e-5e3204620707",
   "metadata": {},
   "outputs": [
    {
     "data": {
      "text/plain": [
       "'this\\\\has\\\\no\\\\special\\\\characters'"
      ]
     },
     "execution_count": 17,
     "metadata": {},
     "output_type": "execute_result"
    }
   ],
   "source": [
    "# 转义\n",
    "# r row原始的 表明字符就是它自身 不转义\n",
    "s = r'this\\has\\no\\special\\characters' \n",
    "s"
   ]
  },
  {
   "cell_type": "code",
   "execution_count": 18,
   "id": "df112046-65ed-4c43-9326-5a4ced55f9ae",
   "metadata": {},
   "outputs": [
    {
     "data": {
      "text/plain": [
       "'4.56 Argentine Pesos are worth US$1'"
      ]
     },
     "execution_count": 18,
     "metadata": {},
     "output_type": "execute_result"
    }
   ],
   "source": [
    "# 格式化\n",
    "template = '{0:.2f} {1:s} are worth US${2:d}'\n",
    "template.format(4.5560, 'Argentine Pesos', 1)"
   ]
  },
  {
   "cell_type": "markdown",
   "id": "d79be02b-e4c7-4e87-b2d2-b809c39f8410",
   "metadata": {},
   "source": [
    "### 字节和Unicode"
   ]
  },
  {
   "cell_type": "markdown",
   "id": "6c87dcfb-2315-4cee-87fb-6e9dc751ec93",
   "metadata": {},
   "source": [
    "### 布尔值"
   ]
  },
  {
   "cell_type": "code",
   "execution_count": 19,
   "id": "3c87b384-29e9-4ac5-911c-59b84e8bbd17",
   "metadata": {},
   "outputs": [
    {
     "data": {
      "text/plain": [
       "(True, False)"
      ]
     },
     "execution_count": 19,
     "metadata": {},
     "output_type": "execute_result"
    }
   ],
   "source": [
    "True or False, True and False"
   ]
  },
  {
   "cell_type": "markdown",
   "id": "2318e326-c728-4b1b-9e5a-bb22ddf89971",
   "metadata": {},
   "source": [
    "### 类型转换"
   ]
  },
  {
   "cell_type": "markdown",
   "id": "1bb40c0b-474a-4df5-b9a8-44aa87434a0c",
   "metadata": {},
   "source": [
    "### None"
   ]
  },
  {
   "cell_type": "markdown",
   "id": "a10ca09a-7ae1-4bd5-8405-58b554a97aac",
   "metadata": {},
   "source": [
    "### 日期和时间"
   ]
  },
  {
   "cell_type": "code",
   "execution_count": 24,
   "id": "afdfcb35-8363-4196-b9c9-290f9660048c",
   "metadata": {},
   "outputs": [
    {
     "data": {
      "text/plain": [
       "(29, 30, datetime.date(2011, 10, 29), datetime.time(20, 30, 21))"
      ]
     },
     "execution_count": 24,
     "metadata": {},
     "output_type": "execute_result"
    }
   ],
   "source": [
    "from datetime import datetime, date, time\n",
    "dt = datetime(2011, 10, 29, 20, 30, 21)\n",
    "dt.day, dt.minute, dt.date(), dt.time()"
   ]
  },
  {
   "cell_type": "code",
   "execution_count": 27,
   "id": "9629cfe8-a8a7-4dd5-b06b-13a8541a61a7",
   "metadata": {},
   "outputs": [
    {
     "data": {
      "text/plain": [
       "'10/29/2011 20:30'"
      ]
     },
     "execution_count": 27,
     "metadata": {},
     "output_type": "execute_result"
    }
   ],
   "source": [
    "dt.strftime('%m/%d/%Y %H:%M') # format"
   ]
  },
  {
   "cell_type": "code",
   "execution_count": 28,
   "id": "ac510e0c-fc38-4126-96b9-92d929fdb3f7",
   "metadata": {},
   "outputs": [
    {
     "data": {
      "text/plain": [
       "datetime.datetime(2009, 10, 31, 0, 0)"
      ]
     },
     "execution_count": 28,
     "metadata": {},
     "output_type": "execute_result"
    }
   ],
   "source": [
    "datetime.strptime('20091031', '%Y%m%d') # parse"
   ]
  },
  {
   "cell_type": "code",
   "execution_count": 29,
   "id": "2300f45c-63f6-4fe4-b243-3c30438909bc",
   "metadata": {},
   "outputs": [
    {
     "data": {
      "text/plain": [
       "datetime.datetime(2011, 10, 29, 20, 0)"
      ]
     },
     "execution_count": 29,
     "metadata": {},
     "output_type": "execute_result"
    }
   ],
   "source": [
    "dt.replace(minute=0, second=0)"
   ]
  },
  {
   "cell_type": "code",
   "execution_count": 31,
   "id": "25422005-578e-4a17-a6d0-12f333f231f4",
   "metadata": {},
   "outputs": [
    {
     "data": {
      "text/plain": [
       "datetime.timedelta(days=17, seconds=7179)"
      ]
     },
     "execution_count": 31,
     "metadata": {},
     "output_type": "execute_result"
    }
   ],
   "source": [
    "dt2 = datetime(2011, 11, 15, 22, 30)\n",
    "dt2 - dt"
   ]
  },
  {
   "cell_type": "markdown",
   "id": "b5323562-9bcc-4a80-b3ba-885f7fbd642f",
   "metadata": {},
   "source": [
    "### 控制流\n",
    "* if、elif和else\n",
    "* for循环\n",
    "* While循环"
   ]
  },
  {
   "cell_type": "markdown",
   "id": "fc6ea5b3-d02f-410d-9de0-171a14b332fb",
   "metadata": {},
   "source": [
    "### pass"
   ]
  },
  {
   "cell_type": "markdown",
   "id": "c21de1aa-ccc9-4a9d-a29e-ea8724e43e16",
   "metadata": {},
   "source": [
    "### range\n",
    "返回一个迭代器"
   ]
  },
  {
   "cell_type": "markdown",
   "id": "fbd9accb-14f5-49d6-92f3-39e76fc4ac24",
   "metadata": {},
   "source": [
    "### 三元表达式"
   ]
  },
  {
   "cell_type": "code",
   "execution_count": 32,
   "id": "b4df8df6-40d6-4d22-a38d-c0ee7532715e",
   "metadata": {},
   "outputs": [
    {
     "data": {
      "text/plain": [
       "'Non-negative'"
      ]
     },
     "execution_count": 32,
     "metadata": {},
     "output_type": "execute_result"
    }
   ],
   "source": [
    "x = 5\n",
    "'Non-negative' if x >= 0 else 'Negative'"
   ]
  }
 ],
 "metadata": {
  "kernelspec": {
   "display_name": "Python 3 (ipykernel)",
   "language": "python",
   "name": "python3"
  },
  "language_info": {
   "codemirror_mode": {
    "name": "ipython",
    "version": 3
   },
   "file_extension": ".py",
   "mimetype": "text/x-python",
   "name": "python",
   "nbconvert_exporter": "python",
   "pygments_lexer": "ipython3",
   "version": "3.8.18"
  }
 },
 "nbformat": 4,
 "nbformat_minor": 5
}
